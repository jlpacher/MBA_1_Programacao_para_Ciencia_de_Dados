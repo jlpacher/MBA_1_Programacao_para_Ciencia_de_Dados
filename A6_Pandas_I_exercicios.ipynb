{
 "cells": [
  {
   "cell_type": "markdown",
   "metadata": {
    "id": "zMmHU-9ITNR-"
   },
   "source": [
    "# <font color=\"blue\"> MBA em Ciência de Dados</font>\n",
    "# <font color=\"blue\">Programação para Ciência de Dados</font>\n",
    "\n",
    "## <font color=\"blue\">Pandas Parte I - Exercícios</font>\n",
    "**Material Produzido por Luis Gustavo Nonato**<br>\n",
    "**Cemeai - ICMC/USP São Carlos**\n",
    "---"
   ]
  },
  {
   "cell_type": "markdown",
   "metadata": {
    "id": "owft8wpkTNSA"
   },
   "source": [
    "#### <font color=\"red\">Recomenda-se fortemente que os exercícios sejam feitos sem consultar as respostas antecipadamente.</font>"
   ]
  },
  {
   "cell_type": "markdown",
   "metadata": {
    "id": "ooQScKsYTNSA"
   },
   "source": [
    "Os exercícios a seguir farão uso do arquivo <font style=\"font-family: monaco\">WorldCups.csv</font> disponível para download no moodle.\n",
    "\n",
    "O arquivo <font style=\"font-family: monaco\">WorldCups.csv</font> possui as seguintes colunas:\n",
    "- **Year**: ano da copa\n",
    "- **Country**: país sede\n",
    "- **Winner**: campeão\n",
    "- **RunnersUp**: disputou a final com o campeão\n",
    "- **Third**: terceiro colocado\n",
    "- **Fourth**: quarto colocado\n",
    "- **GoalsScored**: número de gols na copa\n",
    "- **QualifiedTeams**: número de times que disputaram a copa\n",
    "- **MatchesPlayed**: número de jogos\n",
    "- **Attendance**: número de espectadores (público)"
   ]
  },
  {
   "cell_type": "code",
   "execution_count": 1,
   "metadata": {
    "id": "QG0EzGL1TNSB"
   },
   "outputs": [],
   "source": [
    "import numpy as np\n",
    "import pandas as pd"
   ]
  },
  {
   "cell_type": "markdown",
   "metadata": {
    "id": "76IJAeY6TNSB"
   },
   "source": [
    "### Exercício 1) \n",
    "Utilizando o <font color='blue'>pandas</font>, leia o arquivo <font style=\"font-family: monaco\">WorldCups.csv</font>, definindo a coluna 'Year' como índice das linhas, e armazene-o em uma variável tipo DataFrame. \n",
    "- Exiba as 5 primeiras linhas do DataFrame\n",
    "- Exiba o tipo de dado de cada coluna\n",
    "- Imprima o número de linhas do DataFrame"
   ]
  },
  {
   "cell_type": "code",
   "execution_count": 2,
   "metadata": {
    "id": "XXVgkoOTTNSB"
   },
   "outputs": [
    {
     "data": {
      "text/html": [
       "<div>\n",
       "<style scoped>\n",
       "    .dataframe tbody tr th:only-of-type {\n",
       "        vertical-align: middle;\n",
       "    }\n",
       "\n",
       "    .dataframe tbody tr th {\n",
       "        vertical-align: top;\n",
       "    }\n",
       "\n",
       "    .dataframe thead th {\n",
       "        text-align: right;\n",
       "    }\n",
       "</style>\n",
       "<table border=\"1\" class=\"dataframe\">\n",
       "  <thead>\n",
       "    <tr style=\"text-align: right;\">\n",
       "      <th></th>\n",
       "      <th>Country</th>\n",
       "      <th>Winner</th>\n",
       "      <th>RunnersUp</th>\n",
       "      <th>Third</th>\n",
       "      <th>Fourth</th>\n",
       "      <th>GoalsScored</th>\n",
       "      <th>QualifiedTeams</th>\n",
       "      <th>MatchesPlayed</th>\n",
       "      <th>Attendance</th>\n",
       "    </tr>\n",
       "    <tr>\n",
       "      <th>Year</th>\n",
       "      <th></th>\n",
       "      <th></th>\n",
       "      <th></th>\n",
       "      <th></th>\n",
       "      <th></th>\n",
       "      <th></th>\n",
       "      <th></th>\n",
       "      <th></th>\n",
       "      <th></th>\n",
       "    </tr>\n",
       "  </thead>\n",
       "  <tbody>\n",
       "    <tr>\n",
       "      <th>1930</th>\n",
       "      <td>Uruguay</td>\n",
       "      <td>Uruguay</td>\n",
       "      <td>Argentina</td>\n",
       "      <td>USA</td>\n",
       "      <td>Yugoslavia</td>\n",
       "      <td>70</td>\n",
       "      <td>13</td>\n",
       "      <td>18</td>\n",
       "      <td>590549</td>\n",
       "    </tr>\n",
       "    <tr>\n",
       "      <th>1934</th>\n",
       "      <td>Italy</td>\n",
       "      <td>Italy</td>\n",
       "      <td>Czechoslovakia</td>\n",
       "      <td>Germany</td>\n",
       "      <td>Austria</td>\n",
       "      <td>70</td>\n",
       "      <td>16</td>\n",
       "      <td>17</td>\n",
       "      <td>363000</td>\n",
       "    </tr>\n",
       "    <tr>\n",
       "      <th>1938</th>\n",
       "      <td>France</td>\n",
       "      <td>Italy</td>\n",
       "      <td>Hungary</td>\n",
       "      <td>Brazil</td>\n",
       "      <td>Sweden</td>\n",
       "      <td>84</td>\n",
       "      <td>15</td>\n",
       "      <td>18</td>\n",
       "      <td>375700</td>\n",
       "    </tr>\n",
       "    <tr>\n",
       "      <th>1950</th>\n",
       "      <td>Brazil</td>\n",
       "      <td>Uruguay</td>\n",
       "      <td>Brazil</td>\n",
       "      <td>Sweden</td>\n",
       "      <td>Spain</td>\n",
       "      <td>88</td>\n",
       "      <td>13</td>\n",
       "      <td>22</td>\n",
       "      <td>1045246</td>\n",
       "    </tr>\n",
       "    <tr>\n",
       "      <th>1954</th>\n",
       "      <td>Switzerland</td>\n",
       "      <td>Germany FR</td>\n",
       "      <td>Hungary</td>\n",
       "      <td>Austria</td>\n",
       "      <td>Uruguay</td>\n",
       "      <td>140</td>\n",
       "      <td>16</td>\n",
       "      <td>26</td>\n",
       "      <td>768607</td>\n",
       "    </tr>\n",
       "  </tbody>\n",
       "</table>\n",
       "</div>"
      ],
      "text/plain": [
       "          Country      Winner       RunnersUp    Third      Fourth  \\\n",
       "Year                                                                 \n",
       "1930      Uruguay     Uruguay       Argentina      USA  Yugoslavia   \n",
       "1934        Italy       Italy  Czechoslovakia  Germany     Austria   \n",
       "1938       France       Italy         Hungary   Brazil      Sweden   \n",
       "1950       Brazil     Uruguay          Brazil   Sweden       Spain   \n",
       "1954  Switzerland  Germany FR         Hungary  Austria     Uruguay   \n",
       "\n",
       "      GoalsScored  QualifiedTeams  MatchesPlayed  Attendance  \n",
       "Year                                                          \n",
       "1930           70              13             18      590549  \n",
       "1934           70              16             17      363000  \n",
       "1938           84              15             18      375700  \n",
       "1950           88              13             22     1045246  \n",
       "1954          140              16             26      768607  "
      ]
     },
     "execution_count": 2,
     "metadata": {},
     "output_type": "execute_result"
    }
   ],
   "source": [
    "# SOLUÇÃO\n",
    "df = pd.read_csv('WorldCups.csv', index_col='Year')\n",
    "df.head()"
   ]
  },
  {
   "cell_type": "code",
   "execution_count": 3,
   "metadata": {
    "id": "IzgK9twDTNSC"
   },
   "outputs": [
    {
     "data": {
      "text/plain": [
       "Country           object\n",
       "Winner            object\n",
       "RunnersUp         object\n",
       "Third             object\n",
       "Fourth            object\n",
       "GoalsScored        int64\n",
       "QualifiedTeams     int64\n",
       "MatchesPlayed      int64\n",
       "Attendance         int64\n",
       "dtype: object"
      ]
     },
     "execution_count": 3,
     "metadata": {},
     "output_type": "execute_result"
    }
   ],
   "source": [
    "# tipo de dado de cada coluna\n",
    "df.dtypes"
   ]
  },
  {
   "cell_type": "code",
   "execution_count": 4,
   "metadata": {
    "id": "Jei96_30TNSC"
   },
   "outputs": [
    {
     "data": {
      "text/plain": [
       "20"
      ]
     },
     "execution_count": 4,
     "metadata": {},
     "output_type": "execute_result"
    }
   ],
   "source": [
    "# numero de linhas\n",
    "df.shape[0]"
   ]
  },
  {
   "cell_type": "markdown",
   "metadata": {
    "id": "WGBwwMA0TNSC"
   },
   "source": [
    "### Exercício 2) \n",
    "Remova as colunas 'QualifiedTeams' e 'MatchesPlayed' do DataFrame."
   ]
  },
  {
   "cell_type": "code",
   "execution_count": 6,
   "metadata": {
    "id": "CpbwPoMYTNSC"
   },
   "outputs": [
    {
     "data": {
      "text/html": [
       "<div>\n",
       "<style scoped>\n",
       "    .dataframe tbody tr th:only-of-type {\n",
       "        vertical-align: middle;\n",
       "    }\n",
       "\n",
       "    .dataframe tbody tr th {\n",
       "        vertical-align: top;\n",
       "    }\n",
       "\n",
       "    .dataframe thead th {\n",
       "        text-align: right;\n",
       "    }\n",
       "</style>\n",
       "<table border=\"1\" class=\"dataframe\">\n",
       "  <thead>\n",
       "    <tr style=\"text-align: right;\">\n",
       "      <th></th>\n",
       "      <th>Country</th>\n",
       "      <th>Winner</th>\n",
       "      <th>RunnersUp</th>\n",
       "      <th>Third</th>\n",
       "      <th>Fourth</th>\n",
       "      <th>GoalsScored</th>\n",
       "      <th>Attendance</th>\n",
       "    </tr>\n",
       "    <tr>\n",
       "      <th>Year</th>\n",
       "      <th></th>\n",
       "      <th></th>\n",
       "      <th></th>\n",
       "      <th></th>\n",
       "      <th></th>\n",
       "      <th></th>\n",
       "      <th></th>\n",
       "    </tr>\n",
       "  </thead>\n",
       "  <tbody>\n",
       "    <tr>\n",
       "      <th>1930</th>\n",
       "      <td>Uruguay</td>\n",
       "      <td>Uruguay</td>\n",
       "      <td>Argentina</td>\n",
       "      <td>USA</td>\n",
       "      <td>Yugoslavia</td>\n",
       "      <td>70</td>\n",
       "      <td>590549</td>\n",
       "    </tr>\n",
       "    <tr>\n",
       "      <th>1934</th>\n",
       "      <td>Italy</td>\n",
       "      <td>Italy</td>\n",
       "      <td>Czechoslovakia</td>\n",
       "      <td>Germany</td>\n",
       "      <td>Austria</td>\n",
       "      <td>70</td>\n",
       "      <td>363000</td>\n",
       "    </tr>\n",
       "    <tr>\n",
       "      <th>1938</th>\n",
       "      <td>France</td>\n",
       "      <td>Italy</td>\n",
       "      <td>Hungary</td>\n",
       "      <td>Brazil</td>\n",
       "      <td>Sweden</td>\n",
       "      <td>84</td>\n",
       "      <td>375700</td>\n",
       "    </tr>\n",
       "    <tr>\n",
       "      <th>1950</th>\n",
       "      <td>Brazil</td>\n",
       "      <td>Uruguay</td>\n",
       "      <td>Brazil</td>\n",
       "      <td>Sweden</td>\n",
       "      <td>Spain</td>\n",
       "      <td>88</td>\n",
       "      <td>1045246</td>\n",
       "    </tr>\n",
       "    <tr>\n",
       "      <th>1954</th>\n",
       "      <td>Switzerland</td>\n",
       "      <td>Germany FR</td>\n",
       "      <td>Hungary</td>\n",
       "      <td>Austria</td>\n",
       "      <td>Uruguay</td>\n",
       "      <td>140</td>\n",
       "      <td>768607</td>\n",
       "    </tr>\n",
       "    <tr>\n",
       "      <th>1958</th>\n",
       "      <td>Sweden</td>\n",
       "      <td>Brazil</td>\n",
       "      <td>Sweden</td>\n",
       "      <td>France</td>\n",
       "      <td>Germany FR</td>\n",
       "      <td>126</td>\n",
       "      <td>819810</td>\n",
       "    </tr>\n",
       "    <tr>\n",
       "      <th>1962</th>\n",
       "      <td>Chile</td>\n",
       "      <td>Brazil</td>\n",
       "      <td>Czechoslovakia</td>\n",
       "      <td>Chile</td>\n",
       "      <td>Yugoslavia</td>\n",
       "      <td>89</td>\n",
       "      <td>893172</td>\n",
       "    </tr>\n",
       "    <tr>\n",
       "      <th>1966</th>\n",
       "      <td>England</td>\n",
       "      <td>England</td>\n",
       "      <td>Germany FR</td>\n",
       "      <td>Portugal</td>\n",
       "      <td>Soviet Union</td>\n",
       "      <td>89</td>\n",
       "      <td>1563135</td>\n",
       "    </tr>\n",
       "    <tr>\n",
       "      <th>1970</th>\n",
       "      <td>Mexico</td>\n",
       "      <td>Brazil</td>\n",
       "      <td>Italy</td>\n",
       "      <td>Germany FR</td>\n",
       "      <td>Uruguay</td>\n",
       "      <td>95</td>\n",
       "      <td>1603975</td>\n",
       "    </tr>\n",
       "    <tr>\n",
       "      <th>1974</th>\n",
       "      <td>Germany</td>\n",
       "      <td>Germany FR</td>\n",
       "      <td>Netherlands</td>\n",
       "      <td>Poland</td>\n",
       "      <td>Brazil</td>\n",
       "      <td>97</td>\n",
       "      <td>1865753</td>\n",
       "    </tr>\n",
       "    <tr>\n",
       "      <th>1978</th>\n",
       "      <td>Argentina</td>\n",
       "      <td>Argentina</td>\n",
       "      <td>Netherlands</td>\n",
       "      <td>Brazil</td>\n",
       "      <td>Italy</td>\n",
       "      <td>102</td>\n",
       "      <td>1545791</td>\n",
       "    </tr>\n",
       "    <tr>\n",
       "      <th>1982</th>\n",
       "      <td>Spain</td>\n",
       "      <td>Italy</td>\n",
       "      <td>Germany FR</td>\n",
       "      <td>Poland</td>\n",
       "      <td>France</td>\n",
       "      <td>146</td>\n",
       "      <td>2109723</td>\n",
       "    </tr>\n",
       "    <tr>\n",
       "      <th>1986</th>\n",
       "      <td>Mexico</td>\n",
       "      <td>Argentina</td>\n",
       "      <td>Germany FR</td>\n",
       "      <td>France</td>\n",
       "      <td>Belgium</td>\n",
       "      <td>132</td>\n",
       "      <td>2394031</td>\n",
       "    </tr>\n",
       "    <tr>\n",
       "      <th>1990</th>\n",
       "      <td>Italy</td>\n",
       "      <td>Germany FR</td>\n",
       "      <td>Argentina</td>\n",
       "      <td>Italy</td>\n",
       "      <td>England</td>\n",
       "      <td>115</td>\n",
       "      <td>2516215</td>\n",
       "    </tr>\n",
       "    <tr>\n",
       "      <th>1994</th>\n",
       "      <td>USA</td>\n",
       "      <td>Brazil</td>\n",
       "      <td>Italy</td>\n",
       "      <td>Sweden</td>\n",
       "      <td>Bulgaria</td>\n",
       "      <td>141</td>\n",
       "      <td>3587538</td>\n",
       "    </tr>\n",
       "    <tr>\n",
       "      <th>1998</th>\n",
       "      <td>France</td>\n",
       "      <td>France</td>\n",
       "      <td>Brazil</td>\n",
       "      <td>Croatia</td>\n",
       "      <td>Netherlands</td>\n",
       "      <td>171</td>\n",
       "      <td>2785100</td>\n",
       "    </tr>\n",
       "    <tr>\n",
       "      <th>2002</th>\n",
       "      <td>Korea/Japan</td>\n",
       "      <td>Brazil</td>\n",
       "      <td>Germany</td>\n",
       "      <td>Turkey</td>\n",
       "      <td>Korea Republic</td>\n",
       "      <td>161</td>\n",
       "      <td>2705197</td>\n",
       "    </tr>\n",
       "    <tr>\n",
       "      <th>2006</th>\n",
       "      <td>Germany</td>\n",
       "      <td>Italy</td>\n",
       "      <td>France</td>\n",
       "      <td>Germany</td>\n",
       "      <td>Portugal</td>\n",
       "      <td>147</td>\n",
       "      <td>3359439</td>\n",
       "    </tr>\n",
       "    <tr>\n",
       "      <th>2010</th>\n",
       "      <td>South Africa</td>\n",
       "      <td>Spain</td>\n",
       "      <td>Netherlands</td>\n",
       "      <td>Germany</td>\n",
       "      <td>Uruguay</td>\n",
       "      <td>145</td>\n",
       "      <td>3178856</td>\n",
       "    </tr>\n",
       "    <tr>\n",
       "      <th>2014</th>\n",
       "      <td>Brazil</td>\n",
       "      <td>Germany</td>\n",
       "      <td>Argentina</td>\n",
       "      <td>Netherlands</td>\n",
       "      <td>Brazil</td>\n",
       "      <td>171</td>\n",
       "      <td>3386810</td>\n",
       "    </tr>\n",
       "  </tbody>\n",
       "</table>\n",
       "</div>"
      ],
      "text/plain": [
       "           Country      Winner       RunnersUp        Third          Fourth  \\\n",
       "Year                                                                          \n",
       "1930       Uruguay     Uruguay       Argentina          USA      Yugoslavia   \n",
       "1934         Italy       Italy  Czechoslovakia      Germany         Austria   \n",
       "1938        France       Italy         Hungary       Brazil          Sweden   \n",
       "1950        Brazil     Uruguay          Brazil       Sweden           Spain   \n",
       "1954   Switzerland  Germany FR         Hungary      Austria         Uruguay   \n",
       "1958        Sweden      Brazil          Sweden       France      Germany FR   \n",
       "1962         Chile      Brazil  Czechoslovakia        Chile      Yugoslavia   \n",
       "1966       England     England      Germany FR     Portugal    Soviet Union   \n",
       "1970        Mexico      Brazil           Italy   Germany FR         Uruguay   \n",
       "1974       Germany  Germany FR     Netherlands       Poland          Brazil   \n",
       "1978     Argentina   Argentina     Netherlands       Brazil           Italy   \n",
       "1982         Spain       Italy      Germany FR       Poland          France   \n",
       "1986        Mexico   Argentina      Germany FR       France         Belgium   \n",
       "1990         Italy  Germany FR       Argentina        Italy         England   \n",
       "1994           USA      Brazil           Italy       Sweden        Bulgaria   \n",
       "1998        France      France          Brazil      Croatia     Netherlands   \n",
       "2002   Korea/Japan      Brazil         Germany       Turkey  Korea Republic   \n",
       "2006       Germany       Italy          France      Germany        Portugal   \n",
       "2010  South Africa       Spain     Netherlands      Germany         Uruguay   \n",
       "2014        Brazil     Germany       Argentina  Netherlands          Brazil   \n",
       "\n",
       "      GoalsScored  Attendance  \n",
       "Year                           \n",
       "1930           70      590549  \n",
       "1934           70      363000  \n",
       "1938           84      375700  \n",
       "1950           88     1045246  \n",
       "1954          140      768607  \n",
       "1958          126      819810  \n",
       "1962           89      893172  \n",
       "1966           89     1563135  \n",
       "1970           95     1603975  \n",
       "1974           97     1865753  \n",
       "1978          102     1545791  \n",
       "1982          146     2109723  \n",
       "1986          132     2394031  \n",
       "1990          115     2516215  \n",
       "1994          141     3587538  \n",
       "1998          171     2785100  \n",
       "2002          161     2705197  \n",
       "2006          147     3359439  \n",
       "2010          145     3178856  \n",
       "2014          171     3386810  "
      ]
     },
     "execution_count": 6,
     "metadata": {},
     "output_type": "execute_result"
    }
   ],
   "source": [
    "# SOLUÇÃO\n",
    "df.drop(['QualifiedTeams', 'MatchesPlayed'], axis=1)"
   ]
  },
  {
   "cell_type": "markdown",
   "metadata": {
    "id": "npk90vQoTNSD"
   },
   "source": [
    "### Exercício 3) \n",
    "Exiba os países sede da copa entre os anos 1954 e 1982 (inclusive)"
   ]
  },
  {
   "cell_type": "code",
   "execution_count": 16,
   "metadata": {
    "id": "RdpclgHUTNSD"
   },
   "outputs": [
    {
     "name": "stdout",
     "output_type": "stream",
     "text": [
      "\n",
      "Acessando as linhas com indice 4 a 11 e a coluna 0\n",
      "          Country\n",
      "Year             \n",
      "1954  Switzerland\n",
      "1958       Sweden\n",
      "1962        Chile\n",
      "1966      England\n",
      "1970       Mexico\n",
      "1974      Germany\n",
      "1978    Argentina\n",
      "1982        Spain\n",
      "\n",
      "Acessando as linhas entre os rótulos \"1954\" e \"1982\" na coluna \"Country\"\n",
      "Year\n",
      "1954    Switzerland\n",
      "1958         Sweden\n",
      "1962          Chile\n",
      "1966        England\n",
      "1970         Mexico\n",
      "1974        Germany\n",
      "1978      Argentina\n",
      "1982          Spain\n",
      "Name: Country, dtype: object\n"
     ]
    }
   ],
   "source": [
    "# SOLUÇÃO\n",
    "\n",
    "\n",
    "print('\\nAcessando as linhas com indice 4 a 11 e a coluna 0')\n",
    "print(df.iloc[4:12,0:1]) # slicing o DataFrame\n",
    "                         # o resutlado do slicing é um DataFrame (como um view do numpy)\n",
    "                         # note que o metodo iloc não inclui o último elemento\n",
    "    \n",
    "print('\\nAcessando as linhas entre os rótulos \"1954\" e \"1982\" na coluna \"Country\"')\n",
    "print(df.loc['1954':'1982','Country']) # acessando múltiplas linhas via slicing\n",
    "                                       # note que o metodo loc inclui o último elemento"
   ]
  },
  {
   "cell_type": "markdown",
   "metadata": {
    "id": "iKpz5SIYTNSD"
   },
   "source": [
    "### Exercício 4) \n",
    "Encontre e imprima:\n",
    "- os anos em que o Brasil ganhou a copa \n",
    "- os anos em que o Brasil jogou uma final (a final é dada pelas colunas 'Winner' e 'RunnersUp') \n",
    "- a proporção de vitórias do Brasil em finais"
   ]
  },
  {
   "cell_type": "code",
   "execution_count": 27,
   "metadata": {
    "id": "ee-537A5TNSD"
   },
   "outputs": [
    {
     "name": "stdout",
     "output_type": "stream",
     "text": [
      "anos em que o Brasil ganhou a copa:  [1958 1962 1970 1994 2002]\n",
      "anos em que o Brasil jogou uma final:  [1950 1958 1962 1970 1994 1998 2002]\n",
      "proporção:  0.7142857142857143\n"
     ]
    }
   ],
   "source": [
    "# SOLUÇÃO\n",
    "# O método loc aceita expressoes booleanas\n",
    "# print('anos em que o Brasil ganhou a copa: ', df.loc[df['Winner'] == 'Brazil'].index.values) \n",
    "\n",
    "ganhou = df.query(\"Winner == 'Brazil'\")\n",
    "participou = df.query('Winner == \"Brazil\" | RunnersUp == \"Brazil\"')\n",
    "\n",
    "print('anos em que o Brasil ganhou a copa: ', ganhou.index.values)\n",
    "    \n",
    "print('anos em que o Brasil jogou uma final: ', participou.index.values)\n",
    "\n",
    "print('proporção: ', ganhou.shape[0]/participou.shape[0])"
   ]
  },
  {
   "cell_type": "markdown",
   "metadata": {
    "id": "CTZcHY0qTNSD"
   },
   "source": [
    "### Exercício 5) \n",
    "Quais foram as 5 copas com mais gols? \n",
    "\n",
    "__Dica:__ Ordene o DataFrame"
   ]
  },
  {
   "cell_type": "code",
   "execution_count": 37,
   "metadata": {
    "id": "ojFp2RruTNSE"
   },
   "outputs": [
    {
     "data": {
      "text/plain": [
       "Year\n",
       "1982    146\n",
       "2006    147\n",
       "2002    161\n",
       "1998    171\n",
       "2014    171\n",
       "Name: GoalsScored, dtype: int64"
      ]
     },
     "execution_count": 37,
     "metadata": {},
     "output_type": "execute_result"
    }
   ],
   "source": [
    "# SOLUÇÃO\n",
    "mais_gols = df['GoalsScored'].sort_values()\n",
    "mais_gols.iloc[-5:]\n",
    "# mais_gols.tail()"
   ]
  },
  {
   "cell_type": "markdown",
   "metadata": {
    "id": "oZfxA40JTNSE"
   },
   "source": [
    "### Exercício 6) \n",
    "Utilize o método <font color='blue'>value_counts</font> para encontrar o número de vezes que cada país ganhou a copa."
   ]
  },
  {
   "cell_type": "code",
   "execution_count": 39,
   "metadata": {
    "id": "DMuXIOflTNSE"
   },
   "outputs": [
    {
     "data": {
      "text/plain": [
       "Brazil        5\n",
       "Italy         4\n",
       "Germany FR    3\n",
       "Uruguay       2\n",
       "Argentina     2\n",
       "England       1\n",
       "Germany       1\n",
       "France        1\n",
       "Spain         1\n",
       "Name: Winner, dtype: int64"
      ]
     },
     "execution_count": 39,
     "metadata": {},
     "output_type": "execute_result"
    }
   ],
   "source": [
    "# SOLUÇÃO\n",
    "df['Winner'].value_counts()"
   ]
  },
  {
   "cell_type": "markdown",
   "metadata": {
    "id": "PesCRh_WTNSE"
   },
   "source": [
    "### Exercício 7)\n",
    "Quais foram as 5 copas com maior público? Imprima apenas o ano, o país e o público."
   ]
  },
  {
   "cell_type": "code",
   "execution_count": 46,
   "metadata": {
    "id": "Q82TmXtBTNSE"
   },
   "outputs": [
    {
     "data": {
      "text/html": [
       "<div>\n",
       "<style scoped>\n",
       "    .dataframe tbody tr th:only-of-type {\n",
       "        vertical-align: middle;\n",
       "    }\n",
       "\n",
       "    .dataframe tbody tr th {\n",
       "        vertical-align: top;\n",
       "    }\n",
       "\n",
       "    .dataframe thead th {\n",
       "        text-align: right;\n",
       "    }\n",
       "</style>\n",
       "<table border=\"1\" class=\"dataframe\">\n",
       "  <thead>\n",
       "    <tr style=\"text-align: right;\">\n",
       "      <th></th>\n",
       "      <th>Country</th>\n",
       "      <th>Attendance</th>\n",
       "    </tr>\n",
       "    <tr>\n",
       "      <th>Year</th>\n",
       "      <th></th>\n",
       "      <th></th>\n",
       "    </tr>\n",
       "  </thead>\n",
       "  <tbody>\n",
       "    <tr>\n",
       "      <th>1998</th>\n",
       "      <td>France</td>\n",
       "      <td>2785100</td>\n",
       "    </tr>\n",
       "    <tr>\n",
       "      <th>2010</th>\n",
       "      <td>South Africa</td>\n",
       "      <td>3178856</td>\n",
       "    </tr>\n",
       "    <tr>\n",
       "      <th>2006</th>\n",
       "      <td>Germany</td>\n",
       "      <td>3359439</td>\n",
       "    </tr>\n",
       "    <tr>\n",
       "      <th>2014</th>\n",
       "      <td>Brazil</td>\n",
       "      <td>3386810</td>\n",
       "    </tr>\n",
       "    <tr>\n",
       "      <th>1994</th>\n",
       "      <td>USA</td>\n",
       "      <td>3587538</td>\n",
       "    </tr>\n",
       "  </tbody>\n",
       "</table>\n",
       "</div>"
      ],
      "text/plain": [
       "           Country  Attendance\n",
       "Year                          \n",
       "1998        France     2785100\n",
       "2010  South Africa     3178856\n",
       "2006       Germany     3359439\n",
       "2014        Brazil     3386810\n",
       "1994           USA     3587538"
      ]
     },
     "execution_count": 46,
     "metadata": {},
     "output_type": "execute_result"
    }
   ],
   "source": [
    "# solucao\n",
    "publico = df[['Country', 'Attendance']].sort_values('Attendance')\n",
    "publico[-5:]"
   ]
  },
  {
   "cell_type": "markdown",
   "metadata": {
    "id": "GCO4MCP2TNSF"
   },
   "source": [
    "### Exercício 8)\n",
    "Construa um dicionário onde as chaves são os países que já participaram de uma final e os valores são o número de vezes que o país participou da final."
   ]
  },
  {
   "cell_type": "code",
   "execution_count": 63,
   "metadata": {
    "id": "5C8oLiatTNSF"
   },
   "outputs": [
    {
     "name": "stdout",
     "output_type": "stream",
     "text": [
      "Participaram de finais:  {'Uruguay': 2, 'Argentina': 5, 'Italy': 6, 'Czechoslovakia': 2, 'Hungary': 2, 'Brazil': 7, 'Germany FR': 6, 'Sweden': 1, 'England': 1, 'Netherlands': 3, 'France': 2, 'Germany': 2, 'Spain': 1} \n",
      "\n",
      "Participaram de finais: \n",
      "\n",
      "Uruguay :  2\n",
      "Argentina :  5\n",
      "Italy :  6\n",
      "Czechoslovakia :  2\n",
      "Hungary :  2\n",
      "Brazil :  7\n",
      "Germany FR :  6\n",
      "Sweden :  1\n",
      "England :  1\n",
      "Netherlands :  3\n",
      "France :  2\n",
      "Germany :  2\n",
      "Spain :  1\n"
     ]
    }
   ],
   "source": [
    "# SOLUÇÃO\n",
    "dict = {}\n",
    "campeao = df['Winner']\n",
    "vice = df['RunnersUp']\n",
    "\n",
    "for i in range(df.shape[0]):\n",
    "    if campeao.iloc[i] in dict:\n",
    "        dict[campeao.iloc[i]] += 1\n",
    "    else:\n",
    "        dict[campeao.iloc[i]] = 1\n",
    "    if vice.iloc[i] in dict:\n",
    "        dict[vice.iloc[i]] += 1\n",
    "    else:\n",
    "        dict[vice.iloc[i]] = 1\n",
    "\n",
    "print('Participaram de finais: ', dict, '\\n')\n",
    "\n",
    "print('Participaram de finais: \\n')\n",
    "for c,v in dict.items():\n",
    "    print(c,': ',v)\n"
   ]
  },
  {
   "cell_type": "markdown",
   "metadata": {
    "id": "qhoqNI-cTNSF"
   },
   "source": [
    "### Exercício 9) \n",
    "Construa um dicionário com todos os países que já participaram de uma semi-final de copa (os quatro finalistas), onde a chave é o país e o valor corresponde ao número de vezes que o país foi um semi-finalista."
   ]
  },
  {
   "cell_type": "code",
   "execution_count": 65,
   "metadata": {
    "id": "ogJeZB4pTNSF"
   },
   "outputs": [
    {
     "name": "stdout",
     "output_type": "stream",
     "text": [
      "Participaram de semi-finais: \n",
      "\n",
      "Uruguay :  5\n",
      "Argentina :  5\n",
      "USA :  1\n",
      "Yugoslavia :  2\n",
      "Italy :  8\n",
      "Czechoslovakia :  2\n",
      "Germany :  5\n",
      "Austria :  2\n",
      "Hungary :  2\n",
      "Brazil :  11\n",
      "Sweden :  4\n",
      "Spain :  2\n",
      "Germany FR :  8\n",
      "France :  5\n",
      "Chile :  1\n",
      "England :  2\n",
      "Portugal :  2\n",
      "Soviet Union :  1\n",
      "Netherlands :  5\n",
      "Poland :  2\n",
      "Belgium :  1\n",
      "Bulgaria :  1\n",
      "Croatia :  1\n",
      "Turkey :  1\n",
      "Korea Republic :  1\n"
     ]
    }
   ],
   "source": [
    "# SOLUÇÃO\n",
    "finalista = {}\n",
    "for i in range(df.shape[0]):\n",
    "    pais1 = df['Winner'].iloc[i]\n",
    "    pais2 = df['RunnersUp'].iloc[i]\n",
    "    pais3 = df['Third'].iloc[i]\n",
    "    pais4 = df['Fourth'].iloc[i]\n",
    "    \n",
    "    if pais1 in finalista:\n",
    "        finalista[pais1] += 1\n",
    "    else:\n",
    "        finalista[pais1] = 1\n",
    "    if pais2 in finalista:\n",
    "        finalista[pais2] += 1\n",
    "    else:\n",
    "        finalista[pais2] = 1\n",
    "    if pais3 in finalista:\n",
    "        finalista[pais3] += 1\n",
    "    else:\n",
    "        finalista[pais3] = 1\n",
    "    if pais4 in finalista:\n",
    "        finalista[pais4] += 1\n",
    "    else:\n",
    "        finalista[pais4] = 1\n",
    "\n",
    "print('Participaram de semi-finais: \\n')\n",
    "for c,v in finalista.items():\n",
    "    print(c,': ',v)\n"
   ]
  },
  {
   "cell_type": "code",
   "execution_count": null,
   "metadata": {},
   "outputs": [],
   "source": []
  }
 ],
 "metadata": {
  "colab": {
   "collapsed_sections": [],
   "name": "Pandas I exercicios.ipynb",
   "provenance": []
  },
  "kernelspec": {
   "display_name": "Python 3",
   "language": "python",
   "name": "python3"
  },
  "language_info": {
   "codemirror_mode": {
    "name": "ipython",
    "version": 3
   },
   "file_extension": ".py",
   "mimetype": "text/x-python",
   "name": "python",
   "nbconvert_exporter": "python",
   "pygments_lexer": "ipython3",
   "version": "3.8.3"
  }
 },
 "nbformat": 4,
 "nbformat_minor": 1
}
