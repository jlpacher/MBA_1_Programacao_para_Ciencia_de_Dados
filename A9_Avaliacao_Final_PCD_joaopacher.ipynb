{
 "cells": [
  {
   "cell_type": "markdown",
   "metadata": {},
   "source": [
    "# <font color=\"blue\"> MBA em Ciência de Dados</font>\n",
    "# <font color=\"blue\">Programação para Ciência de Dados</font>\n",
    "\n",
    "## <font color=\"blue\">Avaliação Final</font>\n",
    "**Material Produzido por Luis Gustavo Nonato**<br>\n",
    "**Cemeai - ICMC/USP São Carlos**"
   ]
  },
  {
   "cell_type": "markdown",
   "metadata": {},
   "source": [
    "A avaliação vale 10 pontos. As questões de 1 a 4, caso respondidas da forma correta, já totalizam 10 pontos. A última questão é um bônus e se respondida corretamente pode ajudar na nota final, ou seja, caso tenha respondido incorretamente uma das questões de 1 a 4, mas tenha acertado a questão bônus, ainda poderá atingir 10 pontos."
   ]
  },
  {
   "cell_type": "markdown",
   "metadata": {},
   "source": [
    "<font color='red'>**ATENÇÃO:** Quando terminar o exame, você deve fazer um \"upload\" do notebook no _moodle_</font>."
   ]
  },
  {
   "cell_type": "markdown",
   "metadata": {},
   "source": [
    "Para responder as questões abaixo será necessário fazer uso do arquivo <font style=\"font-family: monaco\">covid.csv\"</font> disponível para download no _moodle_. As colunas do conjunto de dados fornecem informações sobre:\n",
    "- **'Country/Region'**: país onde os casos de COVID19 foram registrados\n",
    "- **'Lat'** e **'Long'**: latitude e longitude de referência\n",
    "- **'Date'**: data dos registros\n",
    "- **'Value'**: quantidade acumulada de casos registrados"
   ]
  },
  {
   "cell_type": "code",
   "execution_count": 1,
   "metadata": {},
   "outputs": [],
   "source": [
    "import numpy as np\n",
    "import pandas as pd"
   ]
  },
  {
   "cell_type": "markdown",
   "metadata": {},
   "source": [
    "### Questão 1 (2 pontos)\n",
    "Considerando os dados contidos no arquivo <font style=\"font-family: monaco\">covid.csv\"</font>:\n"
   ]
  },
  {
   "cell_type": "markdown",
   "metadata": {},
   "source": [
    "#### a) (0.5 pontos)\n",
    "Carregue o arquivo \"covid.csv\" e armazena em um pandas DataFrame."
   ]
  },
  {
   "cell_type": "code",
   "execution_count": 2,
   "metadata": {
    "scrolled": true
   },
   "outputs": [
    {
     "name": "stdout",
     "output_type": "stream",
     "text": [
      "Linhas x colunas: (26335, 5)\n"
     ]
    },
    {
     "data": {
      "text/html": [
       "<div>\n",
       "<style scoped>\n",
       "    .dataframe tbody tr th:only-of-type {\n",
       "        vertical-align: middle;\n",
       "    }\n",
       "\n",
       "    .dataframe tbody tr th {\n",
       "        vertical-align: top;\n",
       "    }\n",
       "\n",
       "    .dataframe thead th {\n",
       "        text-align: right;\n",
       "    }\n",
       "</style>\n",
       "<table border=\"1\" class=\"dataframe\">\n",
       "  <thead>\n",
       "    <tr style=\"text-align: right;\">\n",
       "      <th></th>\n",
       "      <th>Country/Region</th>\n",
       "      <th>Lat</th>\n",
       "      <th>Long</th>\n",
       "      <th>Date</th>\n",
       "      <th>Value</th>\n",
       "    </tr>\n",
       "  </thead>\n",
       "  <tbody>\n",
       "    <tr>\n",
       "      <th>0</th>\n",
       "      <td>#country+name</td>\n",
       "      <td>#geo+lat</td>\n",
       "      <td>#geo+lon</td>\n",
       "      <td>#date</td>\n",
       "      <td>#affected+infected+value+num</td>\n",
       "    </tr>\n",
       "    <tr>\n",
       "      <th>1</th>\n",
       "      <td>afghanistan</td>\n",
       "      <td>33</td>\n",
       "      <td>65</td>\n",
       "      <td>2020-03-18</td>\n",
       "      <td>22</td>\n",
       "    </tr>\n",
       "    <tr>\n",
       "      <th>2</th>\n",
       "      <td>afghanistan</td>\n",
       "      <td>33</td>\n",
       "      <td>65</td>\n",
       "      <td>2020-03-17</td>\n",
       "      <td>22</td>\n",
       "    </tr>\n",
       "    <tr>\n",
       "      <th>3</th>\n",
       "      <td>afghanistan</td>\n",
       "      <td>33</td>\n",
       "      <td>65</td>\n",
       "      <td>2020-03-16</td>\n",
       "      <td>21</td>\n",
       "    </tr>\n",
       "    <tr>\n",
       "      <th>4</th>\n",
       "      <td>Afghanistan</td>\n",
       "      <td>33</td>\n",
       "      <td>65</td>\n",
       "      <td>2020-03-15</td>\n",
       "      <td>16</td>\n",
       "    </tr>\n",
       "  </tbody>\n",
       "</table>\n",
       "</div>"
      ],
      "text/plain": [
       "  Country/Region       Lat      Long        Date                         Value\n",
       "0  #country+name  #geo+lat  #geo+lon       #date  #affected+infected+value+num\n",
       "1    afghanistan        33        65  2020-03-18                            22\n",
       "2    afghanistan        33        65  2020-03-17                            22\n",
       "3    afghanistan        33        65  2020-03-16                            21\n",
       "4    Afghanistan        33        65  2020-03-15                            16"
      ]
     },
     "execution_count": 2,
     "metadata": {},
     "output_type": "execute_result"
    }
   ],
   "source": [
    "df = pd.read_csv('covid.csv')\n",
    "print('Linhas x colunas:', df.shape)\n",
    "df.head()"
   ]
  },
  {
   "cell_type": "markdown",
   "metadata": {},
   "source": [
    "#### b) (0.5 pontos)\n",
    "Elimine a primeira linha do DataFrame, a qual contém a informação:\n",
    "```python\n",
    "#adm1+name,#country+name,#geo+lat,#geo+lon,#date,#affected+infected+value+num\n",
    "```"
   ]
  },
  {
   "cell_type": "code",
   "execution_count": 3,
   "metadata": {},
   "outputs": [
    {
     "data": {
      "text/html": [
       "<div>\n",
       "<style scoped>\n",
       "    .dataframe tbody tr th:only-of-type {\n",
       "        vertical-align: middle;\n",
       "    }\n",
       "\n",
       "    .dataframe tbody tr th {\n",
       "        vertical-align: top;\n",
       "    }\n",
       "\n",
       "    .dataframe thead th {\n",
       "        text-align: right;\n",
       "    }\n",
       "</style>\n",
       "<table border=\"1\" class=\"dataframe\">\n",
       "  <thead>\n",
       "    <tr style=\"text-align: right;\">\n",
       "      <th></th>\n",
       "      <th>Country/Region</th>\n",
       "      <th>Lat</th>\n",
       "      <th>Long</th>\n",
       "      <th>Date</th>\n",
       "      <th>Value</th>\n",
       "    </tr>\n",
       "  </thead>\n",
       "  <tbody>\n",
       "    <tr>\n",
       "      <th>1</th>\n",
       "      <td>afghanistan</td>\n",
       "      <td>33</td>\n",
       "      <td>65</td>\n",
       "      <td>2020-03-18</td>\n",
       "      <td>22</td>\n",
       "    </tr>\n",
       "    <tr>\n",
       "      <th>2</th>\n",
       "      <td>afghanistan</td>\n",
       "      <td>33</td>\n",
       "      <td>65</td>\n",
       "      <td>2020-03-17</td>\n",
       "      <td>22</td>\n",
       "    </tr>\n",
       "    <tr>\n",
       "      <th>3</th>\n",
       "      <td>afghanistan</td>\n",
       "      <td>33</td>\n",
       "      <td>65</td>\n",
       "      <td>2020-03-16</td>\n",
       "      <td>21</td>\n",
       "    </tr>\n",
       "    <tr>\n",
       "      <th>4</th>\n",
       "      <td>Afghanistan</td>\n",
       "      <td>33</td>\n",
       "      <td>65</td>\n",
       "      <td>2020-03-15</td>\n",
       "      <td>16</td>\n",
       "    </tr>\n",
       "    <tr>\n",
       "      <th>5</th>\n",
       "      <td>afghanistan</td>\n",
       "      <td>33</td>\n",
       "      <td>65</td>\n",
       "      <td>2020-03-14</td>\n",
       "      <td>11</td>\n",
       "    </tr>\n",
       "  </tbody>\n",
       "</table>\n",
       "</div>"
      ],
      "text/plain": [
       "  Country/Region Lat Long        Date Value\n",
       "1    afghanistan  33   65  2020-03-18    22\n",
       "2    afghanistan  33   65  2020-03-17    22\n",
       "3    afghanistan  33   65  2020-03-16    21\n",
       "4    Afghanistan  33   65  2020-03-15    16\n",
       "5    afghanistan  33   65  2020-03-14    11"
      ]
     },
     "execution_count": 3,
     "metadata": {},
     "output_type": "execute_result"
    }
   ],
   "source": [
    "# Dropping row by index\n",
    "df.drop(index=0, inplace=True)\n",
    "df.head()"
   ]
  },
  {
   "cell_type": "markdown",
   "metadata": {},
   "source": [
    "#### c) (1 ponto)\n",
    "Verifique qual o tipo de dado da coluna \"Value\" e converta o tipo para inteiro (<font color='blue'>int</font>)."
   ]
  },
  {
   "cell_type": "code",
   "execution_count": 4,
   "metadata": {},
   "outputs": [
    {
     "name": "stdout",
     "output_type": "stream",
     "text": [
      "Tipo de dado da coluna \"Value\" antes da conversão: object\n",
      "Tipo de dado da coluna \"Value\" após a conversão: int64\n"
     ]
    }
   ],
   "source": [
    "print('Tipo de dado da coluna \"Value\" antes da conversão:', df.Value.dtype)\n",
    "df['Value'] = pd.to_numeric(df['Value'], downcast='integer')\n",
    "print('Tipo de dado da coluna \"Value\" após a conversão:', df.Value.dtype)"
   ]
  },
  {
   "cell_type": "markdown",
   "metadata": {},
   "source": [
    "### Questão 2 (2 pontos)\n",
    "Devido a um erro de armazenamento de inteiros, alguns países apresentam mais de 8 bilhões de casos de COVID19 (valor da coluna \"Value\" maior ou igual a 8.000.000.000) \n",
    "\n",
    "Elimine as linhas onde o número de casos é maior ou igual a 8 bilhões."
   ]
  },
  {
   "cell_type": "code",
   "execution_count": 5,
   "metadata": {},
   "outputs": [
    {
     "name": "stdout",
     "output_type": "stream",
     "text": [
      "Buscando valores na coluna \"Value\" maiores ou iguais a 8 bilhões:\n"
     ]
    },
    {
     "data": {
      "text/html": [
       "<div>\n",
       "<style scoped>\n",
       "    .dataframe tbody tr th:only-of-type {\n",
       "        vertical-align: middle;\n",
       "    }\n",
       "\n",
       "    .dataframe tbody tr th {\n",
       "        vertical-align: top;\n",
       "    }\n",
       "\n",
       "    .dataframe thead th {\n",
       "        text-align: right;\n",
       "    }\n",
       "</style>\n",
       "<table border=\"1\" class=\"dataframe\">\n",
       "  <thead>\n",
       "    <tr style=\"text-align: right;\">\n",
       "      <th></th>\n",
       "      <th>Country/Region</th>\n",
       "      <th>Lat</th>\n",
       "      <th>Long</th>\n",
       "      <th>Date</th>\n",
       "      <th>Value</th>\n",
       "    </tr>\n",
       "  </thead>\n",
       "  <tbody>\n",
       "    <tr>\n",
       "      <th>532</th>\n",
       "      <td>Australia</td>\n",
       "      <td>-33.8688</td>\n",
       "      <td>151.2093</td>\n",
       "      <td>2020-02-29</td>\n",
       "      <td>8000003346</td>\n",
       "    </tr>\n",
       "    <tr>\n",
       "      <th>1465</th>\n",
       "      <td>bolivia</td>\n",
       "      <td>-16.2902</td>\n",
       "      <td>-63.5887</td>\n",
       "      <td>2020-02-08</td>\n",
       "      <td>8000006997</td>\n",
       "    </tr>\n",
       "    <tr>\n",
       "      <th>3650</th>\n",
       "      <td>china</td>\n",
       "      <td>43.6661</td>\n",
       "      <td>126.1923</td>\n",
       "      <td>2020-03-17</td>\n",
       "      <td>8000009333</td>\n",
       "    </tr>\n",
       "    <tr>\n",
       "      <th>5789</th>\n",
       "      <td>France</td>\n",
       "      <td>3.9339</td>\n",
       "      <td>-53.1258</td>\n",
       "      <td>2020-02-16</td>\n",
       "      <td>8000002934</td>\n",
       "    </tr>\n",
       "    <tr>\n",
       "      <th>6124</th>\n",
       "      <td>France</td>\n",
       "      <td>18.0708</td>\n",
       "      <td>-63.0501</td>\n",
       "      <td>2020-02-23</td>\n",
       "      <td>8000007742</td>\n",
       "    </tr>\n",
       "    <tr>\n",
       "      <th>6759</th>\n",
       "      <td>Holy See</td>\n",
       "      <td>41.9029</td>\n",
       "      <td>12.4534</td>\n",
       "      <td>2020-02-15</td>\n",
       "      <td>8000005656</td>\n",
       "    </tr>\n",
       "    <tr>\n",
       "      <th>9928</th>\n",
       "      <td>romania</td>\n",
       "      <td>45.9432</td>\n",
       "      <td>24.9668</td>\n",
       "      <td>2020-03-09</td>\n",
       "      <td>8000002449</td>\n",
       "    </tr>\n",
       "    <tr>\n",
       "      <th>10950</th>\n",
       "      <td>suriname</td>\n",
       "      <td>3.9193</td>\n",
       "      <td>-56.0278</td>\n",
       "      <td>2020-03-13</td>\n",
       "      <td>8000000828</td>\n",
       "    </tr>\n",
       "    <tr>\n",
       "      <th>11500</th>\n",
       "      <td>tunisia</td>\n",
       "      <td>34</td>\n",
       "      <td>9</td>\n",
       "      <td>2020-02-05</td>\n",
       "      <td>8000005897</td>\n",
       "    </tr>\n",
       "    <tr>\n",
       "      <th>14971</th>\n",
       "      <td>US</td>\n",
       "      <td>35.4437</td>\n",
       "      <td>139.638</td>\n",
       "      <td>2020-02-11</td>\n",
       "      <td>8000001204</td>\n",
       "    </tr>\n",
       "    <tr>\n",
       "      <th>15146</th>\n",
       "      <td>us</td>\n",
       "      <td>41.3148</td>\n",
       "      <td>-96.1951</td>\n",
       "      <td>2020-02-07</td>\n",
       "      <td>8000006620</td>\n",
       "    </tr>\n",
       "    <tr>\n",
       "      <th>15619</th>\n",
       "      <td>US</td>\n",
       "      <td>27.7663</td>\n",
       "      <td>-81.6868</td>\n",
       "      <td>2020-03-18</td>\n",
       "      <td>8000006799</td>\n",
       "    </tr>\n",
       "    <tr>\n",
       "      <th>16673</th>\n",
       "      <td>us</td>\n",
       "      <td>39.8065</td>\n",
       "      <td>-86.5401</td>\n",
       "      <td>2020-02-19</td>\n",
       "      <td>8000000845</td>\n",
       "    </tr>\n",
       "    <tr>\n",
       "      <th>18913</th>\n",
       "      <td>us</td>\n",
       "      <td>33.2918</td>\n",
       "      <td>-112.4291</td>\n",
       "      <td>2020-02-02</td>\n",
       "      <td>8000002972</td>\n",
       "    </tr>\n",
       "    <tr>\n",
       "      <th>19513</th>\n",
       "      <td>US</td>\n",
       "      <td>45.6945</td>\n",
       "      <td>-93.9002</td>\n",
       "      <td>2020-02-29</td>\n",
       "      <td>8000001269</td>\n",
       "    </tr>\n",
       "    <tr>\n",
       "      <th>21044</th>\n",
       "      <td>US</td>\n",
       "      <td>40.3888</td>\n",
       "      <td>-82.7649</td>\n",
       "      <td>2020-03-08</td>\n",
       "      <td>8000004745</td>\n",
       "    </tr>\n",
       "    <tr>\n",
       "      <th>21834</th>\n",
       "      <td>US</td>\n",
       "      <td>32.0575</td>\n",
       "      <td>-111.6661</td>\n",
       "      <td>2020-03-16</td>\n",
       "      <td>8000007736</td>\n",
       "    </tr>\n",
       "    <tr>\n",
       "      <th>24682</th>\n",
       "      <td>US</td>\n",
       "      <td>41.8586</td>\n",
       "      <td>-74.3118</td>\n",
       "      <td>2020-03-18</td>\n",
       "      <td>8000009822</td>\n",
       "    </tr>\n",
       "    <tr>\n",
       "      <th>24702</th>\n",
       "      <td>us</td>\n",
       "      <td>41.8586</td>\n",
       "      <td>-74.3118</td>\n",
       "      <td>2020-02-27</td>\n",
       "      <td>8000003531</td>\n",
       "    </tr>\n",
       "  </tbody>\n",
       "</table>\n",
       "</div>"
      ],
      "text/plain": [
       "      Country/Region       Lat       Long        Date       Value\n",
       "532        Australia  -33.8688   151.2093  2020-02-29  8000003346\n",
       "1465         bolivia  -16.2902   -63.5887  2020-02-08  8000006997\n",
       "3650           china   43.6661   126.1923  2020-03-17  8000009333\n",
       "5789          France    3.9339   -53.1258  2020-02-16  8000002934\n",
       "6124          France   18.0708   -63.0501  2020-02-23  8000007742\n",
       "6759        Holy See   41.9029    12.4534  2020-02-15  8000005656\n",
       "9928         romania   45.9432    24.9668  2020-03-09  8000002449\n",
       "10950       suriname    3.9193   -56.0278  2020-03-13  8000000828\n",
       "11500        tunisia        34          9  2020-02-05  8000005897\n",
       "14971             US   35.4437    139.638  2020-02-11  8000001204\n",
       "15146             us   41.3148   -96.1951  2020-02-07  8000006620\n",
       "15619             US   27.7663   -81.6868  2020-03-18  8000006799\n",
       "16673             us   39.8065   -86.5401  2020-02-19  8000000845\n",
       "18913             us   33.2918  -112.4291  2020-02-02  8000002972\n",
       "19513             US   45.6945   -93.9002  2020-02-29  8000001269\n",
       "21044             US   40.3888   -82.7649  2020-03-08  8000004745\n",
       "21834             US   32.0575  -111.6661  2020-03-16  8000007736\n",
       "24682             US   41.8586   -74.3118  2020-03-18  8000009822\n",
       "24702             us   41.8586   -74.3118  2020-02-27  8000003531"
      ]
     },
     "execution_count": 5,
     "metadata": {},
     "output_type": "execute_result"
    }
   ],
   "source": [
    "print('Buscando valores na coluna \"Value\" maiores ou iguais a 8 bilhões:')\n",
    "df.loc[df['Value'] >= 8000000000]"
   ]
  },
  {
   "cell_type": "code",
   "execution_count": 6,
   "metadata": {},
   "outputs": [
    {
     "name": "stdout",
     "output_type": "stream",
     "text": [
      "Confirmando que a eliminação foi bem sucedida:\n",
      "Linhas x colunas: (26315, 5)\n"
     ]
    },
    {
     "data": {
      "text/html": [
       "<div>\n",
       "<style scoped>\n",
       "    .dataframe tbody tr th:only-of-type {\n",
       "        vertical-align: middle;\n",
       "    }\n",
       "\n",
       "    .dataframe tbody tr th {\n",
       "        vertical-align: top;\n",
       "    }\n",
       "\n",
       "    .dataframe thead th {\n",
       "        text-align: right;\n",
       "    }\n",
       "</style>\n",
       "<table border=\"1\" class=\"dataframe\">\n",
       "  <thead>\n",
       "    <tr style=\"text-align: right;\">\n",
       "      <th></th>\n",
       "      <th>Country/Region</th>\n",
       "      <th>Lat</th>\n",
       "      <th>Long</th>\n",
       "      <th>Date</th>\n",
       "      <th>Value</th>\n",
       "    </tr>\n",
       "  </thead>\n",
       "  <tbody>\n",
       "  </tbody>\n",
       "</table>\n",
       "</div>"
      ],
      "text/plain": [
       "Empty DataFrame\n",
       "Columns: [Country/Region, Lat, Long, Date, Value]\n",
       "Index: []"
      ]
     },
     "execution_count": 6,
     "metadata": {},
     "output_type": "execute_result"
    }
   ],
   "source": [
    "# Eliminando as linhas onde o número de casos é maior ou igual a 8 bilhões\n",
    "df = df.drop( df[ df['Value'] > 8000000000 ].index, axis=0)\n",
    "\n",
    "print('Confirmando que a eliminação foi bem sucedida:')\n",
    "print('Linhas x colunas:', df.shape)\n",
    "df.loc[df['Value'] >= 8000000000]\n"
   ]
  },
  {
   "cell_type": "markdown",
   "metadata": {},
   "source": [
    "### Questão 3 (3 pontos)\n",
    "Qual registro contém o maior número de infectados? Exiba a data e o país deste registro"
   ]
  },
  {
   "cell_type": "code",
   "execution_count": 7,
   "metadata": {},
   "outputs": [
    {
     "data": {
      "text/plain": [
       "3364     67800\n",
       "3365     67799\n",
       "3366     67798\n",
       "3367     67794\n",
       "3368     67790\n",
       "         ...  \n",
       "17027        0\n",
       "17028        0\n",
       "17029        0\n",
       "17030        0\n",
       "13167        0\n",
       "Name: Value, Length: 26315, dtype: int64"
      ]
     },
     "execution_count": 7,
     "metadata": {},
     "output_type": "execute_result"
    }
   ],
   "source": [
    "# Ordenando a quantidade de infectados pela coluna 'Value'\n",
    "infectados = df['Value'].sort_values(ascending=False)\n",
    "infectados"
   ]
  },
  {
   "cell_type": "code",
   "execution_count": 8,
   "metadata": {},
   "outputs": [
    {
     "name": "stdout",
     "output_type": "stream",
     "text": [
      "Registro com o maior número de infectados:\n",
      " Date              2020-03-18\n",
      "Country/Region         china\n",
      "Value                  67800\n",
      "Name: 3364, dtype: object\n"
     ]
    }
   ],
   "source": [
    "print('Registro com o maior número de infectados:\\n', df.loc[df['Value'].idxmax(), ['Date', 'Country/Region', 'Value']])"
   ]
  },
  {
   "cell_type": "markdown",
   "metadata": {},
   "source": [
    "### Questão 4 (3 pontos)\n",
    "Quais são os três países com a maior quantidade acumulada de infectados?\n",
    "\n",
    "Note que o nome dos países podem aparecer com letras maiúsculas ou minusculas, portanto é necessários fazer uma padronização antes de calcular o gráfico.\n",
    "\n",
    "**DICA:** groupby + max"
   ]
  },
  {
   "cell_type": "code",
   "execution_count": 9,
   "metadata": {},
   "outputs": [
    {
     "name": "stdout",
     "output_type": "stream",
     "text": [
      "Quantidade de valores únicos para 'Country/Region' antes da conversão: 304\n",
      "Quantidade de valores únicos para 'Country/Region' após a conversão: 152\n",
      "\n",
      "'Country/Region' convertidos para letra minúscula:\n"
     ]
    },
    {
     "data": {
      "text/plain": [
       "array(['afghanistan', 'albania', 'algeria', 'andorra',\n",
       "       'antigua and barbuda', 'argentina', 'armenia', 'australia',\n",
       "       'austria', 'azerbaijan', 'bahrain', 'bangladesh', 'barbados',\n",
       "       'belarus', 'belgium', 'benin', 'bhutan', 'bolivia',\n",
       "       'bosnia and herzegovina', 'brazil', 'brunei', 'bulgaria',\n",
       "       'burkina faso', 'cambodia', 'cameroon', 'canada',\n",
       "       'central african republic', 'chile', 'china', 'colombia',\n",
       "       'congo (brazzaville)', 'congo (kinshasa)', 'costa rica',\n",
       "       \"cote d'ivoire\", 'croatia', 'cruise ship', 'cuba', 'cyprus',\n",
       "       'czechia', 'denmark', 'djibouti', 'dominican republic', 'ecuador',\n",
       "       'egypt', 'equatorial guinea', 'estonia', 'eswatini', 'ethiopia',\n",
       "       'finland', 'france', 'gabon', 'gambia, the', 'georgia', 'germany',\n",
       "       'ghana', 'greece', 'greenland', 'guatemala', 'guinea', 'guyana',\n",
       "       'holy see', 'honduras', 'hungary', 'iceland', 'india', 'indonesia',\n",
       "       'iran', 'iraq', 'ireland', 'israel', 'italy', 'jamaica', 'japan',\n",
       "       'jordan', 'kazakhstan', 'kenya', 'korea, south', 'kosovo',\n",
       "       'kuwait', 'kyrgyzstan', 'latvia', 'lebanon', 'liberia',\n",
       "       'liechtenstein', 'lithuania', 'luxembourg', 'malaysia', 'maldives',\n",
       "       'malta', 'martinique', 'mauritania', 'mauritius', 'mexico',\n",
       "       'moldova', 'monaco', 'mongolia', 'montenegro', 'morocco',\n",
       "       'namibia', 'nepal', 'netherlands', 'new zealand', 'nigeria',\n",
       "       'north macedonia', 'norway', 'oman', 'pakistan', 'panama',\n",
       "       'paraguay', 'peru', 'philippines', 'poland', 'portugal', 'qatar',\n",
       "       'romania', 'russia', 'rwanda', 'saint lucia',\n",
       "       'saint vincent and the grenadines', 'san marino', 'saudi arabia',\n",
       "       'senegal', 'serbia', 'seychelles', 'singapore', 'slovakia',\n",
       "       'slovenia', 'somalia', 'south africa', 'spain', 'sri lanka',\n",
       "       'sudan', 'suriname', 'sweden', 'switzerland', 'taiwan*',\n",
       "       'tanzania', 'thailand', 'the bahamas', 'togo',\n",
       "       'trinidad and tobago', 'tunisia', 'turkey', 'ukraine',\n",
       "       'united arab emirates', 'united kingdom', 'uruguay', 'us',\n",
       "       'uzbekistan', 'venezuela', 'vietnam', 'zambia'], dtype=object)"
      ]
     },
     "execution_count": 9,
     "metadata": {},
     "output_type": "execute_result"
    }
   ],
   "source": [
    "# Verificando os valores únicos da coluna 'Country/Region'\n",
    "print(\"Quantidade de valores únicos para 'Country/Region' antes da conversão:\", df['Country/Region'].nunique())\n",
    "# Convertendo para minúsculas\n",
    "df['Country/Region'] = df['Country/Region'].str.lower()\n",
    "print(\"Quantidade de valores únicos para 'Country/Region' após a conversão:\", df['Country/Region'].nunique())\n",
    "# Verificando se a substituição foi bem feita\n",
    "print(\"\\n'Country/Region' convertidos para letra minúscula:\")\n",
    "df['Country/Region'].unique()"
   ]
  },
  {
   "cell_type": "code",
   "execution_count": 10,
   "metadata": {},
   "outputs": [
    {
     "name": "stdout",
     "output_type": "stream",
     "text": [
      "Quantidade de valores únicos para 'Country/Region': 152\n",
      "Quantidade de valores únicos para 'Lat': 453\n",
      "Quantidade de valores únicos para 'Long': 439\n"
     ]
    }
   ],
   "source": [
    "# Verifica-se que existem países com mais do que um registro de 'Lat' e 'Long'\n",
    "print(\"Quantidade de valores únicos para 'Country/Region':\", df['Country/Region'].nunique())\n",
    "print(\"Quantidade de valores únicos para 'Lat':\", df['Lat'].nunique())\n",
    "print(\"Quantidade de valores únicos para 'Long':\", df['Long'].nunique())"
   ]
  },
  {
   "cell_type": "code",
   "execution_count": 11,
   "metadata": {},
   "outputs": [
    {
     "data": {
      "text/plain": [
       "Country/Region\n",
       "china    81102\n",
       "italy    35713\n",
       "iran     17361\n",
       "Name: Value, dtype: int64"
      ]
     },
     "execution_count": 11,
     "metadata": {},
     "output_type": "execute_result"
    }
   ],
   "source": [
    "# Agrupando 'Country/Region' e 'Date' com groupby() e somando os valores de cada dia com sum()\n",
    "paises = df.groupby(['Country/Region', 'Date'])['Value'].sum().reset_index()\n",
    "# Novo agrupamento 'Country/Region' no agrupamento acima com groupby() e selecionando 'Value' para calcular a soma de casos\n",
    "mais_infectados = paises.groupby(['Country/Region'])['Value'].max()\n",
    "# Ordenando os resultados com sort_values() e alterando a série com inplace\n",
    "mais_infectados.sort_values(ascending=False, inplace=True)\n",
    "# Exibindo os 3 países com a maior quantidade acumulada de infectados\n",
    "mais_infectados[0:3]"
   ]
  },
  {
   "cell_type": "code",
   "execution_count": 12,
   "metadata": {},
   "outputs": [
    {
     "name": "stdout",
     "output_type": "stream",
     "text": [
      "Os 3 países com a maior quantidade acumulada de infectados são:\n",
      "china , italy e iran\n"
     ]
    }
   ],
   "source": [
    "print('Os 3 países com a maior quantidade acumulada de infectados são:')\n",
    "print(mais_infectados.index[0], ',', mais_infectados.index[1], 'e', mais_infectados.index[2])"
   ]
  },
  {
   "cell_type": "markdown",
   "metadata": {},
   "source": [
    "### Questão Bonus (2 pontos)\n",
    "Faça o gráfico do número de contaminados no Brasil e na Itália. Note que o nome dos países podem aparecer com letras maiúsculas ou minusculas, portanto é necessários fazer uma padronização antes de calcular o gráfico."
   ]
  },
  {
   "cell_type": "code",
   "execution_count": 13,
   "metadata": {},
   "outputs": [
    {
     "name": "stdout",
     "output_type": "stream",
     "text": [
      "<class 'pandas.core.frame.DataFrame'>\n",
      "Int64Index: 26315 entries, 1 to 26334\n",
      "Data columns (total 5 columns):\n",
      " #   Column          Non-Null Count  Dtype         \n",
      "---  ------          --------------  -----         \n",
      " 0   Country/Region  26315 non-null  object        \n",
      " 1   Lat             26315 non-null  object        \n",
      " 2   Long            26315 non-null  object        \n",
      " 3   Date            26315 non-null  datetime64[ns]\n",
      " 4   Value           26315 non-null  int64         \n",
      "dtypes: datetime64[ns](1), int64(1), object(3)\n",
      "memory usage: 2.5+ MB\n"
     ]
    }
   ],
   "source": [
    "# convert the 'Date' column to datetime format\n",
    "df['Date']= pd.to_datetime(df['Date'])\n",
    "df.info()"
   ]
  },
  {
   "cell_type": "code",
   "execution_count": 14,
   "metadata": {},
   "outputs": [
    {
     "name": "stdout",
     "output_type": "stream",
     "text": [
      "brazil:\n",
      " Country/Region     1\n",
      "Lat                1\n",
      "Long               1\n",
      "Date              57\n",
      "Value             15\n",
      "dtype: int64\n",
      "\n",
      "italy: Country/Region     1\n",
      "Lat                1\n",
      "Long               1\n",
      "Date              57\n",
      "Value             29\n",
      "dtype: int64\n"
     ]
    }
   ],
   "source": [
    "# Verificando que 'brazil' e 'italy' possuem regiões únicas de 'Lat' e 'Long'\n",
    "print('brazil:\\n', df[df['Country/Region'] == 'brazil'].nunique())\n",
    "print('\\nitaly:', df[df['Country/Region'] == 'italy'].nunique())"
   ]
  },
  {
   "cell_type": "code",
   "execution_count": 15,
   "metadata": {},
   "outputs": [],
   "source": [
    "# Criando os conjuntos de dados a serem plotados\n",
    "df_br = df[df['Country/Region'] == 'brazil'].sort_values('Date')\n",
    "df_it = df[df['Country/Region'] == 'italy'].sort_values('Date')"
   ]
  },
  {
   "cell_type": "code",
   "execution_count": 16,
   "metadata": {},
   "outputs": [
    {
     "data": {
      "text/plain": [
       "<matplotlib.axes._subplots.AxesSubplot at 0x2ef4ff535e0>"
      ]
     },
     "execution_count": 16,
     "metadata": {},
     "output_type": "execute_result"
    },
    {
     "data": {
      "image/png": "[encoded data removed]",
      "text/plain": [
       "<Figure size 432x288 with 1 Axes>"
      ]
     },
     "metadata": {
      "needs_background": "light"
     },
     "output_type": "display_data"
    }
   ],
   "source": [
    "#  Plotando o gráfico\n",
    "import matplotlib.pyplot as plt\n",
    "ax = df_br.plot('Date', 'Value', label='Brasil', color='b', title='Evolução do Acumulado de contaminados')\n",
    "df_it.plot('Date', 'Value', ax=ax, label='Itália', color='r')"
   ]
  },
  {
   "cell_type": "code",
   "execution_count": null,
   "metadata": {},
   "outputs": [],
   "source": []
  }
 ],
 "metadata": {
  "kernelspec": {
   "display_name": "Python 3",
   "language": "python",
   "name": "python3"
  },
  "language_info": {
   "codemirror_mode": {
    "name": "ipython",
    "version": 3
   },
   "file_extension": ".py",
   "mimetype": "text/x-python",
   "name": "python",
   "nbconvert_exporter": "python",
   "pygments_lexer": "ipython3",
   "version": "3.8.10"
  },
  "toc": {
   "base_numbering": 1,
   "nav_menu": {},
   "number_sections": true,
   "sideBar": true,
   "skip_h1_title": false,
   "title_cell": "Table of Contents",
   "title_sidebar": "Contents",
   "toc_cell": false,
   "toc_position": {},
   "toc_section_display": true,
   "toc_window_display": false
  }
 },
 "nbformat": 4,
 "nbformat_minor": 2
}
