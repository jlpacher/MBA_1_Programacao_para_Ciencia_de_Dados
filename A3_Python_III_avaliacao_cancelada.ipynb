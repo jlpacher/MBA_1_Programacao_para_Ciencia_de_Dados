{
 "cells": [
  {
   "cell_type": "markdown",
   "metadata": {
    "id": "eOsUQACZVj2q"
   },
   "source": [
    "# <span style=\"color:blue\"> MBA em Ciência de Dados</span>\n",
    "# <span style=\"color:blue\">Programação para Ciência de Dados</span>\n",
    "\n",
    "## <span style=\"color:blue\">Avaliação Python Parte III</span>\n",
    "**Material Produzido por Luis Gustavo Nonato**<br>\n",
    "**Cemeai - ICMC/USP São Carlos**"
   ]
  },
  {
   "cell_type": "markdown",
   "metadata": {
    "id": "XHMR3VtlVj2w"
   },
   "source": [
    "### Exercício 1)\n",
    "Considere a lista `numeros` abaixo. Utilize o comando <font color='blue'>map</font> para gerar um nova lista `par_impar` contendo valores __True__ ou __Falso__ dependendo se o elemento da lista `numeros` é par ou ímpar, respectivamente. Por exemplo:\n",
    "```python\n",
    "numeros = [7, 3, 2, 13,...]\n",
    "par_impar = [False, False, True, False,...]\n",
    "```\n",
    "\n",
    "Qual das opções abaixo gera a lista `par_impar` corretamente:<br>\n",
    "a) map(lambda x: x%2==0,list(numeros))<br>\n",
    "b) list(map(lambda x: x%2==0,numeros))<br>\n",
    "c) map(lambda x: x%2==0,numeros)<br>\n",
    "d) list(lambda x: x%2==0,map(numeros))"
   ]
  },
  {
   "cell_type": "code",
   "execution_count": null,
   "metadata": {
    "id": "ihCnbcuZVj2x"
   },
   "outputs": [],
   "source": [
    "numeros = [7, 3, 2, 13, 44, 3, 30, 47, 28, 10, 4, 17, 7, 37, 21, 32, 44, 2, 33, 9, 26, \n",
    "           9, 29, 9, 49, 11, 8, 42, 26, 23, 17, 16, 37, 26, 19, 26, 8, 27, 15, 10, 31, \n",
    "           41, 42, 10, 4, 9, 7, 18, 44, 12]\n",
    "\n",
    "par_impar = # inclua seu codigo aqui\n",
    "print(par_impar)"
   ]
  },
  {
   "cell_type": "markdown",
   "metadata": {
    "id": "PAU6Udb-Vj2y"
   },
   "source": [
    "### Exercício 2)\n",
    "Considere a lista `numeros` abaixo. Utilize o comando <font color='blue'>filter</font> para gerar um nova lista `menores10` contendo somente os elementos de `numeros` que são menores que 10. Os 5 primeiros elementos da lista serão:<br>\n",
    "a) [7, 3, 2, 3, 4, ...]<br>\n",
    "b) [7, 3, 1, 3, 7, ...]<br>\n",
    "c) [7, 3, 3, 3, 7, ...]<br>\n",
    "d) [7, 3, 7, 3, 3, ...]<br>"
   ]
  },
  {
   "cell_type": "code",
   "execution_count": null,
   "metadata": {
    "id": "W95bSCeuVj2y"
   },
   "outputs": [],
   "source": [
    "numeros = [7, 3, 2, 13, 44, 3, 30, 47, 28, 10, 4, 12, 7, 32, 21, 32, 44, 2, 36, 9, 26, \n",
    "           6, 29, 36, 49, 11, 8, 42, 26, 20, 6, 16, 38, 26, 19, 26, 8, 22, 14, 10, 30, \n",
    "           41, 42, 10, 4, 9, 2, 18, 44, 12]\n",
    "\n",
    "menores10 = # inclua seu codigo aqui\n",
    "print(menores10)"
   ]
  },
  {
   "cell_type": "markdown",
   "metadata": {
    "id": "TdGKmmbBVj2z"
   },
   "source": [
    "### Exercício 3)\n",
    "Considere a lista `numeros` abaixo. Utilize uma combinação dos comandos \n",
    "<font color='blue'>reduce</font> e <font color='blue'>filter</font> para somar todos os elementos da lista que são menores que 10. O código que gera a soma corretamente será:<br>\n",
    "a) list(reduce(lambda x,y: x+y,list(filter(lambda x: x<10,numeros))))<br>\n",
    "b) reduce(lambda x,y: x+y,list(filter(lambda x: x<10,numeros)))<br>\n",
    "c) reduce(lambda x,y: x+y,filter(lambda x: x>10,numeros))<br>\n",
    "d) reduce(lambda x,y: x+y,list(filter(lambda x: x%2==0,numeros)))"
   ]
  },
  {
   "cell_type": "code",
   "execution_count": null,
   "metadata": {
    "id": "9UXKiOv7Vj2z"
   },
   "outputs": [],
   "source": [
    "from functools import reduce\n",
    "\n",
    "numeros = [7, 3, 2, 13, 44, 3, 30, 47, 28, 10, 4, 17, 7, 37, 21, 32, 44, 2, 33, 9, 26, \n",
    "           9, 29, 9, 49, 11, 8, 42, 26, 23, 17, 16, 37, 26, 19, 26, 8, 27, 15, 10, 31, \n",
    "           41, 42, 10, 4, 9, 7, 18, 44, 12]\n",
    "\n",
    "soma_menores = # insira seu codigo aqui\n",
    "print(soma_menores)"
   ]
  },
  {
   "cell_type": "markdown",
   "metadata": {
    "id": "OahudOnTVj2z"
   },
   "source": [
    "### Exercício 4)\n",
    "Assinale a alternativa que melhor explica o que significa `x` e `i` na declaração `x(i)` que está dentro do comando <font color='blue'>map</font> no código abaixo:<br>\n",
    "a) `x` corresponde a lista de números [0,1,2,3,4] e `i` é um dos elementos da lista.<br>\n",
    "\n",
    "b) `x` corresponde a lista `func` e `i` é um dos elementos desta lista.<br>\n",
    "\n",
    "c) `x` corresponde a um dos elementos da lista `func` e `i` é um número da lista [0,1,2,3,4].<br>\n",
    "\n",
    "d)  `x` corresponde a `func` e `i` é um dos elementos de `func`.<br>"
   ]
  },
  {
   "cell_type": "code",
   "execution_count": null,
   "metadata": {
    "id": "NjYsaR28Vj20"
   },
   "outputs": [],
   "source": [
    "def quadrado(x):\n",
    "    return(x**2)\n",
    "\n",
    "def cubo(x):\n",
    "    return(x**3)\n",
    "\n",
    "funcs = [quadrado, cubo]\n",
    "for i in range(5):\n",
    "    res = map(lambda x: x(i),funcs)\n",
    "    print(list(res))"
   ]
  },
  {
   "cell_type": "markdown",
   "metadata": {
    "id": "uyU13UwfThG4"
   },
   "source": [
    "### Exercício 5)\n",
    "No arquivo <font color='blue'>`roda-viva.txt`</font>, temos o refrão incompleto da música Roda Viva de Chico Buarque. O código abaixo deveria adicionar o verso <font color='blue'>`Nas voltas do meu coracao`</font> no final do arquivo para completar o refrão mas está sobreescrevendo todo o texto com o mesmo. Qual o valor que a variável <font color='blue'>`mode`</font> deve assumir para que o código cumpra o objetivo descrito:\n",
    "\n",
    "a) `r+`<br>\n",
    "\n",
    "b) `a`<br>\n",
    "\n",
    "c) `wb`<br>\n",
    "\n",
    "d) `w+`<br>"
   ]
  },
  {
   "cell_type": "code",
   "execution_count": null,
   "metadata": {
    "id": "drGRvHaPTm6o"
   },
   "outputs": [],
   "source": [
    "%%writefile roda-viva.txt \n",
    "Roda mundo, roda-gigante\n",
    "Roda moinho, roda piao\n",
    "O tempo rodou num instante"
   ]
  },
  {
   "cell_type": "code",
   "execution_count": null,
   "metadata": {
    "id": "o3ScCmQ3TqTN"
   },
   "outputs": [],
   "source": [
    "mode = 'w'\n",
    "with open(file='roda-viva.txt', mode=mode) as fp:\n",
    "  verso = '\\nNas voltas do meu coracao'\n",
    "  fp.write(verso)"
   ]
  },
  {
   "cell_type": "markdown",
   "metadata": {
    "id": "44Yqxx0qTr5J"
   },
   "source": [
    "### Exercício 6)\n",
    "A classe <font color='blue'>`EquacaoLinear`</font> definida no código abaixo representa uma equação linear de primeiro grau na forma <font color='blue'>`f(x) = a*x + b`</font>. Os códigos em `(I)`, `(II)` e `(III)` a seguir apresentam três formas distintas de definir os coeficiêntes `a` e `b` da equação como `1` e `2`, respectivamente:<br>\n",
    "<br>\n",
    "I)<br>\n",
    "`el = EquacaoLinear(a=1, b=2)`<br>\n",
    "<br>\n",
    "II)<br>\n",
    "`el = EquacaoLinear()`<br>\n",
    "`el.atualiza_coeficientes(a=1, b=2)`<br>\n",
    "<br>\n",
    "III)<br>\n",
    "`el = EquacaoLinear(a=1)`<br>\n",
    "`el._b = 2`<br>\n",
    "<br>\n",
    "\n",
    "Assinale a alternativa correta:<br>\n",
    "a) Apenas `(I)` é verdadeira.<br>\n",
    "\n",
    "b) Apenas `(II)` e `(III)` são verdadeiras.<br>\n",
    "\n",
    "c) Apenas `(I)` e `(III)` são verdadeiras.<br>\n",
    "\n",
    "d) `(I)`, `(II)` e `(III)` são verdadeiras.<br>"
   ]
  },
  {
   "cell_type": "code",
   "execution_count": null,
   "metadata": {
    "id": "6vaMj3tBTxKZ"
   },
   "outputs": [],
   "source": [
    "class EquacaoLinear(object):\n",
    "\n",
    "  def __init__(self, a, b=None):\n",
    "    self._a = a\n",
    "    self._b = b\n",
    "\n",
    "  def atualiza_coeficientes(self, a, b):\n",
    "    self._a = a\n",
    "    self._b = b\n",
    "\n",
    "  def resolve(self, x):\n",
    "    return self._a*x + self._b"
   ]
  }
 ],
 "metadata": {
  "colab": {
   "collapsed_sections": [],
   "name": "Python III avaliacao.ipynb",
   "provenance": [],
   "toc_visible": true
  },
  "kernelspec": {
   "display_name": "Python 3",
   "language": "python",
   "name": "python3"
  },
  "language_info": {
   "codemirror_mode": {
    "name": "ipython",
    "version": 3
   },
   "file_extension": ".py",
   "mimetype": "text/x-python",
   "name": "python",
   "nbconvert_exporter": "python",
   "pygments_lexer": "ipython3",
   "version": "3.8.10"
  }
 },
 "nbformat": 4,
 "nbformat_minor": 1
}
