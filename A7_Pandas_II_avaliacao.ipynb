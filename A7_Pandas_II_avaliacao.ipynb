{
 "cells": [
  {
   "cell_type": "markdown",
   "metadata": {},
   "source": [
    "# <font color=\"blue\"> MBA em Ciência de Dados</font>\n",
    "# <font color=\"blue\">Programação para Ciência de Dados</font>\n",
    "\n",
    "## <font color=\"blue\">Pandas Parte II - Avaliação</font>\n",
    "**Material Produzido por Luis Gustavo Nonato**<br>\n",
    "**Cemeai - ICMC/USP São Carlos**\n",
    "---"
   ]
  },
  {
   "cell_type": "markdown",
   "metadata": {},
   "source": [
    "Os exercícios a seguir farão uso dos arquivos <font style=\"font-family: monaco\">ESC2013\\_RMSP\\_CEM.csv</font> e <font style=\"font-family: monaco\">ENEM2015.csv</font> disponíveis para download no sistema _Moodle_."
   ]
  },
  {
   "cell_type": "code",
   "execution_count": 142,
   "metadata": {},
   "outputs": [],
   "source": [
    "import numpy as np\n",
    "import pandas as pd\n",
    "import matplotlib.pyplot as plt"
   ]
  },
  {
   "cell_type": "code",
   "execution_count": 143,
   "metadata": {},
   "outputs": [],
   "source": [
    "# Os comandos abaixo são apenas para modificar como as informações serão apresentadas\n",
    "# no notebook\n",
    "\n",
    "# mostra no máximo 50 colunas\n",
    "pd.set_option('display.max_columns', 50)\n",
    "\n",
    "# aumenta o tamanho das figuras geradas pelo matplotlib\n",
    "plt.rcParams['figure.figsize'] = (10.0, 8.0)"
   ]
  },
  {
   "cell_type": "markdown",
   "metadata": {},
   "source": [
    "### Exercício 1)\n",
    "Carregue os arquivos <font style=\"font-family: monaco\">ESC2013\\_RMSP\\_CEM.csv</font> e <font style=\"font-family: monaco\">ENEM2015.csv</font>, armazenando-os em variáveis tipo DataFrame chamadas `escolas` e `enem` respectivamente. \n",
    "Os arquivos <font style=\"font-family: monaco\">ESC2013_RMSP_CEM.csv</font> e <font style=\"font-family: monaco\">ENEM2015.csv</font> possuem em comum o código das escolas, os quais estão armazenados nas colunas CODESC e CODIGO DA ENTIDADE, respectivamente.\n",
    "\n",
    "Quantas escolas cujo código aparece no arquivo <font style=\"font-family: monaco\">ENEM2015.csv</font> tambem aparecem em <font style=\"font-family: monaco\">ESC2013_RMSP_CEM.csv</font>?\n",
    "\n",
    "<font color='red'>a) 1243 escolas</font><br>\n",
    "b) 1043 escolas <br>\n",
    "c) 10243 escolas <br>\n",
    "d) 1003 escolas\n",
    "\n",
    "**Dica**: Utilize o método <font color='blue'>isin</font> do <font color='blue'>pandas</font>."
   ]
  },
  {
   "cell_type": "code",
   "execution_count": 144,
   "metadata": {},
   "outputs": [
    {
     "name": "stdout",
     "output_type": "stream",
     "text": [
      "DataFrame escolas:\n",
      " Index(['ID', 'LONGITUDE', 'LATITUDE', 'CODESC', 'CODESCTX', 'NOMEESC',\n",
      "       'NOMEMUN', 'CODMUN', 'NOMDIST', 'CODDIST',\n",
      "       ...\n",
      "       'IDEB11AF', 'IDEB13AF', 'RED_EN13', 'LC_EN13', 'MAT_EN13', 'CH_EN13',\n",
      "       'CN_EN13', 'ENEM2013', 'INSE_AB', 'INSE_CL'],\n",
      "      dtype='object', length=136)\n",
      "DataFrame enem:\n",
      " Index(['CODIGO DA ENTIDADE', 'NUMERO DE PARTICIPANTES', 'Classificacao'], dtype='object')\n"
     ]
    }
   ],
   "source": [
    "escolas = pd.read_csv('ESC2013_RMSP_CEM.csv')\n",
    "print('DataFrame escolas:\\n', escolas.columns)\n",
    "enem = pd.read_csv('ENEM2015.csv')\n",
    "print('DataFrame enem:\\n',enem.columns)"
   ]
  },
  {
   "cell_type": "code",
   "execution_count": 145,
   "metadata": {},
   "outputs": [
    {
     "data": {
      "text/plain": [
       "(10937, 136)"
      ]
     },
     "execution_count": 145,
     "metadata": {},
     "output_type": "execute_result"
    }
   ],
   "source": [
    "escolas.shape"
   ]
  },
  {
   "cell_type": "code",
   "execution_count": 146,
   "metadata": {},
   "outputs": [
    {
     "data": {
      "text/plain": [
       "(1243, 3)"
      ]
     },
     "execution_count": 146,
     "metadata": {},
     "output_type": "execute_result"
    }
   ],
   "source": [
    "enem.shape"
   ]
  },
  {
   "cell_type": "code",
   "execution_count": 147,
   "metadata": {},
   "outputs": [
    {
     "data": {
      "text/plain": [
       "array([35080548, 35352524, 35069929, ..., 35224807, 35662082, 35249191],\n",
       "      dtype=int64)"
      ]
     },
     "execution_count": 147,
     "metadata": {},
     "output_type": "execute_result"
    }
   ],
   "source": [
    "escolas['CODESC'].values"
   ]
  },
  {
   "cell_type": "code",
   "execution_count": 148,
   "metadata": {},
   "outputs": [
    {
     "data": {
      "text/plain": [
       "False    9694\n",
       "True     1243\n",
       "Name: CODESC, dtype: int64"
      ]
     },
     "execution_count": 148,
     "metadata": {},
     "output_type": "execute_result"
    }
   ],
   "source": [
    "contagem = escolas['CODESC'].isin(enem['CODIGO DA ENTIDADE']).value_counts()\n",
    "contagem"
   ]
  },
  {
   "cell_type": "code",
   "execution_count": 149,
   "metadata": {},
   "outputs": [
    {
     "name": "stdout",
     "output_type": "stream",
     "text": [
      "Número de escolas presentes no 2 DataFrames: 1243\n"
     ]
    }
   ],
   "source": [
    "print('Número de escolas presentes nos 2 DataFrames:', contagem[1])"
   ]
  },
  {
   "cell_type": "markdown",
   "metadata": {},
   "source": [
    "### Exercício 2)\n",
    "\n",
    "Verifique quantos valores faltantes existem em cada um dos DataFrames:\n",
    "\n",
    "a) `escolas`: 776346 valores faltantes; `enem`: 0 valores faltantes <br>\n",
    "<font color='red'>b) `escolas`: 776346 valores faltantes; `enem`: 1 valor faltante</font> <br>\n",
    "c) `escolas`: 7346 valores faltantes; `enem`: 103 valores faltantes <br>\n",
    "d) `escolas`: 7346 valores faltantes; `enem`: 10 valores faltantes  "
   ]
  },
  {
   "cell_type": "code",
   "execution_count": 150,
   "metadata": {},
   "outputs": [
    {
     "name": "stdout",
     "output_type": "stream",
     "text": [
      "dados faltantes:\n",
      " escolas: 776346 valores faltantes; enem: 1 valor faltante\n"
     ]
    }
   ],
   "source": [
    "faltantes_1 = escolas.isna().sum(axis=0).sum()\n",
    "faltantes_2 = enem.isna().sum(axis=0).sum()\n",
    "\n",
    "print('dados faltantes:\\n', 'escolas:', faltantes_1, 'valores faltantes; enem:', faltantes_2, 'valor faltante' )"
   ]
  },
  {
   "cell_type": "code",
   "execution_count": 151,
   "metadata": {},
   "outputs": [
    {
     "data": {
      "text/plain": [
       "776346"
      ]
     },
     "execution_count": 151,
     "metadata": {},
     "output_type": "execute_result"
    }
   ],
   "source": [
    "escolas.isna().sum().sum()"
   ]
  },
  {
   "cell_type": "markdown",
   "metadata": {},
   "source": [
    "### Exercício 3)\n",
    "No DataFrame `escolas`, qual o rótulo da coluna com o maior número de valores faltantes.\n",
    "\n",
    "a) LP05_AF<br>\n",
    "b) MAT05_AF <br>\n",
    "c) IDEB05AF <br>\n",
    "<font color='red'>d) COD_SC </font>\n",
    "\n",
    "__Dica__: Utilize uma combinação dos comandos <font color='blue'>isna</font>, <font color='blue'>sum</font> e <font color='blue'>idxmax</font> do <font color='blue'>pandas</font>"
   ]
  },
  {
   "cell_type": "code",
   "execution_count": 152,
   "metadata": {},
   "outputs": [
    {
     "data": {
      "text/plain": [
       "COD_SC       10937\n",
       "LP05_AF      10479\n",
       "NP05_AF      10479\n",
       "MAT05_AF     10479\n",
       "IDEB05AF     10479\n",
       "             ...  \n",
       "REG_MED          0\n",
       "REG_FU_9A        0\n",
       "REG_FU_8A        0\n",
       "REG_IN_PE        0\n",
       "ID               0\n",
       "Length: 136, dtype: int64"
      ]
     },
     "execution_count": 152,
     "metadata": {},
     "output_type": "execute_result"
    }
   ],
   "source": [
    "nulos_por_coluna = escolas.isna().sum().sort_values(ascending=False)\n",
    "nulos_por_coluna"
   ]
  },
  {
   "cell_type": "code",
   "execution_count": 153,
   "metadata": {},
   "outputs": [
    {
     "data": {
      "text/plain": [
       "'COD_SC'"
      ]
     },
     "execution_count": 153,
     "metadata": {},
     "output_type": "execute_result"
    }
   ],
   "source": [
    "# Coluna com mais valores faltantes\n",
    "nulos_por_coluna.idxmax()"
   ]
  },
  {
   "cell_type": "code",
   "execution_count": 154,
   "metadata": {},
   "outputs": [
    {
     "data": {
      "text/plain": [
       "10937"
      ]
     },
     "execution_count": 154,
     "metadata": {},
     "output_type": "execute_result"
    }
   ],
   "source": [
    "# Quantidade de valores faltantes na coluna\n",
    "nulos_por_coluna.max()"
   ]
  },
  {
   "cell_type": "markdown",
   "metadata": {},
   "source": [
    "### Exercício 4)\n",
    "\n",
    "O DataFrame `enem` possui valores faltantes na coluna 'Classificacao'. Preencha os valores faltantes com o valor da 'moda' da coluna. Qual o valor da moda utilizado para preencher os valores faltantes?\n",
    "\n",
    "a) 1<br>\n",
    "<font color='red'>b) 2</font><br>\n",
    "c) 3<br>\n",
    "d) 4"
   ]
  },
  {
   "cell_type": "code",
   "execution_count": 165,
   "metadata": {},
   "outputs": [
    {
     "data": {
      "text/plain": [
       "1"
      ]
     },
     "execution_count": 165,
     "metadata": {},
     "output_type": "execute_result"
    }
   ],
   "source": [
    "# Qtidade de valores faltantes na coluna Classificacao do Enem\n",
    "enem['Classificacao'].isna().sum()"
   ]
  },
  {
   "cell_type": "code",
   "execution_count": 155,
   "metadata": {},
   "outputs": [
    {
     "data": {
      "text/html": [
       "<div>\n",
       "<style scoped>\n",
       "    .dataframe tbody tr th:only-of-type {\n",
       "        vertical-align: middle;\n",
       "    }\n",
       "\n",
       "    .dataframe tbody tr th {\n",
       "        vertical-align: top;\n",
       "    }\n",
       "\n",
       "    .dataframe thead th {\n",
       "        text-align: right;\n",
       "    }\n",
       "</style>\n",
       "<table border=\"1\" class=\"dataframe\">\n",
       "  <thead>\n",
       "    <tr style=\"text-align: right;\">\n",
       "      <th></th>\n",
       "      <th>CODIGO DA ENTIDADE</th>\n",
       "      <th>NUMERO DE PARTICIPANTES</th>\n",
       "      <th>Classificacao</th>\n",
       "    </tr>\n",
       "  </thead>\n",
       "  <tbody>\n",
       "    <tr>\n",
       "      <th>0</th>\n",
       "      <td>35000139</td>\n",
       "      <td>11.0</td>\n",
       "      <td>2.0</td>\n",
       "    </tr>\n",
       "    <tr>\n",
       "      <th>1</th>\n",
       "      <td>35000140</td>\n",
       "      <td>NaN</td>\n",
       "      <td>NaN</td>\n",
       "    </tr>\n",
       "    <tr>\n",
       "      <th>2</th>\n",
       "      <td>35000267</td>\n",
       "      <td>NaN</td>\n",
       "      <td>NaN</td>\n",
       "    </tr>\n",
       "    <tr>\n",
       "      <th>3</th>\n",
       "      <td>35000280</td>\n",
       "      <td>NaN</td>\n",
       "      <td>NaN</td>\n",
       "    </tr>\n",
       "    <tr>\n",
       "      <th>4</th>\n",
       "      <td>35000334</td>\n",
       "      <td>NaN</td>\n",
       "      <td>NaN</td>\n",
       "    </tr>\n",
       "  </tbody>\n",
       "</table>\n",
       "</div>"
      ],
      "text/plain": [
       "   CODIGO DA ENTIDADE  NUMERO DE PARTICIPANTES  Classificacao\n",
       "0            35000139                     11.0            2.0\n",
       "1            35000140                      NaN            NaN\n",
       "2            35000267                      NaN            NaN\n",
       "3            35000280                      NaN            NaN\n",
       "4            35000334                      NaN            NaN"
      ]
     },
     "execution_count": 155,
     "metadata": {},
     "output_type": "execute_result"
    }
   ],
   "source": [
    "modas = enem.mode() # retorna df onde 1a.linha é a moda, 2a.linha é a moda em caso de empate e assim por diante\n",
    "modas.head()"
   ]
  },
  {
   "cell_type": "code",
   "execution_count": 156,
   "metadata": {},
   "outputs": [
    {
     "data": {
      "text/html": [
       "<div>\n",
       "<style scoped>\n",
       "    .dataframe tbody tr th:only-of-type {\n",
       "        vertical-align: middle;\n",
       "    }\n",
       "\n",
       "    .dataframe tbody tr th {\n",
       "        vertical-align: top;\n",
       "    }\n",
       "\n",
       "    .dataframe thead th {\n",
       "        text-align: right;\n",
       "    }\n",
       "</style>\n",
       "<table border=\"1\" class=\"dataframe\">\n",
       "  <thead>\n",
       "    <tr style=\"text-align: right;\">\n",
       "      <th></th>\n",
       "      <th>CODIGO DA ENTIDADE</th>\n",
       "      <th>NUMERO DE PARTICIPANTES</th>\n",
       "      <th>Classificacao</th>\n",
       "    </tr>\n",
       "  </thead>\n",
       "  <tbody>\n",
       "    <tr>\n",
       "      <th>0</th>\n",
       "      <td>35000139</td>\n",
       "      <td>142</td>\n",
       "      <td>1.0</td>\n",
       "    </tr>\n",
       "    <tr>\n",
       "      <th>1</th>\n",
       "      <td>35000140</td>\n",
       "      <td>79</td>\n",
       "      <td>1.0</td>\n",
       "    </tr>\n",
       "    <tr>\n",
       "      <th>2</th>\n",
       "      <td>35000267</td>\n",
       "      <td>131</td>\n",
       "      <td>2.0</td>\n",
       "    </tr>\n",
       "    <tr>\n",
       "      <th>3</th>\n",
       "      <td>35000280</td>\n",
       "      <td>146</td>\n",
       "      <td>1.0</td>\n",
       "    </tr>\n",
       "    <tr>\n",
       "      <th>4</th>\n",
       "      <td>35000334</td>\n",
       "      <td>95</td>\n",
       "      <td>1.0</td>\n",
       "    </tr>\n",
       "    <tr>\n",
       "      <th>...</th>\n",
       "      <td>...</td>\n",
       "      <td>...</td>\n",
       "      <td>...</td>\n",
       "    </tr>\n",
       "    <tr>\n",
       "      <th>1238</th>\n",
       "      <td>35925603</td>\n",
       "      <td>81</td>\n",
       "      <td>2.0</td>\n",
       "    </tr>\n",
       "    <tr>\n",
       "      <th>1239</th>\n",
       "      <td>35925639</td>\n",
       "      <td>98</td>\n",
       "      <td>2.0</td>\n",
       "    </tr>\n",
       "    <tr>\n",
       "      <th>1240</th>\n",
       "      <td>35925834</td>\n",
       "      <td>64</td>\n",
       "      <td>1.0</td>\n",
       "    </tr>\n",
       "    <tr>\n",
       "      <th>1241</th>\n",
       "      <td>35925871</td>\n",
       "      <td>134</td>\n",
       "      <td>2.0</td>\n",
       "    </tr>\n",
       "    <tr>\n",
       "      <th>1242</th>\n",
       "      <td>35990012</td>\n",
       "      <td>122</td>\n",
       "      <td>3.0</td>\n",
       "    </tr>\n",
       "  </tbody>\n",
       "</table>\n",
       "<p>1243 rows × 3 columns</p>\n",
       "</div>"
      ],
      "text/plain": [
       "      CODIGO DA ENTIDADE  NUMERO DE PARTICIPANTES  Classificacao\n",
       "0               35000139                      142            1.0\n",
       "1               35000140                       79            1.0\n",
       "2               35000267                      131            2.0\n",
       "3               35000280                      146            1.0\n",
       "4               35000334                       95            1.0\n",
       "...                  ...                      ...            ...\n",
       "1238            35925603                       81            2.0\n",
       "1239            35925639                       98            2.0\n",
       "1240            35925834                       64            1.0\n",
       "1241            35925871                      134            2.0\n",
       "1242            35990012                      122            3.0\n",
       "\n",
       "[1243 rows x 3 columns]"
      ]
     },
     "execution_count": 156,
     "metadata": {},
     "output_type": "execute_result"
    }
   ],
   "source": [
    "enem_preenchido = enem.fillna(value=modas.iloc[0])  # preenche os valores faltantes com a linha índice 0 do df modas\n",
    "enem_preenchido"
   ]
  },
  {
   "cell_type": "code",
   "execution_count": 157,
   "metadata": {},
   "outputs": [
    {
     "name": "stdout",
     "output_type": "stream",
     "text": [
      "Numero de valores faltantes = 0\n"
     ]
    }
   ],
   "source": [
    "# Verificando que não restam valores faltantes\n",
    "print('Numero de valores faltantes =',enem_preenchido.isna().sum(axis=0).sum())"
   ]
  },
  {
   "cell_type": "markdown",
   "metadata": {},
   "source": [
    "### Exercício 5)\n",
    "Os arquivos <font style=\"font-family: monaco\">ESC2013\\_RMSP\\_CEM.csv</font> e <font style=\"font-family: monaco\">ENEM2015.csv</font> possuem em comum o código das escolas, os quais estão armazenados nas colunas _CODESC_ e _CODIGO DA ENTIDADE_, respectivamente.\n",
    "\n",
    "Busque na coluna 'NUMERO DE PARTICIPANTES' do DataFrame `enem` o código das escolas com o menor número de participantes no ENEM. Utilizando o código obtido, imprima os nomes de tais escolas (armazenado na coluna 'NOMEESC' do DataFrame `escolas`). Uma das escolas com o menor número de participantes é:\n",
    "\n",
    "<font color='red'>a) TEOTONIO ALVES PEREIRA</font><br>\n",
    "b) THAMARA CORREA DE MATOS<br>\n",
    "c) BRASILIO FLORES DE AZEVEDO<br>\n",
    "d) OSWALDO SAMMARTINO"
   ]
  },
  {
   "cell_type": "code",
   "execution_count": 158,
   "metadata": {
    "scrolled": true
   },
   "outputs": [
    {
     "data": {
      "text/plain": [
       "10"
      ]
     },
     "execution_count": 158,
     "metadata": {},
     "output_type": "execute_result"
    }
   ],
   "source": [
    "# Número mínimo de alunos participantes\n",
    "enem['NUMERO DE PARTICIPANTES'].min()"
   ]
  },
  {
   "cell_type": "code",
   "execution_count": 159,
   "metadata": {},
   "outputs": [
    {
     "data": {
      "text/plain": [
       "11     40\n",
       "12     31\n",
       "14     31\n",
       "10     30\n",
       "20     26\n",
       "       ..\n",
       "204     1\n",
       "205     1\n",
       "206     1\n",
       "207     1\n",
       "112     1\n",
       "Name: NUMERO DE PARTICIPANTES, Length: 201, dtype: int64"
      ]
     },
     "execution_count": 159,
     "metadata": {},
     "output_type": "execute_result"
    }
   ],
   "source": [
    "# Contagem da frequência de participação \n",
    "enem['NUMERO DE PARTICIPANTES'].value_counts()"
   ]
  },
  {
   "cell_type": "code",
   "execution_count": 160,
   "metadata": {},
   "outputs": [
    {
     "name": "stdout",
     "output_type": "stream",
     "text": [
      "Número de escolas com menor participação no Enem: 30\n",
      "110     35004510\n",
      "326     35100161\n",
      "371     35101795\n",
      "380     35101990\n",
      "416     35103512\n",
      "447     35105824\n",
      "574     35119210\n",
      "582     35119611\n",
      "584     35119660\n",
      "593     35120509\n",
      "598     35122956\n",
      "624     35125908\n",
      "661     35133152\n",
      "673     35133942\n",
      "674     35134120\n",
      "740     35139622\n",
      "780     35142505\n",
      "856     35153692\n",
      "876     35155299\n",
      "881     35157478\n",
      "890     35158823\n",
      "896     35159359\n",
      "954     35173666\n",
      "967     35176597\n",
      "1093    35439642\n",
      "1095    35440310\n",
      "1130    35801458\n",
      "1152    35807825\n",
      "1172    35812031\n",
      "1173    35812912\n",
      "Name: CODIGO DA ENTIDADE, dtype: int64\n"
     ]
    }
   ],
   "source": [
    "# Relação dos códigos das escolas com menor número de participantes no Enem\n",
    "menor_participacao = enem.loc[enem['NUMERO DE PARTICIPANTES'] == 10, 'CODIGO DA ENTIDADE']\n",
    "print('Número de escolas com menor participação no Enem:', len(menor_participacao))\n",
    "print(menor_participacao)"
   ]
  },
  {
   "cell_type": "code",
   "execution_count": 161,
   "metadata": {},
   "outputs": [
    {
     "data": {
      "text/plain": [
       "array([35004510, 35100161, 35101795, 35101990, 35103512, 35105824,\n",
       "       35119210, 35119611, 35119660, 35120509, 35122956, 35125908,\n",
       "       35133152, 35133942, 35134120, 35139622, 35142505, 35153692,\n",
       "       35155299, 35157478, 35158823, 35159359, 35173666, 35176597,\n",
       "       35439642, 35440310, 35801458, 35807825, 35812031, 35812912],\n",
       "      dtype=int64)"
      ]
     },
     "execution_count": 161,
     "metadata": {},
     "output_type": "execute_result"
    }
   ],
   "source": [
    "# Separando os códigos das escolas dos índices do dataframe\n",
    "codesc_menorpart = menor_participacao.values\n",
    "codesc_menorpart"
   ]
  },
  {
   "cell_type": "code",
   "execution_count": 162,
   "metadata": {},
   "outputs": [
    {
     "data": {
      "text/plain": [
       "array(['TEOTONIO ALVES PEREIRA'], dtype=object)"
      ]
     },
     "execution_count": 162,
     "metadata": {},
     "output_type": "execute_result"
    }
   ],
   "source": [
    "# Checando a posição índice 0\n",
    "escolas.loc[escolas['CODESC'] == codesc_menorpart[0]]['NOMEESC'].values"
   ]
  },
  {
   "cell_type": "code",
   "execution_count": 163,
   "metadata": {},
   "outputs": [
    {
     "data": {
      "text/plain": [
       "{35004510: 'TEOTONIO ALVES PEREIRA',\n",
       " 35100161: 'CENTENARIO COLEGIO',\n",
       " 35101795: 'BRASIL COLEGIO',\n",
       " 35101990: 'NOSSA SENHORA DO SAGRADO CORACAO COLEGIO',\n",
       " 35103512: 'ASSUNCAO COLEGIO EIEFM',\n",
       " 35105824: 'JEAN PIAGET COLEGIO',\n",
       " 35119210: 'MANOEL MARCONDES GALVAO UNIDADE II',\n",
       " 35119611: 'HARMONIA COLEGIO',\n",
       " 35119660: 'PRESTES MAIA INSTITUTO EDUCACIONAL',\n",
       " 35120509: 'EUCLYDES DA CUNHA COLEGIO',\n",
       " 35122956: 'COOPERATIVISTA DE POA COLEGIO',\n",
       " 35125908: 'PAULO DE TARSO COLEGIO',\n",
       " 35133152: 'COSTA ZAVAGLI COLEGIO',\n",
       " 35133942: 'GUARULHOS COLEGIO INTEGRADO',\n",
       " 35134120: 'CALIFORNIA JUNIOR COLEGIO',\n",
       " 35139622: 'RUI BARBOSA COLEGIO',\n",
       " 35142505: 'MARCO ZERO COLEGIO',\n",
       " 35153692: 'ARCADIA COLEGIO',\n",
       " 35155299: 'SANTA RITA COLEGIO',\n",
       " 35157478: 'AUGUSTO SILVA COLEGIO',\n",
       " 35158823: 'FUTURO ESCOLA DO',\n",
       " 35159359: 'ANDRADE INSTITUTO EDUCACIONAL',\n",
       " 35173666: 'POLIEDRO COLEGIO',\n",
       " 35176597: 'ADVENTUS COLEGIO',\n",
       " 35439642: 'DOM BOSCO SANTO ANDRE UNIDADE III COLEGIO',\n",
       " 35440310: 'ALEXANDRE DUMAS COMPLEXO EDUCACIONAL',\n",
       " 35801458: 'FUTURA COLEGIO',\n",
       " 35807825: 'SHANGRI LA COLEGIO',\n",
       " 35812031: 'VIVARE COLEGIO',\n",
       " 35812912: 'CRIACAO COLEGIO'}"
      ]
     },
     "execution_count": 163,
     "metadata": {},
     "output_type": "execute_result"
    }
   ],
   "source": [
    "# Construindo dicionário código:nomes das escolas com menor número de participantes no Enem\n",
    "relacao_escolas = {}\n",
    "\n",
    "for i in range(len(codesc_menorpart)):\n",
    "    relacao_escolas[codesc_menorpart[i]] = escolas.loc[escolas['CODESC'] == codesc_menorpart[i], 'NOMEESC'].values[0]\n",
    "    \n",
    "relacao_escolas\n"
   ]
  },
  {
   "cell_type": "code",
   "execution_count": 164,
   "metadata": {},
   "outputs": [
    {
     "name": "stdout",
     "output_type": "stream",
     "text": [
      "TEOTONIO ALVES PEREIRA  E S T Á na relação\n",
      "THAMARA CORREA DE MATOS  N Ã O está na relação\n",
      "BRASILIO FLORES DE AZEVEDO  N Ã O está na relação\n",
      "OSWALDO SAMMARTINO  N Ã O está na relação\n"
     ]
    }
   ],
   "source": [
    "nome = ['TEOTONIO ALVES PEREIRA', 'THAMARA CORREA DE MATOS', 'BRASILIO FLORES DE AZEVEDO', 'OSWALDO SAMMARTINO']\n",
    "\n",
    "for n in nome:\n",
    "        if n in relacao_escolas.values():\n",
    "            print(n, ' E S T Á na relação')\n",
    "        else:\n",
    "            print(n, ' N Ã O está na relação')\n"
   ]
  },
  {
   "cell_type": "code",
   "execution_count": null,
   "metadata": {},
   "outputs": [],
   "source": []
  }
 ],
 "metadata": {
  "kernelspec": {
   "display_name": "Python 3",
   "language": "python",
   "name": "python3"
  },
  "language_info": {
   "codemirror_mode": {
    "name": "ipython",
    "version": 3
   },
   "file_extension": ".py",
   "mimetype": "text/x-python",
   "name": "python",
   "nbconvert_exporter": "python",
   "pygments_lexer": "ipython3",
   "version": "3.8.10"
  },
  "toc": {
   "base_numbering": 1,
   "nav_menu": {},
   "number_sections": true,
   "sideBar": true,
   "skip_h1_title": false,
   "title_cell": "Table of Contents",
   "title_sidebar": "Contents",
   "toc_cell": false,
   "toc_position": {},
   "toc_section_display": true,
   "toc_window_display": false
  }
 },
 "nbformat": 4,
 "nbformat_minor": 2
}
