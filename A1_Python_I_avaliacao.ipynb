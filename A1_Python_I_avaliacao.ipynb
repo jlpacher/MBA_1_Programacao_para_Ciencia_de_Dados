{
 "cells": [
  {
   "cell_type": "markdown",
   "metadata": {},
   "source": [
    "# <span style=\"color:blue\"> MBA em Ciência de Dados</span>\n",
    "# <span style=\"color:blue\">Programação para Ciência de Dados</span>\n",
    "\n",
    "## <span style=\"color:blue\">Python Parte I: Avaliação</span>\n",
    "**Material Produzido por Luis Gustavo Nonato**<br>\n",
    "**Cemeai - ICMC/USP São Carlos**"
   ]
  },
  {
   "cell_type": "markdown",
   "metadata": {},
   "source": [
    "<font color='red'> As respostas devem ser fornecidas no Moodle. O notebook é apenas para a implementação dos códigos que fornecerão as respostas</font>"
   ]
  },
  {
   "cell_type": "markdown",
   "metadata": {},
   "source": [
    "### Exercício 1\n",
    "Considere a lista `lt` abaixo. Escreva um código para calcular quantos números são múltiplos de 2 e quantos são múltiplos de 3.\n",
    "\n",
    "a) múltiplos de 2 = 13; múltiplos de 3 = 20<br>\n",
    "<font color='red'>b) múltiplos de 2 = 20; múltiplos de 3 = 15</font><br>\n",
    "c) múltiplos de 2 = 15; múltiplos de 3 = 7<br>\n",
    "d) múltiplos de 2 = 22; múltiplos de 3 = 20"
   ]
  },
  {
   "cell_type": "code",
   "execution_count": 1,
   "metadata": {},
   "outputs": [
    {
     "name": "stdout",
     "output_type": "stream",
     "text": [
      "meus_numeros2=  [128, 104, 78, 248, 278, 212, 130, 320, 148, 176, 366, 256, 314, 354, 188, 368, 328, 312, 106, 44] quantidade2=  20\n",
      "meus_numeros3=  [99, 78, 141, 465, 351, 366, 354, 81, 447, 153, 495, 312, 87, 141, 129] quantidade3=  15\n"
     ]
    }
   ],
   "source": [
    "lt = [99, 128, 185, 19, 215, 493, 104, 78, 248, 299, 278, 141, 467, 212, 465, 130, 320, 35, 148, 351, \n",
    "       176, 366, 373, 256, 314, 354, 188, 259, 443, 81, 447, 313, 368, 197, 185, 328, 275, 269, 153, \n",
    "       495, 155, 312, 87, 141, 413, 129, 106, 44, 245, 479]\n",
    "\n",
    "# escreva o código para encontrar a solução \n",
    "\n",
    "meus_numeros2 = []\n",
    "meus_numeros3 = []\n",
    "for i in lt:\n",
    "    if i%2 == 0:\n",
    "        meus_numeros2.append(i)\n",
    "    if i%3 == 0:\n",
    "        meus_numeros3.append(i)\n",
    "        \n",
    "print('meus_numeros2= ', meus_numeros2, 'quantidade2= ', len(meus_numeros2))\n",
    "print('meus_numeros3= ', meus_numeros3, 'quantidade3= ', len(meus_numeros3))"
   ]
  },
  {
   "cell_type": "markdown",
   "metadata": {},
   "source": [
    "### Exercício 2\n",
    "Considere a lista `palavras` abaixo. Escreva um código para encontrar a plavra com o maior número de letras (caracteres). A palavra é:\n",
    "\n",
    "<font color='red'>a) imprescindivel</font><br>\n",
    "b) resiliente<br>\n",
    "c) palimpsesto<br>\n",
    "d) melancolia"
   ]
  },
  {
   "cell_type": "code",
   "execution_count": 2,
   "metadata": {},
   "outputs": [
    {
     "name": "stdout",
     "output_type": "stream",
     "text": [
      "palavra com o maior número de letras (caracteres) é:  imprescindivel\n"
     ]
    }
   ],
   "source": [
    "palavras = ['adeus','adoravel','amor','caminhos','chuva','coragem','cuidar','equilibrio',\n",
    "            'esperanca','felicidade','gentilezas','liberdade','melancolia','paz','respeito',\n",
    "            'riso','saudade','palimpsesto','perfeito','reciproco','recomeçar',\n",
    "            'resiliente','sentir','silencio','imprescindivel','sublime','tertulias']\n",
    "\n",
    "# escreva o código para encontrar a solução \n",
    "maior = ''\n",
    "for elemento in palavras:\n",
    "    if len(elemento) > len(maior):\n",
    "        maior = elemento\n",
    "        \n",
    "print('palavra com o maior número de letras (caracteres) é: ', maior)        \n"
   ]
  },
  {
   "cell_type": "markdown",
   "metadata": {},
   "source": [
    "---\n",
    "\n",
    "Os exercícios de 3 a 5 abaixo fazem uso da lista de tuplas `dados_deputados` definida abaixo. Cada elemento da lista corresponde a uma tupla com nome de um deputado, estado e partido ao qual o deputado pertence e o valor de reembolso solicitado em um determinado mês do ano, ou seja:\n",
    "\n",
    "```python\n",
    "dados_deputados = [(NOME, ESTADO, PARTIDO, VALOR),\n",
    "                   (NOME, ESTADO, PARTIDO, VALOR),\n",
    "                    ...\n",
    "                   (NOME, ESTADO, PARTIDO, VALOR)]\n",
    "```"
   ]
  },
  {
   "cell_type": "code",
   "execution_count": 4,
   "metadata": {},
   "outputs": [],
   "source": [
    "dados_deputados = [('JOSE STEDILE', 'RS', 'PSB', 106.03), ('BENITO GAMA', 'BA', 'PTB', 46.82),\n",
    "                   ('LUCIO VIEIRA LIMA', 'BA', 'PMDB', 332.0), ('FABIO REIS', 'SE', 'PMDB', 80.0), \n",
    "                   ('LUIZA ERUNDINA', 'SP', 'PSOL', 5.7), ('MAURO MARIANI', 'SC', 'PMDB', 526.68), \n",
    "                   ('MAJOR OLIMPIO', 'SP', 'SD', 38.1), ('BETINHO GOMES', 'PE', 'PSDB', 12000.0), \n",
    "                   ('PAULO ABI-ACKEL', 'MG', 'PSDB', 972.72), ('EZEQUIEL TEIXEIRA', 'RJ', 'PTN', 50.0), \n",
    "                   ('ADELMO CARNEIRO LEÃO', 'MG', 'PT', 709.72), ('HISSA ABRAHAO', 'AM', 'PDT', 1379.58), \n",
    "                   ('PAES LANDIM', 'PI', 'PTB', 1091.66), ('ANDRES SANCHEZ', 'SP', 'PT', 61.4), \n",
    "                   ('JOZI ARAUJO', 'AP', 'PTN', 141.0), ('ROBERTO FREIRE', 'SP', 'PPS', 161.88), \n",
    "                   ('ELIZIANE GAMA', 'MA', 'PPS', 546.73), ('CACA LEAO', 'BA', 'PP', 77.5), \n",
    "                   ('DIMAS FABIANO', 'MG', 'PP', 185.0), ('SILVIO TORRES', 'SP', 'PSDB', 233.0), \n",
    "                   ('RICARDO TEOBALDO ', 'PE', 'PTN', 50.0), ('ZECA DIRCEU', 'PR', 'PT', 499.29), \n",
    "                   ('ROCHA', 'AC', 'PSDB', 152.9), ('LAUDIVIO CARVALHO', 'MG', 'SD', 15.6), \n",
    "                   ('CRISTIANE BRASIL', 'RJ', 'PTB', 240.45), ('FABIO SOUSA', 'GO', 'PSDB', 80.0), \n",
    "                   ('CARLOS MANATO', 'ES', 'SD', 124.9), ('GONZAGA PATRIOTA', 'PE', 'PSB', 6.0), \n",
    "                   ('LUIZ COUTO', 'PB', 'PT', 868.83), ('EZEQUIEL TEIXEIRA', 'RJ', 'PTN', 710.45), \n",
    "                   ('MAURO LOPES', 'MG', 'PMDB', 92.6), ('MARCIO ALVINO', 'SP', 'PR', 5.2),\n",
    "                   ('ALEX SANTANA','BA','PDT',137.8),('AELTON FREITAS','MG','PR',27.9)]"
   ]
  },
  {
   "cell_type": "markdown",
   "metadata": {},
   "source": [
    "### Exercício 3\n",
    "Escreva um código para calcular o valor total dos reembolsos solicitado.\n",
    "\n",
    "\n",
    "a) 19783.71<br>\n",
    "<font color='red'>b) 21757.44</font><br>\n",
    "c) 27136.50<br>\n",
    "d) 42313.13"
   ]
  },
  {
   "cell_type": "code",
   "execution_count": 5,
   "metadata": {},
   "outputs": [
    {
     "data": {
      "text/plain": [
       "21757.440000000006"
      ]
     },
     "execution_count": 5,
     "metadata": {},
     "output_type": "execute_result"
    }
   ],
   "source": [
    "# escreva o código para encontrar a solução \n",
    "soma = 0\n",
    "for dados in dados_deputados:\n",
    "    soma += dados[3]\n",
    "\n",
    "soma"
   ]
  },
  {
   "cell_type": "markdown",
   "metadata": {},
   "source": [
    "### Exercício 4\n",
    "Escreva um código para encontrar qual estado possui o maior valor total de reembolsos, ou seja, somando os reembolsos de todos os deputados de cada estado, qual estado possui o maior valor de reembolso? Qual é o estado e o valor encontrados?\n",
    "\n",
    "__Dica:__ Crie um dicionário onde as chaves são os estados.\n",
    "\n",
    "a) SP, 9546.60<br>\n",
    "b) MA, 19456.87<br>\n",
    "c) MT, 11132.70<br>\n",
    "<font color='red'>d) PE, 12056.00 </font>"
   ]
  },
  {
   "cell_type": "code",
   "execution_count": 11,
   "metadata": {},
   "outputs": [
    {
     "name": "stdout",
     "output_type": "stream",
     "text": [
      "{'RS': 106.03, 'BA': 594.12, 'SE': 80.0, 'SP': 505.28, 'SC': 526.68, 'PE': 12056.0, 'MG': 2003.54, 'RJ': 1000.9000000000001, 'AM': 1379.58, 'PI': 1091.66, 'AP': 141.0, 'MA': 546.73, 'PR': 499.29, 'AC': 152.9, 'GO': 80.0, 'ES': 124.9, 'PB': 868.83}\n",
      "Estado com maior reembolso:  PE\n",
      "Valor do reembolso:  12056.0\n"
     ]
    }
   ],
   "source": [
    "# escreva o código para encontrar a solução \n",
    "dict_estados = {}\n",
    "for estado in dados_deputados:\n",
    "    if estado[1] in dict_estados:\n",
    "        dict_estados[estado[1]] += estado[3]\n",
    "    else:\n",
    "        dict_estados[estado[1]] = estado[3]\n",
    "        \n",
    "print(dict_estados)\n",
    "\n",
    "estado = list(dict_estados.keys())     # converte os valores do dicionario em uma lista\n",
    "reembolso = list(dict_estados.values())\n",
    "\n",
    "# combinando o comando 'max' com o método .index() nos objetos tipo 'list'\n",
    "print('Estado com maior reembolso: ', estado[reembolso.index(max(reembolso))])\n",
    "print('Valor do reembolso: ', max(reembolso))"
   ]
  },
  {
   "cell_type": "markdown",
   "metadata": {},
   "source": [
    "### Exercício 5\n",
    "Escreva um código para encontrar qual partido requisitou o menor número de reembolsos (não o valor, mas sim o número de vezes solicitadas).\n",
    "Qual o partido e a quantidade de vezes solicitadas?\n",
    "\n",
    "a) PTB, 3 vezes<br>\n",
    "b) PT, 2 vezes<br>\n",
    "<font color='red'>c) PSOL, 1 vez</font><br>\n",
    "d) PMDB, 5 vezes"
   ]
  },
  {
   "cell_type": "code",
   "execution_count": 12,
   "metadata": {},
   "outputs": [
    {
     "name": "stdout",
     "output_type": "stream",
     "text": [
      "{'PSB': 2, 'PTB': 3, 'PMDB': 4, 'PSOL': 1, 'SD': 3, 'PSDB': 5, 'PTN': 4, 'PT': 4, 'PDT': 2, 'PPS': 2, 'PP': 2, 'PR': 2}\n",
      "Partido com menor quantidade de reembolso:  PSOL\n",
      "Quantidade de reembolso:  1\n"
     ]
    }
   ],
   "source": [
    "# escreva o código para encontrar a solução \n",
    "dict_partidos = {}\n",
    "for partido in dados_deputados:\n",
    "    if partido[2] in dict_partidos:\n",
    "        dict_partidos[partido[2]] += 1\n",
    "    else:\n",
    "        dict_partidos[partido[2]] = 1\n",
    "        \n",
    "print(dict_partidos)\n",
    "\n",
    "# convertendo os valores do dicionario em uma lista\n",
    "partido = list(dict_partidos.keys())\n",
    "quantidade = list(dict_partidos.values())\n",
    "\n",
    "# combinando o comando 'min' com o método .index() nos objetos tipo 'list'\n",
    "print('Partido com menor quantidade de reembolso: ', partido[quantidade.index(min(quantidade))])\n",
    "print('Quantidade de reembolso: ', min(quantidade))"
   ]
  },
  {
   "cell_type": "code",
   "execution_count": null,
   "metadata": {},
   "outputs": [],
   "source": []
  }
 ],
 "metadata": {
  "kernelspec": {
   "display_name": "Python 3",
   "language": "python",
   "name": "python3"
  },
  "language_info": {
   "codemirror_mode": {
    "name": "ipython",
    "version": 3
   },
   "file_extension": ".py",
   "mimetype": "text/x-python",
   "name": "python",
   "nbconvert_exporter": "python",
   "pygments_lexer": "ipython3",
   "version": "3.8.10"
  },
  "toc": {
   "base_numbering": 1,
   "nav_menu": {},
   "number_sections": true,
   "sideBar": true,
   "skip_h1_title": false,
   "title_cell": "Table of Contents",
   "title_sidebar": "Contents",
   "toc_cell": false,
   "toc_position": {},
   "toc_section_display": true,
   "toc_window_display": false
  }
 },
 "nbformat": 4,
 "nbformat_minor": 2
}
