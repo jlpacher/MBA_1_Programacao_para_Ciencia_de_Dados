{
 "cells": [
  {
   "cell_type": "markdown",
   "metadata": {},
   "source": [
    "# <span style=\"color:blue\"> MBA em Ciência de Dados</span>\n",
    "# <span style=\"color:blue\">Programação para Ciência de Dados</span>\n",
    "\n",
    "## <span style=\"color:blue\">Numpy Parte I - Exercícios</span>\n",
    "**Material Produzido por Luis Gustavo Nonato**<br>\n",
    "**Cemeai - ICMC/USP São Carlos**"
   ]
  },
  {
   "cell_type": "markdown",
   "metadata": {},
   "source": [
    "#### <span style=\"color:red\">Recomenda-se fortemente que os exercícios sejam feitos sem consultar as respostas antecipadamente.</span>"
   ]
  },
  {
   "cell_type": "code",
   "execution_count": 1,
   "metadata": {},
   "outputs": [],
   "source": [
    "import numpy as np"
   ]
  },
  {
   "cell_type": "markdown",
   "metadata": {},
   "source": [
    "### Exercício 1)\n",
    "Utilize comprehension para gerar a lista de todos os números inteiros entre 0 e 19. Converta a lista em um <font color='blue'>numpy</font> array bidimensional (matriz) com 4 linhas e 5 colunas."
   ]
  },
  {
   "cell_type": "code",
   "execution_count": 10,
   "metadata": {},
   "outputs": [
    {
     "data": {
      "text/plain": [
       "array([[ 0,  1,  2,  3,  4],\n",
       "       [ 5,  6,  7,  8,  9],\n",
       "       [10, 11, 12, 13, 14],\n",
       "       [15, 16, 17, 18, 19]])"
      ]
     },
     "execution_count": 10,
     "metadata": {},
     "output_type": "execute_result"
    }
   ],
   "source": [
    "lst = [i for i in range(20)]       # usando comprehension\n",
    "lst = np.array(lst2).reshape(4,5)  # convertendo em np.array e redimensionando a matriz\n",
    "lst"
   ]
  },
  {
   "cell_type": "code",
   "execution_count": 11,
   "metadata": {},
   "outputs": [
    {
     "data": {
      "text/plain": [
       "array([[ 0,  1,  2,  3,  4],\n",
       "       [ 5,  6,  7,  8,  9],\n",
       "       [10, 11, 12, 13, 14],\n",
       "       [15, 16, 17, 18, 19]])"
      ]
     },
     "execution_count": 11,
     "metadata": {},
     "output_type": "execute_result"
    }
   ],
   "source": [
    "# usando numpy\n",
    "lst2 = np.arange(20).reshape(4,5)\n",
    "lst2"
   ]
  },
  {
   "cell_type": "markdown",
   "metadata": {},
   "source": [
    "### Exercício 2)\n",
    "Construa um array unidimensional com 30 números inteiros escolhidos de forma randômica no intervalo entre 0 e 20. Reformate o array para que se torne uma matriz `A` com 5 linhas e 6 colunas."
   ]
  },
  {
   "cell_type": "code",
   "execution_count": 51,
   "metadata": {},
   "outputs": [
    {
     "data": {
      "text/plain": [
       "array([[ 6, 17,  2,  1,  6,  8],\n",
       "       [ 7,  5, 11,  0,  1, 16],\n",
       "       [ 6, 19,  0,  2, 12,  8],\n",
       "       [ 8,  6,  3, 19,  8,  4],\n",
       "       [13, 11, 18, 11, 12, 18]])"
      ]
     },
     "execution_count": 51,
     "metadata": {},
     "output_type": "execute_result"
    }
   ],
   "source": [
    "A = np.random.randint(0,20,30).reshape(5,6)\n",
    "A"
   ]
  },
  {
   "cell_type": "markdown",
   "metadata": {},
   "source": [
    "### Exercício 3)\n",
    "Crie uma __view__ da matriz `A` gerada na célula anterior contendo:\n",
    "- as linhas de `A` com índices 0,1 e 3\n",
    "- as linhas de `A` com índice 1 e 2 e as colunas com índice 0,2 e 4\n",
    "- as linhas de `A` com índice 1 e 3 e as colunas com índice 1 e 3"
   ]
  },
  {
   "cell_type": "code",
   "execution_count": 52,
   "metadata": {},
   "outputs": [
    {
     "name": "stdout",
     "output_type": "stream",
     "text": [
      "\n",
      " matriz original = \n",
      " [[ 6 17  2  1  6  8]\n",
      " [ 7  5 11  0  1 16]\n",
      " [ 6 19  0  2 12  8]\n",
      " [ 8  6  3 19  8  4]\n",
      " [13 11 18 11 12 18]]\n",
      "\n",
      " elementos nas linhas 0,1,3 = \n",
      " [[ 6 17  2  1  6  8]\n",
      " [ 7  5 11  0  1 16]\n",
      " [ 8  6  3 19  8  4]]\n",
      "\n",
      " elementos nas linhas 1,2 e colunas 0,2,4 = \n",
      " [[ 7 11  1]\n",
      " [ 6  0 12]]\n",
      "\n",
      " elementos nas linhas 1,3 e colunas 1,3 = \n",
      " [[ 5  0]\n",
      " [ 6 19]]\n"
     ]
    }
   ],
   "source": [
    "print('\\n matriz original = \\n',A)\n",
    "\n",
    "B = A[[0,1,3]]     # não é view, é fancy index, pode modificar a matriz original em algumas situações\n",
    "print('\\n elementos nas linhas 0,1,3 = \\n',B)\n",
    "\n",
    "B = A[1:3, 0:5:2]   # start, stop, step\n",
    "#B = A[1:3,[0,2,4]]  # não é view, é fancy index\n",
    "print('\\n elementos nas linhas 1,2 e colunas 0,2,4 = \\n',B)\n",
    "\n",
    "B = A[1:4:2, 1:4:2]      # start, stop, step\n",
    "#B = A[[1,3]][:,[1,3]]   # não é view, é fancy index\n",
    "print('\\n elementos nas linhas 1,3 e colunas 1,3 = \\n',B)"
   ]
  },
  {
   "cell_type": "markdown",
   "metadata": {},
   "source": [
    "### Exercício 4)\n",
    "Construa um array `A` bidimensional 5x6 com 30 números inteiros escolhidos de forma randômica no intervalo entre 0 e 20. \n",
    "- faça uma cópia do array `A` criado, chamando a cópia de `Ac`\n",
    "- Substitua todos os elementos do array `A` que sejam maiores que 10 pelo valor -1 \n",
    "- Substitua todos os elementos do array `Ac` que sejam maiores que 7 e menores que 15 pelo valor -1 \n",
    "\n",
    "__Dica:__ Gere máscaras booleanas para realizar as modificações nos arrays."
   ]
  },
  {
   "cell_type": "code",
   "execution_count": 31,
   "metadata": {},
   "outputs": [
    {
     "name": "stdout",
     "output_type": "stream",
     "text": [
      "\n",
      " matriz original = \n",
      " [[17 15 11 11 12 10]\n",
      " [18  7 12 16 10  7]\n",
      " [ 8 14 13  5  1  3]\n",
      " [12 19  7  1 15 12]\n",
      " [ 1 19  0 19  0 16]]\n",
      "\n",
      " cópia da matriz original = \n",
      " [[17 15 11 11 12 10]\n",
      " [18  7 12 16 10  7]\n",
      " [ 8 14 13  5  1  3]\n",
      " [12 19  7  1 15 12]\n",
      " [ 1 19  0 19  0 16]]\n",
      "\n",
      "Modificando os elementos maiores que 10 na matriz original = \n",
      " [[-1 -1 -1 -1 -1 10]\n",
      " [-1  7 -1 -1 10  7]\n",
      " [ 8 -1 -1  5  1  3]\n",
      " [-1 -1  7  1 -1 -1]\n",
      " [ 1 -1  0 -1  0 -1]]\n",
      "\n",
      "Modificando os elementos maiores que 7 e menores que 15 na cópia da matriz original = \n",
      " [[17 15 -1 -1 -1 -1]\n",
      " [18  7 -1 16 -1  7]\n",
      " [-1 -1 -1  5  1  3]\n",
      " [-1 19  7  1 15 -1]\n",
      " [ 1 19  0 19  0 16]]\n"
     ]
    }
   ],
   "source": [
    "A = np.random.randint(0,20,30).reshape(5,6)\n",
    "print('\\n matriz original = \\n',A)\n",
    "\n",
    "Ac = np.copy(A)\n",
    "print('\\n cópia da matriz original = \\n',Ac)\n",
    "\n",
    "mask = A > 10\n",
    "A[mask]=-1\n",
    "print('\\nModificando os elementos maiores que 10 na matriz original = \\n',A)\n",
    "\n",
    "mask = (Ac > 7) & (Ac < 15)\n",
    "Ac[mask]=-1\n",
    "print('\\nModificando os elementos maiores que 7 e menores que 15 na cópia da matriz original = \\n',Ac)"
   ]
  },
  {
   "cell_type": "markdown",
   "metadata": {},
   "source": [
    "### Exercício 5)\n",
    "Construa um array `A` com 20 linhas e 10 colunas onde os elementos são os números inteiros de  1 até 200.\n",
    "- Crie uma __view__ de `A` chamada `A_lpares` contendo apenas as linhas de `A` com índice par. \n",
    "- Crie uma __view__ de `A` chamada `A_lpares_cimpares` contendo as linhas `A` com índice par e colunas com índice ímpar. "
   ]
  },
  {
   "cell_type": "code",
   "execution_count": 57,
   "metadata": {},
   "outputs": [
    {
     "name": "stdout",
     "output_type": "stream",
     "text": [
      "\n",
      " matriz original =  (20, 10) linhas x colunas \n",
      " [[  1   2   3   4   5   6   7   8   9  10]\n",
      " [ 11  12  13  14  15  16  17  18  19  20]\n",
      " [ 21  22  23  24  25  26  27  28  29  30]\n",
      " [ 31  32  33  34  35  36  37  38  39  40]\n",
      " [ 41  42  43  44  45  46  47  48  49  50]\n",
      " [ 51  52  53  54  55  56  57  58  59  60]\n",
      " [ 61  62  63  64  65  66  67  68  69  70]\n",
      " [ 71  72  73  74  75  76  77  78  79  80]\n",
      " [ 81  82  83  84  85  86  87  88  89  90]\n",
      " [ 91  92  93  94  95  96  97  98  99 100]\n",
      " [101 102 103 104 105 106 107 108 109 110]\n",
      " [111 112 113 114 115 116 117 118 119 120]\n",
      " [121 122 123 124 125 126 127 128 129 130]\n",
      " [131 132 133 134 135 136 137 138 139 140]\n",
      " [141 142 143 144 145 146 147 148 149 150]\n",
      " [151 152 153 154 155 156 157 158 159 160]\n",
      " [161 162 163 164 165 166 167 168 169 170]\n",
      " [171 172 173 174 175 176 177 178 179 180]\n",
      " [181 182 183 184 185 186 187 188 189 190]\n",
      " [191 192 193 194 195 196 197 198 199 200]]\n",
      "\n",
      " linhas de A com índice par = \n",
      " [[  1   2   3   4   5   6   7   8   9  10]\n",
      " [ 21  22  23  24  25  26  27  28  29  30]\n",
      " [ 41  42  43  44  45  46  47  48  49  50]\n",
      " [ 61  62  63  64  65  66  67  68  69  70]\n",
      " [ 81  82  83  84  85  86  87  88  89  90]\n",
      " [101 102 103 104 105 106 107 108 109 110]\n",
      " [121 122 123 124 125 126 127 128 129 130]\n",
      " [141 142 143 144 145 146 147 148 149 150]\n",
      " [161 162 163 164 165 166 167 168 169 170]\n",
      " [181 182 183 184 185 186 187 188 189 190]]\n",
      "\n",
      " linhas de A com índice par e colunas com índice ímpar = \n",
      " [[  2   4   6   8  10]\n",
      " [ 22  24  26  28  30]\n",
      " [ 42  44  46  48  50]\n",
      " [ 62  64  66  68  70]\n",
      " [ 82  84  86  88  90]\n",
      " [102 104 106 108 110]\n",
      " [122 124 126 128 130]\n",
      " [142 144 146 148 150]\n",
      " [162 164 166 168 170]\n",
      " [182 184 186 188 190]]\n"
     ]
    }
   ],
   "source": [
    "A = np.arange(1,201).reshape(20,10)\n",
    "print('\\n matriz original = ', A.shape,'linhas x colunas \\n',A)\n",
    "\n",
    "lpares = A[0::2]\n",
    "cimpares = A[1::2]\n",
    "\n",
    "A_lpares = A[0::2]\n",
    "print('\\n linhas de A com índice par = \\n',A_lpares)\n",
    "\n",
    "A_lpares_cimpares = A[0::2, 1::2]\n",
    "print('\\n linhas de A com índice par e colunas com índice ímpar = \\n',A_lpares_cimpares)\n",
    "\n",
    "# Outra resolução:\n",
    "# lpares = [np.arange(0,A.shape[0],2)]\n",
    "# cimpares = [np.arange(1,A.shape[1],2)]\n",
    "\n",
    "# A_lpares = A[lpares]\n",
    "# print('\\n linhas de A com índice par = \\n',A_lpares)\n",
    "\n",
    "# A_lpares_cimpares = A[lpares][:,cimpares]\n",
    "# # A_lpares_cimpares = A[np.arange(0,A.shape[0],2)][:,np.arange(1,A.shape[1],2)]\n",
    "# print('\\n linhas de A com índice par e colunas com índice ímpar = \\n',A_lpares_cimpares)\n"
   ]
  },
  {
   "cell_type": "markdown",
   "metadata": {},
   "source": [
    "### Exercício 6)\n",
    "Substitua os elememtos do array `A` do exercício anterior por -1 quando pelo menos um dos índices do elemento é par. \n",
    "\n",
    "__Dica:__ Construa uma máscara booleana"
   ]
  },
  {
   "cell_type": "code",
   "execution_count": 73,
   "metadata": {},
   "outputs": [
    {
     "name": "stdout",
     "output_type": "stream",
     "text": [
      "\n",
      " matriz original =  (20, 10) linhas x colunas \n",
      " [[  1   2   3   4   5   6   7   8   9  10]\n",
      " [ 11  12  13  14  15  16  17  18  19  20]\n",
      " [ 21  22  23  24  25  26  27  28  29  30]\n",
      " [ 31  32  33  34  35  36  37  38  39  40]\n",
      " [ 41  42  43  44  45  46  47  48  49  50]\n",
      " [ 51  52  53  54  55  56  57  58  59  60]\n",
      " [ 61  62  63  64  65  66  67  68  69  70]\n",
      " [ 71  72  73  74  75  76  77  78  79  80]\n",
      " [ 81  82  83  84  85  86  87  88  89  90]\n",
      " [ 91  92  93  94  95  96  97  98  99 100]\n",
      " [101 102 103 104 105 106 107 108 109 110]\n",
      " [111 112 113 114 115 116 117 118 119 120]\n",
      " [121 122 123 124 125 126 127 128 129 130]\n",
      " [131 132 133 134 135 136 137 138 139 140]\n",
      " [141 142 143 144 145 146 147 148 149 150]\n",
      " [151 152 153 154 155 156 157 158 159 160]\n",
      " [161 162 163 164 165 166 167 168 169 170]\n",
      " [171 172 173 174 175 176 177 178 179 180]\n",
      " [181 182 183 184 185 186 187 188 189 190]\n",
      " [191 192 193 194 195 196 197 198 199 200]]\n",
      "\n",
      "mask = \n",
      " [[ True  True  True  True  True  True  True  True  True  True]\n",
      " [ True False  True False  True False  True False  True False]\n",
      " [ True  True  True  True  True  True  True  True  True  True]\n",
      " [ True False  True False  True False  True False  True False]\n",
      " [ True  True  True  True  True  True  True  True  True  True]\n",
      " [ True False  True False  True False  True False  True False]\n",
      " [ True  True  True  True  True  True  True  True  True  True]\n",
      " [ True False  True False  True False  True False  True False]\n",
      " [ True  True  True  True  True  True  True  True  True  True]\n",
      " [ True False  True False  True False  True False  True False]\n",
      " [ True  True  True  True  True  True  True  True  True  True]\n",
      " [ True False  True False  True False  True False  True False]\n",
      " [ True  True  True  True  True  True  True  True  True  True]\n",
      " [ True False  True False  True False  True False  True False]\n",
      " [ True  True  True  True  True  True  True  True  True  True]\n",
      " [ True False  True False  True False  True False  True False]\n",
      " [ True  True  True  True  True  True  True  True  True  True]\n",
      " [ True False  True False  True False  True False  True False]\n",
      " [ True  True  True  True  True  True  True  True  True  True]\n",
      " [ True False  True False  True False  True False  True False]]\n",
      "\n",
      " elementos substituídos nas linhas com índice par e colunas com índice par = \n",
      " [[ -1  -1  -1  -1  -1  -1  -1  -1  -1  -1]\n",
      " [ -1  12  -1  14  -1  16  -1  18  -1  20]\n",
      " [ -1  -1  -1  -1  -1  -1  -1  -1  -1  -1]\n",
      " [ -1  32  -1  34  -1  36  -1  38  -1  40]\n",
      " [ -1  -1  -1  -1  -1  -1  -1  -1  -1  -1]\n",
      " [ -1  52  -1  54  -1  56  -1  58  -1  60]\n",
      " [ -1  -1  -1  -1  -1  -1  -1  -1  -1  -1]\n",
      " [ -1  72  -1  74  -1  76  -1  78  -1  80]\n",
      " [ -1  -1  -1  -1  -1  -1  -1  -1  -1  -1]\n",
      " [ -1  92  -1  94  -1  96  -1  98  -1 100]\n",
      " [ -1  -1  -1  -1  -1  -1  -1  -1  -1  -1]\n",
      " [ -1 112  -1 114  -1 116  -1 118  -1 120]\n",
      " [ -1  -1  -1  -1  -1  -1  -1  -1  -1  -1]\n",
      " [ -1 132  -1 134  -1 136  -1 138  -1 140]\n",
      " [ -1  -1  -1  -1  -1  -1  -1  -1  -1  -1]\n",
      " [ -1 152  -1 154  -1 156  -1 158  -1 160]\n",
      " [ -1  -1  -1  -1  -1  -1  -1  -1  -1  -1]\n",
      " [ -1 172  -1 174  -1 176  -1 178  -1 180]\n",
      " [ -1  -1  -1  -1  -1  -1  -1  -1  -1  -1]\n",
      " [ -1 192  -1 194  -1 196  -1 198  -1 200]]\n"
     ]
    }
   ],
   "source": [
    "A = np.arange(1,201).reshape(20,10)\n",
    "print('\\n matriz original = ', A.shape,'linhas x colunas \\n',A)\n",
    "\n",
    "mask = [[(i%2==0) or (j%2==0) for j in range(A.shape[1])] for i in range(A.shape[0])]\n",
    "mask = np.array(mask).reshape(A.shape[0], A.shape[1])\n",
    "print('\\nmask = \\n', mask)\n",
    "A[mask] = -1\n",
    "print('\\n elementos substituídos nas linhas com índice par e colunas com índice par = \\n',A)\n",
    "\n",
    "# # Outra solução:\n",
    "# A[0::2] = -1\n",
    "# A[:,0::2] = -1\n",
    "# print('\\n elementos substituídos nas linhas com índice par e colunas com índice par = \\n',A)"
   ]
  },
  {
   "cell_type": "markdown",
   "metadata": {},
   "source": [
    "### Exercício 7)\n",
    "Considere o array `X` de números tipo <font color='blue'>float</font> gerado a partir de uma distribuição uniforme no intervalo entre 0 e 1. Escreva um código para encontrar os três menores valores do array.\n",
    "\n",
    "__Dica:__ Converta o array em uma lista e ordene."
   ]
  },
  {
   "cell_type": "code",
   "execution_count": 82,
   "metadata": {},
   "outputs": [
    {
     "name": "stdout",
     "output_type": "stream",
     "text": [
      "X:\n",
      " [0.13412174215814132, 0.6717743083733748, 0.6363154985792794, 0.6350679160274243, 0.10542293421949911, 0.9202085866402063, 0.3582535172640766, 0.898861969161327, 0.28041986074753344, 0.46859361478241535]\n"
     ]
    },
    {
     "data": {
      "text/plain": [
       "[0.10542293421949911, 0.13412174215814132, 0.28041986074753344]"
      ]
     },
     "execution_count": 82,
     "metadata": {},
     "output_type": "execute_result"
    }
   ],
   "source": [
    "X = np.random.uniform(low=0.0, high=1.0, size=10)\n",
    "X = X.tolist() # convertendo a uma lista\n",
    "print('X:\\n', X)\n",
    "sorted(X)[:3]  # ordenando e selecionando os 3 menores valores\n"
   ]
  },
  {
   "cell_type": "markdown",
   "metadata": {},
   "source": [
    "### Exercício 8)\n",
    "Escreva uma função chamada `troca_colunas` que recebe um array e o índice de duas colunas como parâmetros e retorna o array com as colunas trocadas. Por exemplo:\n",
    "```python\n",
    "X = np.array([[0, 1, 2, 3, 4, 5], \n",
    "              [0, 1, 2, 3, 4, 5], \n",
    "              [0, 1, 2, 3, 4, 5]])\n",
    "\n",
    "X = troca_colunas(X,1,3)\n",
    "print(X)\n",
    "```\n",
    "deve resultar em\n",
    "```python\n",
    "[[0 3 2 1 4 5]\n",
    " [0 3 2 1 4 5]\n",
    " [0 3 2 1 4 5]]\n",
    "```\n"
   ]
  },
  {
   "cell_type": "code",
   "execution_count": 84,
   "metadata": {},
   "outputs": [
    {
     "name": "stdout",
     "output_type": "stream",
     "text": [
      "[[0 1 2 3 4 5]\n",
      " [0 1 2 3 4 5]\n",
      " [0 1 2 3 4 5]]\n",
      "[[0 3 2 1 4 5]\n",
      " [0 3 2 1 4 5]\n",
      " [0 3 2 1 4 5]]\n"
     ]
    }
   ],
   "source": [
    "def troca_colunas(A,i,j):\n",
    "   # inclua se codigo aqui\n",
    "    aux = A[:, i].copy()\n",
    "    A[:, i] = A[:, j]\n",
    "    A[:, j] = aux\n",
    "    return(A)\n",
    "\n",
    "X = np.array([[0, 1, 2, 3, 4, 5], [0, 1, 2, 3, 4, 5], [0, 1, 2, 3, 4, 5]])\n",
    "print(X)\n",
    "\n",
    "X = troca_colunas(X,1,3)\n",
    "print(X)"
   ]
  },
  {
   "cell_type": "markdown",
   "metadata": {},
   "source": [
    "### Exercício 9)\n",
    "Os métodos <font color='blue'>vstack</font> e <font color='blue'>hstack</font> do <font color='blue'>numpy</font> empilha matrizes na vertical e horizontal, respectivamente. Por exemplo:\n",
    "```python\n",
    "A = [[1.0, 1.0, 1.0], [1.0, 1.0, 1.0]]\n",
    "B = [[2.0, 2.0, 2.0], [2.0, 2.0, 2.0]]\n",
    "\n",
    "C = np.vstack((A,B))\n",
    "print(C)\n",
    "```\n",
    "resulta em\n",
    "```python\n",
    "[[1. 1. 1.]\n",
    " [1. 1. 1.]\n",
    " [2. 2. 2.]\n",
    " [2. 2. 2.]]\n",
    "```\n",
    "Escreva um código para gerar duas matrizes `A` e `B` de números inteiros randômicos no intervalo entre 0 e 10, onde:\n",
    "- A matriz `A` é 5x6\n",
    "- A matriz `B` é 5x3\n",
    "\n",
    "Utilize o método <font color='blue'>hstack</font> para empilhar as matrizes\n",
    "\n",
    "O que acontece se tentar utilizar o método <font color='blue'>vstack</font>? Explique o motivo da mensagem gerada."
   ]
  },
  {
   "cell_type": "code",
   "execution_count": 88,
   "metadata": {},
   "outputs": [
    {
     "name": "stdout",
     "output_type": "stream",
     "text": [
      "[[7 9 0 4 3 3 5 9 2]\n",
      " [9 4 7 1 8 6 6 0 9]\n",
      " [8 6 2 5 6 2 0 3 5]\n",
      " [0 5 7 6 0 4 2 9 5]\n",
      " [5 1 7 2 8 5 7 2 8]]\n"
     ]
    }
   ],
   "source": [
    "A = np.random.randint(low=0, high=10, size=30).reshape(5,6)\n",
    "B = np.random.randint(low=0, high=10, size=15).reshape(5,3)\n",
    "\n",
    "# Empilhando horizontalmente\n",
    "C = np.hstack((A,B))\n",
    "print(C)\n",
    "\n",
    "# Empilhando verticalmente\n",
    "# Vai dar erro porque para concatenação a dimensão concatenada deve ser exatamente igual nas 2 matrizes\n",
    "# Porém, nesse caso a quantidade de colunas é diferente em A e em B\n",
    "# D = np.vstack((A,B))\n",
    "# print(D)"
   ]
  },
  {
   "cell_type": "markdown",
   "metadata": {},
   "source": [
    "### Exercício 10)\n",
    "Escreva um código para, data uma matriz, zerar todos os elementos abaixo da diagonal principal da matriz. Por exemplo:\n",
    "```python\n",
    "[[2 8 3 4 8]\n",
    " [4 8 7 7 3]\n",
    " [8 2 3 1 4]\n",
    " [8 6 3 8 1]\n",
    " [6 4 4 6 1]]\n",
    "```\n",
    "deve resultar em\n",
    "```python\n",
    "[[2 8 3 4 8]\n",
    " [0 8 7 7 3]\n",
    " [0 0 3 1 4]\n",
    " [0 0 0 8 1]\n",
    " [0 0 0 0 1]]\n",
    "```"
   ]
  },
  {
   "cell_type": "code",
   "execution_count": 92,
   "metadata": {},
   "outputs": [
    {
     "name": "stdout",
     "output_type": "stream",
     "text": [
      "\n",
      " matriz original =  (5, 5) linhas x colunas \n",
      " [[6 3 8 9 4]\n",
      " [3 7 1 3 6]\n",
      " [6 3 8 2 8]\n",
      " [9 9 8 4 1]\n",
      " [6 8 7 2 4]]\n",
      "\n",
      "mask = \n",
      " [[False False False False False]\n",
      " [ True False False False False]\n",
      " [ True  True False False False]\n",
      " [ True  True  True False False]\n",
      " [ True  True  True  True False]]\n",
      "\n",
      " elementos substituídos abaixo da diagonal principal = \n",
      " [[6 3 8 9 4]\n",
      " [0 7 1 3 6]\n",
      " [0 0 8 2 8]\n",
      " [0 0 0 4 1]\n",
      " [0 0 0 0 4]]\n",
      "\n",
      " elementos substituídos abaixo da diagonal principal = \n",
      " [[5 7 7 9 8]\n",
      " [0 1 3 7 7]\n",
      " [0 0 5 7 8]\n",
      " [0 0 0 6 4]\n",
      " [0 0 0 0 3]]\n"
     ]
    }
   ],
   "source": [
    "A = np.random.randint(1,10,25).reshape(5,5)\n",
    "print('\\n matriz original = ', A.shape,'linhas x colunas \\n',A)\n",
    "\n",
    "mask = [[(i>j) for j in range(A.shape[1])] for i in range(A.shape[0])]\n",
    "mask = np.array(mask).reshape(A.shape[0], A.shape[1])\n",
    "print('\\nmask = \\n', mask)\n",
    "A[mask] = 0\n",
    "print('\\n elementos substituídos abaixo da diagonal principal = \\n',A)\n",
    "\n",
    "# uma alternativa é utilizar o método 'triu' do numpy\n",
    "A = np.random.randint(1,10,25).reshape(5,5)\n",
    "A = np.triu(A)\n",
    "print('\\n elementos substituídos abaixo da diagonal principal = \\n',A)"
   ]
  },
  {
   "cell_type": "code",
   "execution_count": null,
   "metadata": {},
   "outputs": [],
   "source": []
  }
 ],
 "metadata": {
  "kernelspec": {
   "display_name": "Python 3",
   "language": "python",
   "name": "python3"
  },
  "language_info": {
   "codemirror_mode": {
    "name": "ipython",
    "version": 3
   },
   "file_extension": ".py",
   "mimetype": "text/x-python",
   "name": "python",
   "nbconvert_exporter": "python",
   "pygments_lexer": "ipython3",
   "version": "3.8.3"
  }
 },
 "nbformat": 4,
 "nbformat_minor": 2
}
