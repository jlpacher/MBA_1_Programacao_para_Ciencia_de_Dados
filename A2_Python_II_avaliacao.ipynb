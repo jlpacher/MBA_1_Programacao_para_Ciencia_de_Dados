{
 "cells": [
  {
   "cell_type": "markdown",
   "metadata": {
    "id": "ckwgmRh0Nx6g"
   },
   "source": [
    "# <span style=\"color:blue\"> MBA em Ciência de Dados</span>\n",
    "# <span style=\"color:blue\">Programação para Ciência de Dados</span>\n",
    "\n",
    "## <span style=\"color:blue\">Avaliação Python Parte II</span>\n",
    "**Material Produzido por Luis Gustavo Nonato**<br>\n",
    "**Cemeai - ICMC/USP São Carlos**"
   ]
  },
  {
   "cell_type": "markdown",
   "metadata": {
    "id": "6Z_vh2QoNx62"
   },
   "source": [
    "<font color='red'> As respostas devem ser fornecidas no Moodle. O notebook é apenas para a implementação dos códigos que fornecerão as respostas</font>"
   ]
  },
  {
   "cell_type": "markdown",
   "metadata": {
    "id": "FAkAQpE8Nx64"
   },
   "source": [
    "### Exercício 1) \n",
    "Considere a lista `mat` abaixo, onde cada elemento é também uma lista. A lista correspondente a cada elemento de `mat` tem como primeiro elemento o cargo, o segundo elemento o nível de formação e o terceiro o nome de um  funcionário.\n",
    "\n",
    "Utilize comprehension para gerar uma lista chamada `nomes` que contenha o nome dos funcionários que __NÃO__ são doutor. \n",
    "Dentre as opções abaixo, qual implementa a solução correta?\n",
    "\n",
    "<font color='red'>a) nomes = [s[2] for s in mat if s[1] != 'doutor']</font><br>\n",
    "b) nomes = [s[1] for s in mat if s[2] != 'doutor']<br>\n",
    "c) nomes = [s for s in mat if s != 'doutor']<br>\n",
    "c) nomes = [s[0] for s in mat if s != 'doutor']"
   ]
  },
  {
   "cell_type": "code",
   "execution_count": 1,
   "metadata": {
    "id": "NypqFEIuNx66"
   },
   "outputs": [
    {
     "data": {
      "text/plain": [
       "['Carlos', 'Lucas', 'Alberto', 'Ricardo', 'Fernando']"
      ]
     },
     "execution_count": 1,
     "metadata": {},
     "output_type": "execute_result"
    }
   ],
   "source": [
    "mat = [\n",
    "    ['supervisor', 'tecnico', 'Carlos'],\n",
    "    ['assistente', 'tecnico', 'Lucas'],\n",
    "    ['iniciante', 'doutor', 'Jeremias'],\n",
    "    ['supervisor', 'mestre', 'Alberto'],\n",
    "    ['gerente', 'graduado', 'Ricardo'],\n",
    "    ['engenheiro', 'graduado', 'Fernando'],\n",
    "]\n",
    "\n",
    "nomes = [s[2] for s in mat if s[1] !='doutor']\n",
    "nomes"
   ]
  },
  {
   "cell_type": "markdown",
   "metadata": {
    "id": "ICCPwdS4Nx68"
   },
   "source": [
    "### Exercício 2)\n",
    "Ainda utilizando a lista `mat` do exercício anterior e comprehension, crie um dicionário da forma `nome:(cargo, formacao)`, ou seja, as chaves são os _nomes_ e os valores uma tupla com o par (_cargo_, _nível de formação_). No dicionário produzido, o valor associado à chave 'Carlos' será:\n",
    "\n",
    "<font color='red'>a) ('supervisor', 'tecnico')</font><br>\n",
    "b) ('tecnico', 'assistente')<br>\n",
    "c) ('supervisor', 'mestre')<br>\n",
    "d) ('mestre','supervisor')"
   ]
  },
  {
   "cell_type": "code",
   "execution_count": 2,
   "metadata": {
    "id": "ld-m08yCNx69"
   },
   "outputs": [
    {
     "name": "stdout",
     "output_type": "stream",
     "text": [
      "{'Carlos': ('supervisor', 'tecnico'), 'Lucas': ('assistente', 'tecnico'), 'Jeremias': ('iniciante', 'doutor'), 'Alberto': ('supervisor', 'mestre'), 'Ricardo': ('gerente', 'graduado'), 'Fernando': ('engenheiro', 'graduado')}\n",
      "\n",
      "\n",
      "Cargo, Formação de Carlos:  ('supervisor', 'tecnico')\n"
     ]
    }
   ],
   "source": [
    "dict = {lista[2]:(lista[0], lista[1]) for lista in mat}\n",
    "print(dict)\n",
    "print('\\n')\n",
    "print('Cargo, Formação de Carlos: ', dict['Carlos'])"
   ]
  },
  {
   "cell_type": "markdown",
   "metadata": {
    "id": "eOx5LOp_Nx6-"
   },
   "source": [
    "### Exercício 3) \n",
    "A função `variacoes` descrita abaixo \n",
    "```python\n",
    "def variacoes(s):\n",
    "    dc = {______________}\n",
    "    return(dc)\n",
    "```\n",
    "recebe uma 'string' como parâmetro e gera um dicionário como resposta, onde as chaves do dicionário são todas as variações da string com um caracter removido, sendo o valor associado a cada chave a string original. Por exemplo:\n",
    "```python\n",
    "print(variacoes('casa'))\n",
    "```\n",
    "deve resultar em:\n",
    "```python\n",
    "{'asa': 'casa', 'csa': 'casa', 'caa': 'casa', 'cas': 'casa'}\n",
    "```\n",
    "\n",
    "Qual das alternativas abaixo completa corretamente a função?\n",
    "\n",
    "a) {s[0]+s[1] for s in range(len(s))}<br>\n",
    "b) {s[:i]+s[i+1:]:i for i in s}<br>\n",
    "<font color='red'>c) {s[0:i]+s[i+1:]:s for i in len(s)}</font><br>\n",
    "d) {s[0:i]+s[i+1:]:s for i in range(len(s))}"
   ]
  },
  {
   "cell_type": "code",
   "execution_count": 3,
   "metadata": {
    "id": "0h4vDdEYNx7A"
   },
   "outputs": [
    {
     "name": "stdout",
     "output_type": "stream",
     "text": [
      "{'asa': 'casa', 'csa': 'casa', 'caa': 'casa', 'cas': 'casa'}\n"
     ]
    }
   ],
   "source": [
    "def variacoes(s):\n",
    "    dc = {s[0:i]+s[i+1:]:s for i in range(len(s))}  # complete a funcao\n",
    "    return(dc)\n",
    "\n",
    "print(variacoes('casa'))"
   ]
  },
  {
   "cell_type": "markdown",
   "metadata": {
    "id": "HjZmJOSpNx7C"
   },
   "source": [
    "### Exercício 4) \n",
    "O método <font color='blue'>sorted</font> assume como parâmetros uma sequência e um parâmetro `key` que pode ser uma função, a qual é aplicada aos elementos da lista a fim de ordená-los de acordo com os valores resultantes da função.\n",
    "Utilize uma função <font color='blue'>lambda</font> como parâmetro para método <font color='blue'>sorted</font> para ordenar os elementos de uma lista como se estes fossem da forma $(x+0.5)^2$.\n",
    "\n",
    "O resultado da função construída quando aplicada à lista \n",
    "```python\n",
    "[0.11, -0.11, 0.4, 0.11, -0.57, -0.05, 0.85, -0.27, -0.07, -0.78]\n",
    "```\n",
    "será:\n",
    "\n",
    "a) [-0.78, -0.57, -0.27, -0.11, -0.07, -0.05, 0.11, 0.11, 0.4, 0.85]<br>\n",
    "<font color='red'>b) [-0.57, -0.27, -0.78, -0.11, -0.07, -0.05, 0.11, 0.11, 0.4, 0.85]</font><br>\n",
    "c) [-0.05, -0.07, 0.11, -0.11, 0.11, -0.27, 0.4, -0.57, -0.78, 0.85]<br>\n",
    "d) [-0.05, 0.11, -0.07, -0.11, 0.11, -0.27, 0.4, -0.57, -0.78, 0.85]"
   ]
  },
  {
   "cell_type": "code",
   "execution_count": 33,
   "metadata": {
    "id": "S1pCGLFmNx7E"
   },
   "outputs": [
    {
     "name": "stdout",
     "output_type": "stream",
     "text": [
      "[-0.57, -0.27, -0.78, -0.11, -0.07, -0.05, 0.11, 0.11, 0.4, 0.85]\n"
     ]
    }
   ],
   "source": [
    "l = [0.11, -0.11, 0.4, 0.11, -0.57, -0.05, 0.85, -0.27, -0.07, -0.78]\n",
    "\n",
    "print(sorted(l, key=lambda x:(x+0.5)**2)) # Key é a regra da ordenação dp sorted, não opera sobre os valores de retorno\n"
   ]
  },
  {
   "cell_type": "markdown",
   "metadata": {
    "id": "X7_aKcPPNx7F"
   },
   "source": [
    "### Exercício 5) \n",
    "Construa uma função `concatena_dicionarios` que recebe dois dicionários como parâmetros e concatena ambos em um único dicionário contendo as chaves e valores dos dois dicionários. Se a chave se repete em ambos, junte os valores em uma lista. Por exemplo, dados os dicionários:\n",
    "```python\n",
    "dc1 = {1: '5479', 5: '1479', 7: '1549', 9: '1547'}\n",
    "dc2 = {5: '2647', 2: '9647', 1: '9247'}\n",
    "```\n",
    "a função deve resultar no dicionário\n",
    "```python\n",
    "{1: ['5479', '9247'], 7: '1549', 5: ['1479', '2647'], 9: '1547', 2: '9647'}\n",
    "```\n",
    "Supondo os dicionários:\n",
    "```python\n",
    "dc1 = {4: '10153', 18: '41118', 2: '101515', 15: '354', 7: '4145', 8: '10316', 3: '121016', \n",
    "       11: '15122', 12: '16158', 10: '4188', 14: '15318', 5: '11711', 16: '181412'}\n",
    "\n",
    "dc2 = {19: '16619', 4: '11310', 18: '171112', 11: '171817', 12: '171911', 6: '4195', \n",
    "       5: '171910', 3: '10310', 16: '191916', 10: '111619', 17: '51016'}\n",
    "```\n",
    "como entrada para a função construída, quais serão os valores associados as chaves 3 e 18?\n",
    "\n",
    "a) valor da chave 3 = ['16158', '171911']; valor da chave 18 = ['15122', '171817']<br>\n",
    "b) valor da chave 3 = ['10153', '11310']; valor da chave 18 = '41118'<br>\n",
    "<font color='red'>c) valor da chave 3 = ['121016', '10310']; valor da chave 18 = ['41118', '171112']</font><br>\n",
    "d) valor da chave 3 = ['4188', '111619']; valor da chave 18 = ['181412', '191916']"
   ]
  },
  {
   "cell_type": "code",
   "execution_count": 20,
   "metadata": {
    "id": "eOG79-BxNx7G"
   },
   "outputs": [
    {
     "name": "stdout",
     "output_type": "stream",
     "text": [
      "[(2, '101515'), (3, ['121016', '10310']), (4, ['10153', '11310']), (5, ['11711', '171910']), (6, '4195'), (7, '4145'), (8, '10316'), (10, ['4188', '111619']), (11, ['15122', '171817']), (12, ['16158', '171911']), (14, '15318'), (15, '354'), (16, ['181412', '191916']), (17, '51016'), (18, ['41118', '171112']), (19, '16619')]\n",
      "valor da chave 3=  ['121016', '10310'] ; valor da chave 18=  ['41118', '171112']\n"
     ]
    }
   ],
   "source": [
    "def concatena_dicionarios(d1,d2):\n",
    "    #complete a funcao\n",
    "    dr = {x:d1[x] if x not in d2 else [d1[x],d2[x]] for x in d1}\n",
    "    for k,v in d2.items():\n",
    "        if k not in dr:\n",
    "            dr[k] = v\n",
    "    return(dr)\n",
    "\n",
    "dc1 = {4: '10153', 18: '41118', 2: '101515', 15: '354', 7: '4145', 8: '10316', 3: '121016', \n",
    "       11: '15122', 12: '16158', 10: '4188', 14: '15318', 5: '11711', 16: '181412'}\n",
    "dc2 = {19: '16619', 4: '11310', 18: '171112', 11: '171817', 12: '171911', 6: '4195', \n",
    "       5: '171910', 3: '10310', 16: '191916', 10: '111619', 17: '51016'}\n",
    "\n",
    "print(sorted(concatena_dicionarios(dc1,dc2).items()))\n",
    "print('valor da chave 3= ', concatena_dicionarios(dc1,dc2)[3], '; valor da chave 18= ', concatena_dicionarios(dc1,dc2)[18])"
   ]
  },
  {
   "cell_type": "code",
   "execution_count": 3,
   "metadata": {},
   "outputs": [
    {
     "name": "stdout",
     "output_type": "stream",
     "text": [
      "[(3, ['121016', '10310']), (4, ['10153', '11310']), (5, ['11711', '171910']), (6, '4195'), (10, ['4188', '111619']), (11, ['15122', '171817']), (12, ['16158', '171911']), (16, ['181412', '191916']), (17, '51016'), (18, ['41118', '171112']), (19, '16619')]\n"
     ]
    }
   ],
   "source": [
    "# Tentativa, mas não deu certo com 2 comprehension...\n",
    "\n",
    "def concatena_dicionarios(d1,d2):\n",
    "    dr = {k:v for k,v in d1.items()}\n",
    "    dr = {k:v if k not in dr else [dr[k],v] for k,v in d2.items()}\n",
    "#     dr = {k:[dr[k], v] if k in dr else v for k,v in d2.items()}\n",
    "    return(dr)\n",
    "\n",
    "dc1 = {4: '10153', 18: '41118', 2: '101515', 15: '354', 7: '4145', 8: '10316', 3: '121016', \n",
    "       11: '15122', 12: '16158', 10: '4188', 14: '15318', 5: '11711', 16: '181412'}\n",
    "dc2 = {19: '16619', 4: '11310', 18: '171112', 11: '171817', 12: '171911', 6: '4195', \n",
    "       5: '171910', 3: '10310', 16: '191916', 10: '111619', 17: '51016'}\n",
    "\n",
    "print(sorted(concatena_dicionarios(dc1,dc2).items()))"
   ]
  },
  {
   "cell_type": "code",
   "execution_count": null,
   "metadata": {},
   "outputs": [],
   "source": [
    "# Só comprehension e método get que não dá erro se não encontra a chave no dict...\n",
    "concat = lambda x,y: {i:x[i] if y.get(i) == None else [x[i]] + [y[i]] for i in x.keys()}\n",
    "resp = concat(dc1,dc2)"
   ]
  }
 ],
 "metadata": {
  "colab": {
   "collapsed_sections": [],
   "name": "Python II avaliacao.ipynb",
   "provenance": []
  },
  "kernelspec": {
   "display_name": "Python 3",
   "language": "python",
   "name": "python3"
  },
  "language_info": {
   "codemirror_mode": {
    "name": "ipython",
    "version": 3
   },
   "file_extension": ".py",
   "mimetype": "text/x-python",
   "name": "python",
   "nbconvert_exporter": "python",
   "pygments_lexer": "ipython3",
   "version": "3.8.10"
  }
 },
 "nbformat": 4,
 "nbformat_minor": 1
}
