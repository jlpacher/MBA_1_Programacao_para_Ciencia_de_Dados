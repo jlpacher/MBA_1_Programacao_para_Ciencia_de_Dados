{
 "cells": [
  {
   "cell_type": "markdown",
   "metadata": {},
   "source": [
    "# <span style=\"color:blue\"> MBA em Ciência de Dados</span>\n",
    "# <span style=\"color:blue\">Programação para Ciência de Dados</span>\n",
    "\n",
    "## <span style=\"color:blue\">Pandas Parte III - Avaliação </span>\n",
    "**Material Produzido por Luis Gustavo Nonato**<br>\n",
    "**Cemeai - ICMC/USP São Carlos**"
   ]
  },
  {
   "cell_type": "markdown",
   "metadata": {},
   "source": [
    "Os exercícios a seguir farão uso do arquivo <font style=\"font-family: monaco\">sales1000.csv</font> disponível para download no moodle.\n",
    "\n",
    "O arquivo <font style=\"font-family: monaco\">sales1000.csv</font> possui informações relativas à venda de produtos. As colunas abaixo são de particular importância para solução dos exercícios:\n",
    "- *Country*: país da venda\n",
    "- *Item Type*: tipo do produto vendido no país\n",
    "- *Units Sold*: quantidade vendida\n",
    "- *Unit Price*: preço de venda\n",
    "- *Unit Cost*: preço de custo\n",
    "- *Total Profit*: lucro total"
   ]
  },
  {
   "cell_type": "code",
   "execution_count": 1,
   "metadata": {},
   "outputs": [],
   "source": [
    "import pandas as pd\n",
    "import numpy as np\n",
    "\n",
    "df = pd.read_csv('sales1000.csv')"
   ]
  },
  {
   "cell_type": "code",
   "execution_count": 35,
   "metadata": {},
   "outputs": [
    {
     "data": {
      "text/plain": [
       "(1000, 14)"
      ]
     },
     "execution_count": 35,
     "metadata": {},
     "output_type": "execute_result"
    }
   ],
   "source": [
    "df.shape"
   ]
  },
  {
   "cell_type": "markdown",
   "metadata": {},
   "source": [
    "### Exercício 1)\n",
    "Agrupe os elementos da base de dados armazenada no arquivo <font style=\"font-family: monaco\">sales1000.csv</font> de acordo com os países.\n",
    "Quantos produtos diferentes o país 'Japan' vende?\n",
    "\n",
    "a) 8<br>\n",
    "b) 7<br>\n",
    "<font color='red'>c) 6</font><br>\n",
    "d) 5"
   ]
  },
  {
   "cell_type": "code",
   "execution_count": 5,
   "metadata": {},
   "outputs": [
    {
     "name": "stdout",
     "output_type": "stream",
     "text": [
      "Items vendidos pelo Japão:\n",
      " 3             Cereal\n",
      "168        Beverages\n",
      "342        Baby Food\n",
      "398        Cosmetics\n",
      "536        Cosmetics\n",
      "555    Personal Care\n",
      "627             Meat\n",
      "901        Cosmetics\n",
      "Name: Item Type, dtype: object\n",
      "Número de produtos distintos - Japão: 6\n",
      "Número de produtos distintos - Japão: 6\n"
     ]
    }
   ],
   "source": [
    "# Agrupando por país\n",
    "paises = df.groupby('Country')\n",
    "\n",
    "# Usando o método .get_group() para selecionar o país do grupo 'paises'\n",
    "japan = paises.get_group('Japan')\n",
    "\n",
    "# Selecionando 'Item Type' para exibir os items vendidos e len(unique()) e nunique() a quantidade de ítens únicos\n",
    "print('Items vendidos pelo Japão:\\n', japan['Item Type'])\n",
    "print('Número de produtos distintos - Japão:', len(japan['Item Type'].unique()))\n",
    "print('Número de produtos distintos - Japão:', japan['Item Type'].nunique())"
   ]
  },
  {
   "cell_type": "markdown",
   "metadata": {},
   "source": [
    "### Exercício 2)\n",
    "Considerando todas as vendas de um país, qual o país com o menor lucro total?\n",
    "\n",
    "<font color='red'>a) Cameroon</font><br>\n",
    "b) Japan<br>\n",
    "c) Australia<br>\n",
    "d) Cuba"
   ]
  },
  {
   "cell_type": "code",
   "execution_count": 17,
   "metadata": {},
   "outputs": [
    {
     "data": {
      "text/plain": [
       "Country\n",
       "Afghanistan     1365407.10\n",
       "Albania         3143068.34\n",
       "Algeria         2235989.24\n",
       "Andorra         2143268.87\n",
       "Angola          4541144.42\n",
       "                   ...    \n",
       "Vatican City     650282.65\n",
       "Vietnam         3466171.60\n",
       "Yemen           3677655.83\n",
       "Zambia           729935.20\n",
       "Zimbabwe        1543572.91\n",
       "Name: Total Profit, Length: 185, dtype: float64"
      ]
     },
     "execution_count": 17,
     "metadata": {},
     "output_type": "execute_result"
    }
   ],
   "source": [
    "# Agrupando por país com groupby()\n",
    "# selecionando 'Total Profit' para ser exibido\n",
    "# aplicando sum() para exibir a soma\n",
    "\n",
    "lucro_total = df.groupby('Country')['Total Profit'].sum()\n",
    "lucro_total"
   ]
  },
  {
   "cell_type": "code",
   "execution_count": 14,
   "metadata": {},
   "outputs": [
    {
     "name": "stdout",
     "output_type": "stream",
     "text": [
      "Menor lucro total: 34407.36\n",
      "País com Menor lucro total: Cameroon\n"
     ]
    }
   ],
   "source": [
    "# aplicando min() para exibir o mínimo da soma\n",
    "print('Menor lucro total:', lucro_total.min())\n",
    "# aplicando idxmin() para exibir o mínimo da soma\n",
    "print('País com Menor lucro total:', lucro_total.idxmin())"
   ]
  },
  {
   "cell_type": "code",
   "execution_count": 15,
   "metadata": {},
   "outputs": [
    {
     "data": {
      "text/html": [
       "<div>\n",
       "<style scoped>\n",
       "    .dataframe tbody tr th:only-of-type {\n",
       "        vertical-align: middle;\n",
       "    }\n",
       "\n",
       "    .dataframe tbody tr th {\n",
       "        vertical-align: top;\n",
       "    }\n",
       "\n",
       "    .dataframe thead th {\n",
       "        text-align: right;\n",
       "    }\n",
       "</style>\n",
       "<table border=\"1\" class=\"dataframe\">\n",
       "  <thead>\n",
       "    <tr style=\"text-align: right;\">\n",
       "      <th></th>\n",
       "      <th>Region</th>\n",
       "      <th>Country</th>\n",
       "      <th>Item Type</th>\n",
       "      <th>Sales Channel</th>\n",
       "      <th>Order Priority</th>\n",
       "      <th>Order Date</th>\n",
       "      <th>Order ID</th>\n",
       "      <th>Ship Date</th>\n",
       "      <th>Units Sold</th>\n",
       "      <th>Unit Price</th>\n",
       "      <th>Unit Cost</th>\n",
       "      <th>Total Revenue</th>\n",
       "      <th>Total Cost</th>\n",
       "      <th>Total Profit</th>\n",
       "    </tr>\n",
       "  </thead>\n",
       "  <tbody>\n",
       "    <tr>\n",
       "      <th>157</th>\n",
       "      <td>Sub-Saharan Africa</td>\n",
       "      <td>Cameroon</td>\n",
       "      <td>Snacks</td>\n",
       "      <td>Online</td>\n",
       "      <td>C</td>\n",
       "      <td>7/16/2013</td>\n",
       "      <td>376456248</td>\n",
       "      <td>8/1/2013</td>\n",
       "      <td>624</td>\n",
       "      <td>152.58</td>\n",
       "      <td>97.44</td>\n",
       "      <td>95209.92</td>\n",
       "      <td>60802.56</td>\n",
       "      <td>34407.36</td>\n",
       "    </tr>\n",
       "  </tbody>\n",
       "</table>\n",
       "</div>"
      ],
      "text/plain": [
       "                 Region   Country Item Type Sales Channel Order Priority  \\\n",
       "157  Sub-Saharan Africa  Cameroon    Snacks        Online              C   \n",
       "\n",
       "    Order Date   Order ID Ship Date  Units Sold  Unit Price  Unit Cost  \\\n",
       "157  7/16/2013  376456248  8/1/2013         624      152.58      97.44   \n",
       "\n",
       "     Total Revenue  Total Cost  Total Profit  \n",
       "157       95209.92    60802.56      34407.36  "
      ]
     },
     "execution_count": 15,
     "metadata": {},
     "output_type": "execute_result"
    }
   ],
   "source": [
    "# confirmando os valores selecionados para o país Cameroon\n",
    "df.loc[df['Country']=='Cameroon',:]"
   ]
  },
  {
   "cell_type": "markdown",
   "metadata": {},
   "source": [
    "### Exercício 3)\n",
    "Quais países vendem mais que sete produtos distintos? \n",
    "\n",
    "<font color='red'>a) Cuba e Belarus</font><br>\n",
    "b) Cuba<br>\n",
    "c) Cuba e Australia<br>\n",
    "d) Romania e Angola"
   ]
  },
  {
   "cell_type": "code",
   "execution_count": 16,
   "metadata": {},
   "outputs": [
    {
     "data": {
      "text/plain": [
       "Country\n",
       "Afghanistan     4\n",
       "Albania         6\n",
       "Algeria         5\n",
       "Andorra         6\n",
       "Angola          7\n",
       "               ..\n",
       "Vatican City    4\n",
       "Vietnam         6\n",
       "Yemen           4\n",
       "Zambia          2\n",
       "Zimbabwe        6\n",
       "Name: Item Type, Length: 185, dtype: int64"
      ]
     },
     "execution_count": 16,
     "metadata": {},
     "output_type": "execute_result"
    }
   ],
   "source": [
    "# Usando groupby para agrupar por 'Country'\n",
    "# Usando nunique() para quantificar os 'Item Type' distintos\n",
    "mais_produtos = df.groupby(['Country'])['Item Type'].nunique()\n",
    "mais_produtos"
   ]
  },
  {
   "cell_type": "code",
   "execution_count": 24,
   "metadata": {},
   "outputs": [
    {
     "data": {
      "text/plain": [
       "Country\n",
       "Belarus    8\n",
       "Cuba       8\n",
       "Name: Item Type, dtype: int64"
      ]
     },
     "execution_count": 24,
     "metadata": {},
     "output_type": "execute_result"
    }
   ],
   "source": [
    "# verificando os países que vendem sete produtos distintos\n",
    "\n",
    "mais_produtos.loc[mais_produtos>7]"
   ]
  },
  {
   "cell_type": "code",
   "execution_count": 25,
   "metadata": {},
   "outputs": [
    {
     "name": "stdout",
     "output_type": "stream",
     "text": [
      "Maior número de produtos distintos: 8\n",
      "Primeira ocorrência de País com Maior número de produtos distintos: Belarus\n"
     ]
    }
   ],
   "source": [
    "# aplicando max() para exibir o máximo da soma\n",
    "print('Maior número de produtos distintos:', mais_produtos.max())\n",
    "# aplicando idxmax() para exibir o máximo da soma\n",
    "# idxmax() retorna apenas a primeira ocorrência\n",
    "print('Primeira ocorrência de País com Maior número de produtos distintos:', mais_produtos.idxmax())"
   ]
  },
  {
   "cell_type": "markdown",
   "metadata": {},
   "source": [
    "### Exercício 4)\n",
    "Qual o país com a maior diferença entre a maior quantidade e a menor quantidade de produtos vendidos? Por exemplo, 'Tonga' vende os seguintes quantidades de produtos:\n",
    "```python\n",
    "Household  8635\n",
    "Beverages  9367\n",
    "Meat       9633\n",
    "Fruits     7124\n",
    "Meat       3499\n",
    "```\n",
    "Portando, a diferença entre a maior e a menor quantidade de produtos vendidos é $$9633-3499=6134$$ Qual o país com a maior diferença?\n",
    "\n",
    "a) Tonga<br>\n",
    "<font color='red'>b) Cape Verde </font><br>\n",
    "c) Romania<br>\n",
    "d) Cuba"
   ]
  },
  {
   "cell_type": "code",
   "execution_count": 31,
   "metadata": {},
   "outputs": [
    {
     "data": {
      "text/html": [
       "<div>\n",
       "<style scoped>\n",
       "    .dataframe tbody tr th:only-of-type {\n",
       "        vertical-align: middle;\n",
       "    }\n",
       "\n",
       "    .dataframe tbody tr th {\n",
       "        vertical-align: top;\n",
       "    }\n",
       "\n",
       "    .dataframe thead th {\n",
       "        text-align: right;\n",
       "    }\n",
       "</style>\n",
       "<table border=\"1\" class=\"dataframe\">\n",
       "  <thead>\n",
       "    <tr style=\"text-align: right;\">\n",
       "      <th></th>\n",
       "      <th>Country</th>\n",
       "      <th>Item Type</th>\n",
       "      <th>Units Sold</th>\n",
       "    </tr>\n",
       "  </thead>\n",
       "  <tbody>\n",
       "    <tr>\n",
       "      <th>92</th>\n",
       "      <td>Tonga</td>\n",
       "      <td>Household</td>\n",
       "      <td>8635</td>\n",
       "    </tr>\n",
       "    <tr>\n",
       "      <th>110</th>\n",
       "      <td>Tonga</td>\n",
       "      <td>Beverages</td>\n",
       "      <td>9367</td>\n",
       "    </tr>\n",
       "    <tr>\n",
       "      <th>205</th>\n",
       "      <td>Tonga</td>\n",
       "      <td>Meat</td>\n",
       "      <td>9633</td>\n",
       "    </tr>\n",
       "    <tr>\n",
       "      <th>312</th>\n",
       "      <td>Tonga</td>\n",
       "      <td>Fruits</td>\n",
       "      <td>7124</td>\n",
       "    </tr>\n",
       "    <tr>\n",
       "      <th>392</th>\n",
       "      <td>Tonga</td>\n",
       "      <td>Meat</td>\n",
       "      <td>3499</td>\n",
       "    </tr>\n",
       "  </tbody>\n",
       "</table>\n",
       "</div>"
      ],
      "text/plain": [
       "    Country  Item Type  Units Sold\n",
       "92    Tonga  Household        8635\n",
       "110   Tonga  Beverages        9367\n",
       "205   Tonga       Meat        9633\n",
       "312   Tonga     Fruits        7124\n",
       "392   Tonga       Meat        3499"
      ]
     },
     "execution_count": 31,
     "metadata": {},
     "output_type": "execute_result"
    }
   ],
   "source": [
    "# Checando o exemplo de Tonga\n",
    "tonga = df[['Country', 'Item Type','Units Sold']].loc[df['Country']=='Tonga']\n",
    "tonga"
   ]
  },
  {
   "cell_type": "code",
   "execution_count": 33,
   "metadata": {},
   "outputs": [
    {
     "data": {
      "text/plain": [
       "6134"
      ]
     },
     "execution_count": 33,
     "metadata": {},
     "output_type": "execute_result"
    }
   ],
   "source": [
    "tonga['Units Sold'].max() - tonga['Units Sold'].min()"
   ]
  },
  {
   "cell_type": "code",
   "execution_count": 51,
   "metadata": {},
   "outputs": [
    {
     "data": {
      "text/plain": [
       "0      8382\n",
       "1      1995\n",
       "2      8382\n",
       "3      9640\n",
       "4      9651\n",
       "       ... \n",
       "995    4905\n",
       "996    8477\n",
       "997    7927\n",
       "998    9712\n",
       "999    8583\n",
       "Name: Units Sold, Length: 1000, dtype: int64"
      ]
     },
     "execution_count": 51,
     "metadata": {},
     "output_type": "execute_result"
    }
   ],
   "source": [
    "# Agrupando por países com groupby()\n",
    "# Restringindo o método 'transform' à coluna 'Units Sold'\n",
    "delta_vendidos = df.groupby('Country')['Units Sold'].transform(lambda x: (x.max()-x.min()))\n",
    "delta_vendidos"
   ]
  },
  {
   "cell_type": "code",
   "execution_count": 36,
   "metadata": {},
   "outputs": [
    {
     "name": "stdout",
     "output_type": "stream",
     "text": [
      "92     6134\n",
      "110    6134\n",
      "205    6134\n",
      "312    6134\n",
      "392    6134\n",
      "Name: Units Sold, dtype: int64\n"
     ]
    }
   ],
   "source": [
    "# verificando o resultado para o país 'Tonga' por um dos seus índices\n",
    "print(delta_vendidos.iloc[[92,110,205,312,392]])"
   ]
  },
  {
   "cell_type": "code",
   "execution_count": 53,
   "metadata": {},
   "outputs": [
    {
     "name": "stdout",
     "output_type": "stream",
     "text": [
      "Maior delta: 9775\n",
      "Índice do país maior delta: 18\n",
      "País com maior delta: Cape Verde\n"
     ]
    }
   ],
   "source": [
    "print('Maior delta:', delta_vendidos.max())\n",
    "print('Índice do país maior delta:', delta_vendidos.idxmax())\n",
    "print('País com maior delta:', df['Country'].iloc[delta_vendidos.idxmax()])"
   ]
  },
  {
   "cell_type": "code",
   "execution_count": 64,
   "metadata": {},
   "outputs": [
    {
     "name": "stdout",
     "output_type": "stream",
     "text": [
      "Country\n",
      "Cape Verde    9775\n",
      "Finland       9712\n",
      "Belgium       9682\n",
      "Chad          9651\n",
      "Japan         9640\n",
      "              ... \n",
      "Kuwait         714\n",
      "Nauru          459\n",
      "Kosovo           0\n",
      "Malta            0\n",
      "Cameroon         0\n",
      "Name: Units Sold, Length: 185, dtype: int64\n",
      "\n",
      "Maior diferença: 9775\n",
      "País com maior diferença: Cape Verde\n"
     ]
    }
   ],
   "source": [
    "# Solução alternativa com apply\n",
    "# agrupando pela coluna 'Country' \n",
    "# usando apply() na coluna 'Units Sold' para calular o delta entre max e min valores\n",
    "# e retornando os deltas ordenados\n",
    "max_min = df.groupby('Country')['Units Sold'].apply(lambda x: (x.max()-x.min()))\n",
    "print(max_min.sort_values(ascending=False))\n",
    "\n",
    "# menor diferença em cada grupo\n",
    "print('\\nMaior diferença:', max_min.max())\n",
    "print('País com maior diferença:', max_min.idxmax())"
   ]
  },
  {
   "cell_type": "markdown",
   "metadata": {},
   "source": [
    "### Exercício 5)\n",
    "O lucro de um produto é a diferença entre o preço de venda e o de custo. Qual o produto que fornece o menor lucro médio?\n",
    "\n",
    "a) Baby Food<br>\n",
    "<font color='red'>b) Fruits</font><br>\n",
    "c) Household<br>\n",
    "d) Cosmetics"
   ]
  },
  {
   "cell_type": "code",
   "execution_count": 65,
   "metadata": {},
   "outputs": [
    {
     "data": {
      "text/plain": [
       "0      173.87\n",
       "1       63.13\n",
       "2       95.86\n",
       "3       88.59\n",
       "4        2.41\n",
       "        ...  \n",
       "995     55.14\n",
       "996     95.86\n",
       "997     63.13\n",
       "998    165.73\n",
       "999     88.59\n",
       "Name: Unit Profit, Length: 1000, dtype: float64"
      ]
     },
     "execution_count": 65,
     "metadata": {},
     "output_type": "execute_result"
    }
   ],
   "source": [
    "# Acrescentando uma nova coluna ao dataframe original\n",
    "df['Unit Profit'] = df['Unit Price'] - df['Unit Cost']\n",
    "df['Unit Profit']"
   ]
  },
  {
   "cell_type": "code",
   "execution_count": 73,
   "metadata": {},
   "outputs": [
    {
     "name": "stdout",
     "output_type": "stream",
     "text": [
      "Tabela Item por Lucro Unitário: Item Type\n",
      "Fruits               2.41\n",
      "Beverages           15.66\n",
      "Personal Care       25.06\n",
      "Snacks              55.14\n",
      "Meat                57.20\n",
      "Vegetables          63.13\n",
      "Clothes             73.44\n",
      "Cereal              88.59\n",
      "Baby Food           95.86\n",
      "Office Supplies    126.25\n",
      "Household          165.73\n",
      "Cosmetics          173.87\n",
      "Name: Unit Profit, dtype: float64\n",
      "\n",
      "Produto com menor lucro unitário médio: Fruits\n"
     ]
    }
   ],
   "source": [
    "# Agrupando por produto 'Item Type' com groupby()\n",
    "# Restringindo os cálculos à coluna 'Unit Profit' e aplicando mean()\n",
    "produtos = df.groupby('Item Type')['Unit Profit'].mean()\n",
    "print('Tabela Item por Lucro Unitário:', produtos.sort_values())\n",
    "print('\\nProduto com menor lucro unitário médio:', produtos.idxmin())"
   ]
  },
  {
   "cell_type": "code",
   "execution_count": null,
   "metadata": {},
   "outputs": [],
   "source": []
  }
 ],
 "metadata": {
  "kernelspec": {
   "display_name": "Python 3",
   "language": "python",
   "name": "python3"
  },
  "language_info": {
   "codemirror_mode": {
    "name": "ipython",
    "version": 3
   },
   "file_extension": ".py",
   "mimetype": "text/x-python",
   "name": "python",
   "nbconvert_exporter": "python",
   "pygments_lexer": "ipython3",
   "version": "3.8.10"
  }
 },
 "nbformat": 4,
 "nbformat_minor": 2
}
