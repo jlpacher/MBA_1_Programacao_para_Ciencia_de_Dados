{
 "cells": [
  {
   "cell_type": "markdown",
   "metadata": {},
   "source": [
    "# Práticas extras para fixar o conteúdo e não ter medo do Python\n",
    "### Ps: O Python é seu amigo"
   ]
  },
  {
   "cell_type": "markdown",
   "metadata": {},
   "source": [
    "## Comentários"
   ]
  },
  {
   "cell_type": "code",
   "execution_count": null,
   "metadata": {},
   "outputs": [],
   "source": [
    "# isto é um comentário de uma linha\n",
    "\n",
    "\"\"\"\n",
    "Isto \n",
    "é\n",
    "um\n",
    "comentário\n",
    "multi linha \n",
    "\"\"\""
   ]
  },
  {
   "cell_type": "markdown",
   "metadata": {},
   "source": [
    "## Laço \"for\""
   ]
  },
  {
   "cell_type": "code",
   "execution_count": null,
   "metadata": {},
   "outputs": [],
   "source": [
    "magicos = ['Alice', 'David', 'Carolina', 'Lindenbergson']\n",
    "\n",
    "for magico in magicos: # Para todo \"magico\" na lista \"magicos\", faça\n",
    "    print(\"Belo truque,\", magico, \"!\")"
   ]
  },
  {
   "cell_type": "markdown",
   "metadata": {},
   "source": [
    "E se eu quiser fazer de traz para frente?"
   ]
  },
  {
   "cell_type": "code",
   "execution_count": null,
   "metadata": {},
   "outputs": [],
   "source": [
    "magicos = ['Alice', 'David', 'Carolina', 'Lindenbergson']\n",
    "\n",
    "for magico in reversed(magicos): # Para todo \"magico\" na lista \"magicos\" com a ordem inversa, faça\n",
    "    print(\"Belo truque,\", magico, \"!\") # Imprima a mensagem"
   ]
  },
  {
   "cell_type": "markdown",
   "metadata": {},
   "source": [
    "Adicionando um contador"
   ]
  },
  {
   "cell_type": "code",
   "execution_count": null,
   "metadata": {},
   "outputs": [],
   "source": [
    "magicos = ['Alice', 'David', 'Carolina', 'Lindenbergson']\n",
    "\n",
    "contador = 0 # Inicialize a variável contador com 0\n",
    "\n",
    "for magico in magicos: # Para todo \"magico\" na lista \"magicos\", faça\n",
    "    print(\"Belo truque,\", magico, \"!\") # Imprima a mensagem\n",
    "    contador+=1 # Adicione 1 à variável contador\n",
    "\n",
    "print(\"Temos\", contador, \"mágicos no show!\")"
   ]
  },
  {
   "cell_type": "markdown",
   "metadata": {},
   "source": [
    "## Funções úteis"
   ]
  },
  {
   "cell_type": "code",
   "execution_count": null,
   "metadata": {},
   "outputs": [],
   "source": [
    "magicos = ['Alice', 'David', 'Carolina', 'Lindenbergson']\n",
    "\n",
    "print(len(magicos)) # Retorna a quantidade de itens na lista\n",
    "\n",
    "print(len(magicos[0])) # Retorna a quantidade de letras do primeiro nome da lista \"Alice\""
   ]
  },
  {
   "cell_type": "code",
   "execution_count": null,
   "metadata": {},
   "outputs": [],
   "source": [
    "print(list(range(10))) # A função range cria um intervalo de números em sequência"
   ]
  },
  {
   "cell_type": "markdown",
   "metadata": {},
   "source": [
    "## Laço \"for\" com condicionais \"if\" e \"else\""
   ]
  },
  {
   "cell_type": "code",
   "execution_count": null,
   "metadata": {},
   "outputs": [],
   "source": [
    "magicos = ['Alice', 'David', 'Carolina', 'Lindenbergson', 'Alissa', 'Danúbio', 'Danroberto']\n",
    "\n",
    "contD = 0 # Inicialize a variável que fará a contagem dos que começam com D com o valor 0\n",
    "contA = 0 # Inicialize a variável que fará a contagem dos que começam com A com o valor 0\n",
    "\n",
    "\n",
    "for magico in magicos: # Para todo \"magico\" na lista \"magicos\", faça\n",
    "    if magico[0] == 'A': # Se a primeira letra do nome do \"magico\" é \"A\", faça\n",
    "        contA += 1 # Adicione 1 à variável contA\n",
    "    if magico[0] == 'D': # Se a primeira letra do nome do \"magico\" é \"D\", faça\n",
    "        contD += 1 # Adicione 1 à variável contD\n",
    "\n",
    "print(\"Temos\", contA, \"mágicos que começam com a letra A\")\n",
    "print(\"Temos\", contD, \"mágicos que começam com a letra D\")"
   ]
  },
  {
   "cell_type": "markdown",
   "metadata": {},
   "source": [
    "## Deixando a tarefa mais complexa"
   ]
  },
  {
   "cell_type": "markdown",
   "metadata": {},
   "source": [
    "Vamos de pizza"
   ]
  },
  {
   "cell_type": "code",
   "execution_count": null,
   "metadata": {},
   "outputs": [],
   "source": [
    "ingredientes_disponiveis = [\"pepperoni\", \"calabresa\", \"mussarela\", \"gorgonzola\", \"cebola\", \"cogumelos\", \"frango\", \"catupiri\"]\n",
    "ingredientes_pedido = [\"mussarela\", \"frango\", \"catupiri\", \"pimentão\"]\n",
    "pizza_pedido = []\n",
    "\n",
    "for ingrediente in ingredientes_pedido: # Para cada \"ingrediente\" na lista \"ingredientes_pedido\", faça\n",
    "    if ingrediente in ingredientes_disponiveis: # Se o \"ingrediente\" está na lista \"ingredientes_ disponiveis\", faça\n",
    "        print(\"Adicionando\", ingrediente,\".\") # Imprima a mensagem\n",
    "        pizza_pedido.append(ingrediente) # Adicione o ingrediente na lista \"pizza_pedido\"\n",
    "    else: # Senão ou caso contrário\n",
    "        print(\"Desculpe, não temos\", ingrediente, \"no momento.\") # Imprima a mensagem\n",
    "\n",
    "print(\"#######################\")        \n",
    "\n",
    "print(\"Pizza prontinha!\")\n",
    "print(\"Ingredientes da pizza: \")\n",
    "for ingrediente in pizza_pedido: # Para cada ingrediente na lista \"pizza_pedido\"\n",
    "    print(ingrediente) # Imprima o ingrediente"
   ]
  }
 ],
 "metadata": {
  "kernelspec": {
   "display_name": "Python 3",
   "language": "python",
   "name": "python3"
  },
  "language_info": {
   "codemirror_mode": {
    "name": "ipython",
    "version": 3
   },
   "file_extension": ".py",
   "mimetype": "text/x-python",
   "name": "python",
   "nbconvert_exporter": "python",
   "pygments_lexer": "ipython3",
   "version": "3.8.3"
  }
 },
 "nbformat": 4,
 "nbformat_minor": 4
}
