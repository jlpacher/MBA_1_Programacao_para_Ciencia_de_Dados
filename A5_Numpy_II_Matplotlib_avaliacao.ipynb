{
 "cells": [
  {
   "cell_type": "markdown",
   "metadata": {},
   "source": [
    "# <span style=\"color:blue\"> MBA em Ciência de Dados</span>\n",
    "# <span style=\"color:blue\">Programação para Ciência de Dados</span>\n",
    "\n",
    "## <span style=\"color:blue\">Numpy Parte II e Matplotlib - Avaliação</span>\n",
    "**Material Produzido por Luis Gustavo Nonato**<br>\n",
    "**Cemeai - ICMC/USP São Carlos**\n",
    "---"
   ]
  },
  {
   "cell_type": "code",
   "execution_count": 1,
   "metadata": {},
   "outputs": [],
   "source": [
    "import numpy as np\n",
    "import matplotlib.pyplot as plt"
   ]
  },
  {
   "cell_type": "markdown",
   "metadata": {},
   "source": [
    "### Exercício 1)\n",
    "Qual dos códigos abaixo corretamente utiliza broadcasting para construir uma matriz cujas **colunas** são todas formadas pelos elementos [0,1,2,3]?\n",
    "```python\n",
    "A = np.zeros((4,4))\n",
    "v = np.arange(4)\n",
    "```\n",
    "\n",
    "a)\n",
    "```python\n",
    "A[:] = v[:,np.newaxis]\n",
    "```\n",
    "b) \n",
    "```python\n",
    "A[:] = v.reshape(4,1)\n",
    "```\n",
    "c)\n",
    "```python\n",
    "A[:] = v\n",
    "A = A.T\n",
    "```\n",
    "<font color='red'>d) Todas as alternativas estão corretas </font>"
   ]
  },
  {
   "cell_type": "code",
   "execution_count": 2,
   "metadata": {},
   "outputs": [],
   "source": [
    "A = np.zeros((4,4))\n",
    "v = np.arange(4)"
   ]
  },
  {
   "cell_type": "code",
   "execution_count": 5,
   "metadata": {},
   "outputs": [
    {
     "name": "stdout",
     "output_type": "stream",
     "text": [
      "[[0. 0. 0. 0.]\n",
      " [1. 1. 1. 1.]\n",
      " [2. 2. 2. 2.]\n",
      " [3. 3. 3. 3.]]\n"
     ]
    }
   ],
   "source": [
    "# A[:] = v[:,np.newaxis]\n",
    "# A[:] = v.reshape(4,1)\n",
    "A[:] = v\n",
    "A = A.T\n",
    "print(A)"
   ]
  },
  {
   "cell_type": "markdown",
   "metadata": {},
   "source": [
    "Resp: Todas estão corretas"
   ]
  },
  {
   "cell_type": "markdown",
   "metadata": {},
   "source": [
    "### Exercício 2)\n",
    "Qual das alternativas corretamente explica como o array `W` está sendo calculando no código abaixo?\n",
    "```python\n",
    "u = np.random.randint(0,30,7)\n",
    "v = np.random.randint(0,30,10).reshape(10,1)\n",
    "\n",
    "W = v + u\n",
    "```\n",
    "\n",
    "a) O array `W` possui 10 elementos como resultado da soma dos arrays `u` e `v`, onde `u` é complementado com zeros durante o broadcasting.<br>\n",
    "<font color='red'>b) O array `W` é uma matriz com 10 linhas e 7 colunas gerado a partir da soma das matriz obtidas do broadcasting do array `v` em 7 colunas e do array `u` em 10 linhas.</font><br>\n",
    "c) O array `W` é uma matriz com 7 linhas e 10 colunas gerado a partir da soma das matriz obtidas do broadcasting do array `v` em 7 linhas e o array `u` em 10 linhas.<br>\n",
    "d) O array `W` possui 7 elementos como resultado da soma dos arrays `u` e `v`, onde os três útlimos elementos de `v` são descartados no broadcasting."
   ]
  },
  {
   "cell_type": "code",
   "execution_count": 6,
   "metadata": {},
   "outputs": [
    {
     "name": "stdout",
     "output_type": "stream",
     "text": [
      "Array u:\n",
      " [ 5 22 17 14  7 10 29]\n",
      "Shape do vetor horizontal=  (7,) Colunas \n",
      "\n",
      "Array v:\n",
      " [[13]\n",
      " [ 6]\n",
      " [21]\n",
      " [13]\n",
      " [ 6]\n",
      " [20]\n",
      " [ 0]\n",
      " [ 2]\n",
      " [15]\n",
      " [20]]\n",
      "Shape do vetor vertical=  (10, 1) Linhas x Colunas \n",
      "\n",
      "Matriz W:\n",
      " [[18 35 30 27 20 23 42]\n",
      " [11 28 23 20 13 16 35]\n",
      " [26 43 38 35 28 31 50]\n",
      " [18 35 30 27 20 23 42]\n",
      " [11 28 23 20 13 16 35]\n",
      " [25 42 37 34 27 30 49]\n",
      " [ 5 22 17 14  7 10 29]\n",
      " [ 7 24 19 16  9 12 31]\n",
      " [20 37 32 29 22 25 44]\n",
      " [25 42 37 34 27 30 49]]\n",
      "Shape da matriz=  (10, 7) Linhas x Colunas \n",
      "\n"
     ]
    }
   ],
   "source": [
    "u = np.random.randint(0,30,7)\n",
    "print('Array u:\\n',u)\n",
    "print('Shape do vetor horizontal= ', u.shape, 'Colunas','\\n')\n",
    "\n",
    "v = np.random.randint(0,30,10).reshape(10,1)\n",
    "print('Array v:\\n',v)\n",
    "print('Shape do vetor vertical= ', v.shape, 'Linhas x Colunas','\\n')\n",
    "\n",
    "W = v + u\n",
    "print('Matriz W:\\n',W)\n",
    "print('Shape da matriz= ', W.shape, 'Linhas x Colunas','\\n')"
   ]
  },
  {
   "cell_type": "markdown",
   "metadata": {},
   "source": [
    "Resp: b"
   ]
  },
  {
   "cell_type": "markdown",
   "metadata": {},
   "source": [
    "### Exercício 3)\n",
    "Considere a matriz abaixo. Utilizando redução, encontre o **índice da linha** que possui a maior soma dos elementos.\n",
    "```python\n",
    "A = np.array([[5, 2, 3, 6, 1, 5, 7, 7, 8, 9], [8, 8, 3, 5, 0, 1, 4, 8, 3, 7], \n",
    "              [8, 0, 0, 4, 2, 0, 2, 6, 0, 3], [5, 0, 0, 4, 4, 3, 5, 8, 0, 0], \n",
    "              [2, 4, 2, 5, 3, 4, 9, 8, 0, 0], [6, 7, 4, 8, 5, 1, 3, 5, 4, 1], \n",
    "              [6, 8, 0, 5, 2, 9, 3, 6, 1, 6], [5, 5, 2, 9, 0, 5, 5, 8, 2, 4], \n",
    "              [8, 8, 1, 8, 4, 1, 8, 9, 7, 6], [5, 6, 0, 9, 0, 4, 9, 0, 2, 0]])\n",
    "```\n",
    "a) linha 6<br>\n",
    "b) linha 0<br>\n",
    "<font color='red'>c) linha 8</font><br>\n",
    "d) linha 9"
   ]
  },
  {
   "cell_type": "code",
   "execution_count": 7,
   "metadata": {},
   "outputs": [
    {
     "name": "stdout",
     "output_type": "stream",
     "text": [
      "Matriz Inicial A=\n",
      " [[5 2 3 6 1 5 7 7 8 9]\n",
      " [8 8 3 5 0 1 4 8 3 7]\n",
      " [8 0 0 4 2 0 2 6 0 3]\n",
      " [5 0 0 4 4 3 5 8 0 0]\n",
      " [2 4 2 5 3 4 9 8 0 0]\n",
      " [6 7 4 8 5 1 3 5 4 1]\n",
      " [6 8 0 5 2 9 3 6 1 6]\n",
      " [5 5 2 9 0 5 5 8 2 4]\n",
      " [8 8 1 8 4 1 8 9 7 6]\n",
      " [5 6 0 9 0 4 9 0 2 0]]\n",
      "\n",
      "Soma de Cada Linha:  [53 47 25 29 37 44 46 45 60 35]\n",
      "Maior valor dentre todos no vetor:  60\n",
      "Posição do maior valor dentre todos:  8\n"
     ]
    }
   ],
   "source": [
    "A = np.array([[5, 2, 3, 6, 1, 5, 7, 7, 8, 9], [8, 8, 3, 5, 0, 1, 4, 8, 3, 7], \n",
    "              [8, 0, 0, 4, 2, 0, 2, 6, 0, 3], [5, 0, 0, 4, 4, 3, 5, 8, 0, 0], \n",
    "              [2, 4, 2, 5, 3, 4, 9, 8, 0, 0], [6, 7, 4, 8, 5, 1, 3, 5, 4, 1], \n",
    "              [6, 8, 0, 5, 2, 9, 3, 6, 1, 6], [5, 5, 2, 9, 0, 5, 5, 8, 2, 4], \n",
    "              [8, 8, 1, 8, 4, 1, 8, 9, 7, 6], [5, 6, 0, 9, 0, 4, 9, 0, 2, 0]])\n",
    "\n",
    "print('Matriz Inicial A=\\n', A)\n",
    "print('\\nSoma de Cada Linha: ',np.sum(A,axis=1))  # soma dos valores em cada linha\n",
    "\n",
    "soma_linhas = np.sum(A,axis=1)\n",
    "\n",
    "print('Maior valor dentre todos no vetor: ',np.max(soma_linhas))    # maior valor da matriz/vetor\n",
    "print('Posição do maior valor dentre todos: ',np.argmax(soma_linhas)) # lineariza a matriz/vetor com A.ravel() e \n",
    "                                                                      # retorna a posicão do maior valor"
   ]
  },
  {
   "cell_type": "markdown",
   "metadata": {},
   "source": [
    "### Exercício 4) \n",
    "Considerando a matriz `A` do exercício anterior, qual o **índice da coluna** que possui a menor média de valores?\n",
    "\n",
    "<font color='red'>a) coluna 2</font><br>\n",
    "b) coluna 0<br>\n",
    "c) coluna 8<br>\n",
    "d) coluna 9"
   ]
  },
  {
   "cell_type": "code",
   "execution_count": 8,
   "metadata": {},
   "outputs": [
    {
     "name": "stdout",
     "output_type": "stream",
     "text": [
      "Matriz Inicial A=\n",
      " [[5 2 3 6 1 5 7 7 8 9]\n",
      " [8 8 3 5 0 1 4 8 3 7]\n",
      " [8 0 0 4 2 0 2 6 0 3]\n",
      " [5 0 0 4 4 3 5 8 0 0]\n",
      " [2 4 2 5 3 4 9 8 0 0]\n",
      " [6 7 4 8 5 1 3 5 4 1]\n",
      " [6 8 0 5 2 9 3 6 1 6]\n",
      " [5 5 2 9 0 5 5 8 2 4]\n",
      " [8 8 1 8 4 1 8 9 7 6]\n",
      " [5 6 0 9 0 4 9 0 2 0]]\n",
      "\n",
      "Média de Cada Coluna:  [5.8 4.8 1.5 6.3 2.1 3.3 5.5 6.5 2.7 3.6]\n",
      "Menor valor dentre todos no vetor:  1.5\n",
      "Posição do menor valor dentre todos:  2\n"
     ]
    }
   ],
   "source": [
    "A = np.array([[5, 2, 3, 6, 1, 5, 7, 7, 8, 9], [8, 8, 3, 5, 0, 1, 4, 8, 3, 7], \n",
    "              [8, 0, 0, 4, 2, 0, 2, 6, 0, 3], [5, 0, 0, 4, 4, 3, 5, 8, 0, 0], \n",
    "              [2, 4, 2, 5, 3, 4, 9, 8, 0, 0], [6, 7, 4, 8, 5, 1, 3, 5, 4, 1], \n",
    "              [6, 8, 0, 5, 2, 9, 3, 6, 1, 6], [5, 5, 2, 9, 0, 5, 5, 8, 2, 4], \n",
    "              [8, 8, 1, 8, 4, 1, 8, 9, 7, 6], [5, 6, 0, 9, 0, 4, 9, 0, 2, 0]])\n",
    "\n",
    "print('Matriz Inicial A=\\n', A)\n",
    "print('\\nMédia de Cada Coluna: ',np.mean(A,axis=0))  # soma dos valores em cada coluna\n",
    "\n",
    "media_colunas = np.mean(A,axis=0)\n",
    "                      \n",
    "# B = np.array([np.min(soma_linhas), np.max(soma_linhas), np.min(soma_colunas), np.max(soma_colunas)])\n",
    "# print('\\nResultado Matriz B=\\n', B)\n",
    "\n",
    "print('Menor valor dentre todos no vetor: ',np.min(media_colunas))      # menor valor da matriz/vetor\n",
    "print('Posição do menor valor dentre todos: ',np.argmin(media_colunas)) # lineariza a matriz/vetor com A.ravel() e \n",
    "                                                                        # retorna a posicão do menor valor"
   ]
  },
  {
   "cell_type": "markdown",
   "metadata": {},
   "source": [
    "### Exercício 5)\n",
    "Suponha que a variável `A` no código abaixo é uma matriz com $n$ linhas e $m$ colunas. O que o código está realizando?\n",
    "```python\n",
    "Aargs = np.argsort(A)\n",
    "A[np.arange(A.shape[0]),Aargs[:,-1]] = -1\n",
    "```\n",
    "a) Substituindo o maior valor de cada coluna por -1<br>\n",
    "<font color='red'>b) Substituindo o maior valor de cada linha por -1 </font><br>\n",
    "c) Substituindo o menor valor de cada linha por -1<br>\n",
    "d) Substituindo o menor valor de cada coluna por -1"
   ]
  },
  {
   "cell_type": "markdown",
   "metadata": {},
   "source": [
    "Aargs: O método argsort retorna um array contendo os índices dos elementos ordenados nas linhas.\n",
    "A.shape[0] = n = número de linhas\n",
    "Pega todas as linhas da Matriz A indo do range de 0 a n\n",
    "Pega todas as linhas [:] da matriz de índices das linhas com os elementos ordenados\n",
    "Pega a coluna [-1] do vetor de índices das linhas com os elementos ordenados, ou seja, o maior valor\n",
    "E substitui por -1 o maior valor de cada linha\n",
    "Resp: b"
   ]
  },
  {
   "cell_type": "code",
   "execution_count": 15,
   "metadata": {},
   "outputs": [
    {
     "name": "stdout",
     "output_type": "stream",
     "text": [
      "A=  [[0 2 3]\n",
      " [1 4 3]\n",
      " [2 0 4]\n",
      " [4 3 1]]\n",
      "\n",
      "Aargs=  [[0 1 2]\n",
      " [0 2 1]\n",
      " [1 0 2]\n",
      " [2 1 0]]\n",
      "\n",
      "A=  [[ 0  2 -1]\n",
      " [ 1 -1  3]\n",
      " [ 2  0 -1]\n",
      " [-1  3  1]]\n"
     ]
    }
   ],
   "source": [
    "A = np.array([[0, 2, 3], [1, 4, 3], [2, 0, 4], [4, 3, 1]])\n",
    "print('A= ', A)\n",
    "Aargs = np.argsort(A)\n",
    "print('\\nAargs= ', Aargs)\n",
    "# substitui o maior elemento de cada linha por -1\n",
    "A[np.arange(A.shape[0]),Aargs[:,-1]] = -1\n",
    "print('\\nA= ', A)"
   ]
  },
  {
   "cell_type": "code",
   "execution_count": null,
   "metadata": {},
   "outputs": [],
   "source": []
  }
 ],
 "metadata": {
  "kernelspec": {
   "display_name": "Python 3",
   "language": "python",
   "name": "python3"
  },
  "language_info": {
   "codemirror_mode": {
    "name": "ipython",
    "version": 3
   },
   "file_extension": ".py",
   "mimetype": "text/x-python",
   "name": "python",
   "nbconvert_exporter": "python",
   "pygments_lexer": "ipython3",
   "version": "3.8.10"
  }
 },
 "nbformat": 4,
 "nbformat_minor": 2
}
