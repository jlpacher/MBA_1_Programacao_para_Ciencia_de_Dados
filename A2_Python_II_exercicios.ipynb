{
 "cells": [
  {
   "cell_type": "markdown",
   "metadata": {
    "id": "YRuQfjG7jPDg"
   },
   "source": [
    "# <span style=\"color:blue\"> MBA em Ciência de Dados</span>\n",
    "# <span style=\"color:blue\">Programação para Ciência de Dados</span>\n",
    "\n",
    "## <span style=\"color:blue\">Exercícios Python Parte II</span>\n",
    "**Material Produzido por Luis Gustavo Nonato**<br>\n",
    "**Cemeai - ICMC/USP São Carlos**"
   ]
  },
  {
   "cell_type": "markdown",
   "metadata": {
    "id": "Pdh0qGE0jPDl"
   },
   "source": [
    "#### <span style=\"color:red\">Recomenda-se fortemente que os exercícios sejam feitos sem consultar as respostas antecipadamente.</span>"
   ]
  },
  {
   "cell_type": "markdown",
   "metadata": {
    "id": "6bULgIjJjPDm"
   },
   "source": [
    "### Exercício 1)"
   ]
  },
  {
   "cell_type": "markdown",
   "metadata": {
    "id": "BFbk3dhsjPDm"
   },
   "source": [
    "**1.1** No código abaixo, explique por que o valor da variável `y` não é o mesmo que o valor de `x` após a operação `x = x+1`."
   ]
  },
  {
   "cell_type": "code",
   "execution_count": 2,
   "metadata": {
    "id": "1vKxIn2DjPDm"
   },
   "outputs": [
    {
     "name": "stdout",
     "output_type": "stream",
     "text": [
      "3 3\n",
      "4 3\n"
     ]
    }
   ],
   "source": [
    "x = 3\n",
    "y = x\n",
    "print(x,y)\n",
    "x = x+1\n",
    "print(x,y)"
   ]
  },
  {
   "cell_type": "markdown",
   "metadata": {
    "id": "9hbR9r2FjPDn"
   },
   "source": [
    "**Resposta:** \n",
    "Antes da operação x=x+1, tanto x quanto y ocupavam o mesmo endereço de memória no computador, e após passam a ocupar lugares diferentes."
   ]
  },
  {
   "cell_type": "code",
   "execution_count": 3,
   "metadata": {
    "id": "vAw_Nry2jPDn"
   },
   "outputs": [
    {
     "name": "stdout",
     "output_type": "stream",
     "text": [
      "140719955457920\n",
      "140719955457888\n"
     ]
    }
   ],
   "source": [
    "print(id(x))\n",
    "print(id(y))"
   ]
  },
  {
   "cell_type": "markdown",
   "metadata": {
    "id": "dr-Sea_zjPDn"
   },
   "source": [
    "**1.2** No código abaixo, explique por que o conteúdo da variável `y` também é afetado quando um novo elemento é adicionado à lista referenciada por `x`."
   ]
  },
  {
   "cell_type": "code",
   "execution_count": 4,
   "metadata": {
    "id": "95ABvrG2jPDn"
   },
   "outputs": [
    {
     "name": "stdout",
     "output_type": "stream",
     "text": [
      "[3] [3]\n",
      "[3, 1] [3, 1]\n"
     ]
    }
   ],
   "source": [
    "x = [3]\n",
    "y = x\n",
    "print(x,y)\n",
    "x.append(1)\n",
    "print(x,y)"
   ]
  },
  {
   "cell_type": "markdown",
   "metadata": {
    "id": "YihrK6m8jPDo"
   },
   "source": [
    "**Resposta:** Como x e y ocupam o mesmo endereço de memória do computador, após a operação x.append() a lista fica alterada para ambos, x e y, embora não se tenha operado sobre y."
   ]
  },
  {
   "cell_type": "markdown",
   "metadata": {
    "id": "KxqASTBujPDo"
   },
   "source": [
    "**1.3** No código abaixo, explique por que o conteúdo da variável `y` é NÃO afetado após a operação `x = x+[1]`."
   ]
  },
  {
   "cell_type": "code",
   "execution_count": 5,
   "metadata": {
    "id": "etpIR6QzjPDo"
   },
   "outputs": [
    {
     "name": "stdout",
     "output_type": "stream",
     "text": [
      "[3] [3]\n",
      "[3, 1] [3]\n"
     ]
    }
   ],
   "source": [
    "x = [3]\n",
    "y = x\n",
    "print(x,y)\n",
    "x = x+[1]\n",
    "print(x,y)"
   ]
  },
  {
   "cell_type": "markdown",
   "metadata": {
    "id": "4APTG6kujPDo"
   },
   "source": [
    "**Resposta:** Antes da operação x=x+[1], tanto x quanto y ocupavam o mesmo endereço de memória no computador, e após passam a ocupar lugares diferentes."
   ]
  },
  {
   "cell_type": "markdown",
   "metadata": {
    "id": "DLXnfiUnjPDo"
   },
   "source": [
    "### Exercício 2)\n",
    "Considere a lista `pessoas` abaixo. Escreva um códico para remover todos os nomes da lista que começam com as letras 'A' e 'M', inserindo estes nomes em uma nova lista chamada `pessoasAM`. "
   ]
  },
  {
   "cell_type": "code",
   "execution_count": 7,
   "metadata": {
    "id": "yA69aRl-jPDp"
   },
   "outputs": [
    {
     "name": "stdout",
     "output_type": "stream",
     "text": [
      "['Sophia', 'Davi', 'Julia', 'Pedro', 'Isabella', 'Gabriel', 'Laura']\n",
      "['Miguel', 'Alice', 'Arthur', 'Manuela']\n"
     ]
    }
   ],
   "source": [
    "pessoas = ['Miguel','Sophia','Davi','Alice','Arthur','Julia','Pedro','Isabella','Gabriel',\n",
    "           'Manuela','Laura']\n",
    "\n",
    "# Escreva o código aqui\n",
    "pessoasAM = []\n",
    "for nome in pessoas:\n",
    "    if nome[0] == 'A' or nome[0] == 'M':\n",
    "        pessoasAM.append(nome)\n",
    "        \n",
    "for nome in pessoasAM:\n",
    "    if nome in pessoas:\n",
    "        pessoas.remove(nome)\n",
    "        \n",
    "print(pessoas)\n",
    "print(pessoasAM)"
   ]
  },
  {
   "cell_type": "markdown",
   "metadata": {
    "id": "XhBHJYm3jPDp"
   },
   "source": [
    "### Exercício 3) \n",
    "Crie um dicionário cujas chaves são as strings da lista `pessoas` definida no exercício anterior, sendo o comprimento da string correspondentes o valor associado a chave. Utilize comprehension para criar o dicionário. Por exemplo:\n",
    "```python\n",
    "{'Miguel': 6, 'Sophia': 6, 'Davi': 4,...}\n",
    "```"
   ]
  },
  {
   "cell_type": "code",
   "execution_count": 12,
   "metadata": {
    "id": "up0uKilYjPDp"
   },
   "outputs": [
    {
     "name": "stdout",
     "output_type": "stream",
     "text": [
      "{'Miguel': 6, 'Sophia': 6, 'Davi': 4, 'Alice': 5, 'Arthur': 6, 'Julia': 5, 'Pedro': 5, 'Isabella': 8, 'Gabriel': 7, 'Manuela': 7, 'Laura': 5}\n"
     ]
    }
   ],
   "source": [
    "pessoas = ['Miguel','Sophia','Davi','Alice','Arthur','Julia','Pedro','Isabella','Gabriel','Manuela','Laura']\n",
    "\n",
    "# Escreva o código aqui\n",
    "'''\n",
    "# Usando laço for\n",
    "dict = {}\n",
    "for nome in pessoas:\n",
    "    dict[nome] = len(nome)\n",
    "dict\n",
    "'''\n",
    "\n",
    "#Usando Comprehension\n",
    "dict = {nome:len(nome) for nome in pessoas}\n",
    "print(dict)"
   ]
  },
  {
   "cell_type": "markdown",
   "metadata": {
    "id": "nSeVwbvojPDp"
   },
   "source": [
    "### Exercício 4) \n",
    "Considere a lista `pessoas` abaixo. Modifique os elementos da lista fazendo que com que o último caracter de cada elemento fique maiúsculo caso tal caractere seja uma vogal. Utilize o método <font color='blue'>'.upper'</font> de objetos string para converter um caracter em maiúsculo. Por exemplo, o método <font color='blue'>'.upper'</font> no código abaixo:\n",
    "```python\n",
    "x = 'abc'.upper()\n",
    "print(x)\n",
    "```\n",
    "resulta em `ABC`. Você não deve utilizar um laço <font color='blue'>'for'</font>, apenas comprehension."
   ]
  },
  {
   "cell_type": "code",
   "execution_count": 17,
   "metadata": {
    "id": "aZkQbcMDjPDp"
   },
   "outputs": [
    {
     "name": "stdout",
     "output_type": "stream",
     "text": [
      "['Miguel', 'SophiA', 'DavI', 'AlicE', 'Arthur', 'JuliA', 'PedrO', 'IsabellA', 'Gabriel', 'ManuelA', 'LaurA']\n"
     ]
    }
   ],
   "source": [
    "pessoas = ['Miguel','Sophia','Davi','Alice','Arthur','Julia','Pedro','Isabella','Gabriel','Manuela','Laura']\n",
    "\n",
    "# Escreva o código aqui\n",
    "pessoas = [p[:-1]+p[-1].upper() if p[-1] in 'aeiou' else p for p in pessoas]\n",
    "print(pessoas)"
   ]
  },
  {
   "cell_type": "markdown",
   "metadata": {
    "id": "uStoN3C3jPDp"
   },
   "source": [
    "### Exercício 5)\n",
    "Escreva uma função chamada `div3e5` que recebe como parâmetro um número. Se o número for divisível por 3 a função retorna `div3`, se for divisível por 5 retorna `div5`, se for divisível por 3 e 5 retorna `div3div5`, senão retorna o próprio número. Aplique a função na lista `teste` abaixo e utilize comprehension para gerar uma nova lista com os resultados correspondentes. Por exemplo, dada a lista:\n",
    "```python\n",
    "[30, 21, 21, 49, 39, 49, 19,  5, 17,  4]\n",
    "```\n",
    "o código deve produzir\n",
    "```python\n",
    "['div3div5', 'div3', 'div3', 49, 'div3', 49, 19, 'div5', 17, 4]\n",
    "```"
   ]
  },
  {
   "cell_type": "code",
   "execution_count": 21,
   "metadata": {
    "id": "77I618NZjPDq"
   },
   "outputs": [
    {
     "name": "stdout",
     "output_type": "stream",
     "text": [
      "[4, 7, 'div3', 'div5', 'div3div5', 34, 'div3div5', 'div3', 17, 'div3', 'div3', 26, 32, 'div5', 34, 'div3', 41, 'div3', 7, 'div3']\n",
      "[4, 7, 33, 20, 30, 34, 15, 3, 17, 39, 21, 26, 32, 10, 34, 42, 41, 18, 7, 36]\n"
     ]
    }
   ],
   "source": [
    "teste = [4, 7, 33, 20, 30, 34, 15, 3, 17, 39, 21, 26, 32, 10, 34, 42, 41, 18, 7, 36]\n",
    "\n",
    "def div3e5(x):\n",
    "    # Escreva o código aqui\n",
    "    s = ''\n",
    "    if x%3==0:\n",
    "        s= 'div3'\n",
    "    if x%5==0:\n",
    "        s += 'div5'\n",
    "    if s == '':\n",
    "        s = x\n",
    "    return s\n",
    "\n",
    "resultado = [div3e5(i) for i in teste]\n",
    "\n",
    "print(resultado)\n",
    "print(teste)"
   ]
  },
  {
   "cell_type": "markdown",
   "metadata": {
    "id": "ynf1pLUdjPDq"
   },
   "source": [
    "### Exercício 6) \n",
    "Considere a lista `numeros` abaixo que contém números inteiros entre 0 e 5. Escreva uma função chamda `ocorrencias` que recebe a lista `numeros` como parâmetro e retorna um dicionário onde as chaves são números de 0 a 5 e os valores associados correspondem ao número de vezes que a chave aparece na lista. Por exemplo, o código abaixo:\n",
    "```python\n",
    "numeros = [2, 1, 1, 2, 0, 2, 0, 1, 4, 1]\n",
    "print(ocorrencias(numeros))\n",
    "```\n",
    "deve gerar o seguinte resultado:\n",
    "```python\n",
    "{0: 2, 1: 4, 2: 3, 3: 0, 4: 1, 5: 0}\n",
    "```\n",
    "Tente não utilizar um laço <font color='blue'>'for'</font>, mas sim comprehension para dicionários."
   ]
  },
  {
   "cell_type": "code",
   "execution_count": 22,
   "metadata": {
    "id": "4bIm9xi0jPDq"
   },
   "outputs": [
    {
     "name": "stdout",
     "output_type": "stream",
     "text": [
      "{0: 7, 1: 3, 2: 2, 3: 2, 4: 4, 5: 2}\n"
     ]
    }
   ],
   "source": [
    "numeros = [1, 5, 1, 4, 3, 2, 4, 0, 0, 0, 3, 0, 2, 1, 0, 0, 4, 0, 5, 4]\n",
    "\n",
    "def ocorrencias(l):\n",
    "    # Escreva o código aqui\n",
    "    dt = {n:l.count(n) for n in range(6)}   #lista.count('b') conta o número de ocorrências em uma lista\n",
    "    return dt\n",
    "    \n",
    "print(ocorrencias(numeros))"
   ]
  },
  {
   "cell_type": "markdown",
   "metadata": {
    "id": "3YhUAQCYjPDq"
   },
   "source": [
    "### Exercício 7) \n",
    "Escreva uma função `retorna_maiuscula` que recebe um caractere como parâmetro e retorna o caracter em maiúsculo caso ele seja uma vogal. Utilize a função `retorna_maiuscula` para converter todas as vogais de uma string em maiúsculas.\n",
    "Por exemplo: \n",
    "```python\n",
    "'string para testar a funcao'\n",
    "```\n",
    "deve ser transformada em:\n",
    "```python\n",
    "'strIng pArA tEstAr A fUncAO'\n",
    "```\n",
    "Não utilize um laço <font color='blue'>'for'</font> em seu código.\n",
    "\n",
    "__Dica:__ Armazene os resultados da função `retorna_maiuscula` em uma lista e utilize a função <font color='blue'>.join</font> para converter a lista em uma string."
   ]
  },
  {
   "cell_type": "code",
   "execution_count": 27,
   "metadata": {
    "id": "kbQ78-FBjPDq"
   },
   "outputs": [
    {
     "name": "stdout",
     "output_type": "stream",
     "text": [
      "strIng pArA tEstAr A fUncAO\n"
     ]
    }
   ],
   "source": [
    "def retorna_maiuscula(s):\n",
    "    # Escreva o código aqui\n",
    "    if s in 'aeiou':\n",
    "        return s.upper()\n",
    "    else:\n",
    "        return s\n",
    "\n",
    "teste = 'string para testar a funcao'    \n",
    "string = ''.join([retorna_maiuscula(letra) for letra in teste]) # join contatena elementos em uma string.''nenhum separador\n",
    "print(string)"
   ]
  },
  {
   "cell_type": "markdown",
   "metadata": {
    "id": "-xZENba5jPDr"
   },
   "source": [
    "### Exercício 8)\n",
    "Repita o exercício 7) utilizando a função <font color='blue'>'lambda'</font> ao invés de uma função declarada pelo comando <font color='blue'>'def'</font>."
   ]
  },
  {
   "cell_type": "code",
   "execution_count": 28,
   "metadata": {
    "id": "mJzu7XZ9jPDr"
   },
   "outputs": [
    {
     "name": "stdout",
     "output_type": "stream",
     "text": [
      "strIng pArA tEstAr A fUncAO\n"
     ]
    }
   ],
   "source": [
    " # Escreva o código aqui    \n",
    "\n",
    "f1 = lambda s:s.upper() if s in 'aeiou' else s\n",
    "\n",
    "teste = 'string para testar a funcao'    \n",
    "string = ''.join([f1(letra) for letra in teste]) # join contatena elementos em uma string.''nenhum separador\n",
    "print(string)"
   ]
  },
  {
   "cell_type": "markdown",
   "metadata": {
    "id": "j8usO24FjPDr"
   },
   "source": [
    "### Exercício 9)\n",
    "Escreva uma função `intersecao` que recebe duas listas como parâmetros e retorna uma outra lista contendo apenas os elementos que aparencem em ambas, sem repetição de elementos.\n",
    "Por exemplo, o código abaixo:\n",
    "```python\n",
    "s1 = ['a', 'f', 'o', 'i', 'n', 'f', 'g', 'a', 'o', 'i']\n",
    "s2 = ['l', 'k', 'j', 'f', 'a', 'j', 'i']\n",
    "print(intersecao(s1,s2))\n",
    "```\n",
    "deve resultar em \n",
    "```python\n",
    "['a', 'f', 'i']\n",
    "```\n",
    "__Dica:__ Utilize dicionário para encontrar os elementos únicos em cada lista. Você também pode converter a lista para uma váriavel tipo conjunto utilizando o comando <font color='blue'>set</font> disponível no python. Conjuntos não possuem elementos repetidos."
   ]
  },
  {
   "cell_type": "code",
   "execution_count": 35,
   "metadata": {
    "id": "jM_fTiSNjPDr"
   },
   "outputs": [
    {
     "name": "stdout",
     "output_type": "stream",
     "text": [
      "['i', 'a', 'f']\n",
      "Type of set1, set2:  <class 'set'>\n"
     ]
    }
   ],
   "source": [
    "def intersecao(l1,l2):\n",
    "    # Escreva o código aqui\n",
    "    set1 = set(l1)   # usando set para pegar os elementos unicos de cada lista\n",
    "    set2 = set(l2)\n",
    "    resultado = [c for c in set1 if c in set2]\n",
    "    return resultado\n",
    "\n",
    "s1 = ['a', 'f', 'o', 'i', 'n', 'f', 'g', 'a', 'o', 'i']\n",
    "s2 = ['l', 'k', 'j', 'f', 'a', 'j', 'i']\n",
    "print(intersecao(s1,s2))\n",
    "print('Type of set1, set2: ', type(set1))"
   ]
  },
  {
   "cell_type": "markdown",
   "metadata": {
    "id": "qdRPcylZjPDr"
   },
   "source": [
    "### Exercício 10)\n",
    "As funções <font color='blue'>lambda</font>, também chamada de _funções anônimas_, são muito utilizadas quando se invoca um método (ou função) que aceita outra função como parâmetro. Por exemplo, a função <font color='blue'>sorted</font> aceita uma função com parâmetro, a qual é aplicada aos elementos da lista antes que a ordenação seja feita. Por exemplo:\n",
    "```python\n",
    "numeros = [0.11, -0.11, 0.4, 0.11, -0.57, -0.05, 0.85, -0.27, -0.07, -0.78]\n",
    "print(sorted(numeros,key=lambda x:x**2))\n",
    "```\n",
    "resulta nos elementos ordenados, mas como se eles estivessem elevados ao quadrado, ou seja, o resultado é:\n",
    "```python\n",
    "[-0.05, -0.07, 0.11, -0.11, 0.11, -0.27, 0.4, -0.57, -0.78, 0.85]\n",
    "```\n",
    "pois quando elevados ao quadrado e ordenados, os elementos da lista `numeros` resultam em:\n",
    "```python\n",
    "[0.0025, 0.0049, 0.0121, 0.0121, 0.0121, 0.0729, 0.1600, 0.3248, 0.6084, 0.7224]\n",
    "```\n",
    "\n",
    "Utilize a função <font color='blue'>lambda</font> combinada com o método <font color='blue'>sorted</font> para colocar todos os números múltiplos de 3 na parte esquerda de uma lista, ficando os demais números a direita. Por exemplo, a lista:\n",
    "```python\n",
    "[17, 46, 21, 16, 44, 1, 6, 5, 27, 24]\n",
    "```\n",
    "deve ficar organizada como:\n",
    "```python\n",
    "[21, 6, 27, 24, 17, 46, 16, 44, 1, 5]\n",
    "```\n",
    "onde `21, 6, 27, 24` ficam a esquerda, pois são múltipos de 3, equanto \n",
    "`17, 46, 16, 44, 1, 5` ficam a direita pois não são múltiplos de 3.\n",
    "\n",
    "Como teste para seu código, utilize a lista\n",
    "```python\n",
    "[2, 17, 12, 35, 39, 35, 4, 44, 12, 20, 7, 1, 21, 45, 43, 26, 6, 13, 48, 42]\n",
    "```\n",
    "que deve ficar organizada da seguinte forma:\n",
    "```python\n",
    "[12, 39, 12, 21, 45, 6, 48, 42, 2, 17, 35, 35, 4, 44, 20, 7, 1, 43, 26, 13]\n",
    "```"
   ]
  },
  {
   "cell_type": "code",
   "execution_count": 40,
   "metadata": {
    "id": "DyGB9wuQjPDs"
   },
   "outputs": [
    {
     "name": "stdout",
     "output_type": "stream",
     "text": [
      "[2, 17, 12, 35, 39, 35, 4, 44, 12, 20, 7, 1, 21, 45, 43, 26, 6, 13, 48, 42]\n",
      "[12, 39, 12, 21, 45, 6, 48, 42, 2, 17, 35, 35, 4, 44, 20, 7, 1, 43, 26, 13]\n"
     ]
    }
   ],
   "source": [
    "n = [2, 17, 12, 35, 39, 35, 4, 44, 12, 20, 7, 1, 21, 45, 43, 26, 6, 13, 48, 42]\n",
    "\n",
    "# Escreva o código aqui\n",
    "print(n)\n",
    "print(sorted(n,key=lambda x:0 if x%3==0 else 1))"
   ]
  }
 ],
 "metadata": {
  "colab": {
   "collapsed_sections": [],
   "name": "Python II exercicios.ipynb",
   "provenance": []
  },
  "kernelspec": {
   "display_name": "Python 3",
   "language": "python",
   "name": "python3"
  },
  "language_info": {
   "codemirror_mode": {
    "name": "ipython",
    "version": 3
   },
   "file_extension": ".py",
   "mimetype": "text/x-python",
   "name": "python",
   "nbconvert_exporter": "python",
   "pygments_lexer": "ipython3",
   "version": "3.8.3"
  }
 },
 "nbformat": 4,
 "nbformat_minor": 1
}
