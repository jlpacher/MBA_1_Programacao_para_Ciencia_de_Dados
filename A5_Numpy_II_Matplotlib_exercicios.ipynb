{
 "cells": [
  {
   "cell_type": "markdown",
   "metadata": {},
   "source": [
    "# <span style=\"color:blue\"> MBA em Ciência de Dados</span>\n",
    "# <span style=\"color:blue\">Programação para Ciência de Dados</span>\n",
    "\n",
    "## <span style=\"color:blue\">Numpy Parte II e Matplotlib - Exercícios</span>\n",
    "**Material Produzido por Luis Gustavo Nonato**<br>\n",
    "**Cemeai - ICMC/USP São Carlos**\n",
    "---"
   ]
  },
  {
   "cell_type": "markdown",
   "metadata": {},
   "source": [
    "#### <span style=\"color:red\">Recomenda-se fortemente que os exercícios sejam feitos sem consultar as respostas antecipadamente.</span>"
   ]
  },
  {
   "cell_type": "code",
   "execution_count": 7,
   "metadata": {},
   "outputs": [],
   "source": [
    "import numpy as np"
   ]
  },
  {
   "cell_type": "markdown",
   "metadata": {},
   "source": [
    "### Exercício 1)\n",
    "Crie uma matriz com <font color='blue'>numpy</font> denominada `A` com 6 linhas e 3 colunas  broadcasting o array [1 2 3 4 5 6].\n",
    "\n",
    "__Dica:__ Construa primeiro uma matriz com dimensões 6x3 e depois emprege broadcasting"
   ]
  },
  {
   "cell_type": "code",
   "execution_count": 11,
   "metadata": {},
   "outputs": [
    {
     "name": "stdout",
     "output_type": "stream",
     "text": [
      "[[1. 1. 1.]\n",
      " [2. 2. 2.]\n",
      " [3. 3. 3.]\n",
      " [4. 4. 4.]\n",
      " [5. 5. 5.]\n",
      " [6. 6. 6.]]\n"
     ]
    }
   ],
   "source": [
    "A = np.zeros((6,3))\n",
    "v = np.arange(1,7)   # array com segunda dimensão não especificada\n",
    "# v =np.array([1, 2, 3, 4, 5, 6])\n",
    "\n",
    "A[:] = v[:,np.newaxis]  # np.newaxis transform v em um vetor coluna, realizando o broadcasting em v nas colunas\n",
    "# A[:] = np.array([1, 2, 3, 4, 5, 6]).reshape(6,1)\n",
    "\n",
    "print(A)"
   ]
  },
  {
   "cell_type": "markdown",
   "metadata": {},
   "source": [
    "### Exercício 2)\n",
    "Construa uma matriz \n",
    "```python\n",
    "[[0 1 2 3 4 5]\n",
    " [1 2 3 4 5 6]\n",
    " [2 3 4 5 6 7]\n",
    " [3 4 5 6 7 8]\n",
    " [4 5 6 7 8 9]]\n",
    "```\n",
    "partir dos arrays [0 1 2 3 4] e [0 1 2 3 4 5] utilizando broadcasting."
   ]
  },
  {
   "cell_type": "code",
   "execution_count": 81,
   "metadata": {},
   "outputs": [
    {
     "name": "stdout",
     "output_type": "stream",
     "text": [
      "Array v:\n",
      " [[0]\n",
      " [1]\n",
      " [2]\n",
      " [3]\n",
      " [4]]\n",
      "Shape do vetor vertical=  (5, 1) Linhas x Colunas \n",
      "\n",
      "Array h:\n",
      " [0 1 2 3 4 5]\n",
      "Shape do vetor horizontal=  (6,) Colunas \n",
      "\n",
      "Matriz M:\n",
      " [[0 1 2 3 4 5]\n",
      " [1 2 3 4 5 6]\n",
      " [2 3 4 5 6 7]\n",
      " [3 4 5 6 7 8]\n",
      " [4 5 6 7 8 9]]\n",
      "Shape da matriz=  (5, 1) Linhas x Colunas \n",
      "\n"
     ]
    }
   ],
   "source": [
    "v = np.array([0, 1, 2, 3, 4]).reshape(5,1)\n",
    "print('Array v:\\n',v)\n",
    "print('Shape do vetor vertical= ', v.shape, 'Linhas x Colunas','\\n')\n",
    "\n",
    "h = np.array([0, 1, 2, 3, 4, 5])\n",
    "print('Array h:\\n',h)\n",
    "print('Shape do vetor horizontal= ', h.shape, 'Colunas','\\n')\n",
    "\n",
    "M = v + h\n",
    "print('Matriz M:\\n',M)\n",
    "print('Shape da matriz= ', v.shape, 'Linhas x Colunas','\\n')"
   ]
  },
  {
   "cell_type": "markdown",
   "metadata": {},
   "source": [
    "### Exercício 3)\n",
    "Construa uma matriz 10x10 com números randômicos gerados no intervalo entre 0 e 1. Some os valores de cada coluna e encontre a coluna com o maior soma de seus elementos. "
   ]
  },
  {
   "cell_type": "code",
   "execution_count": 19,
   "metadata": {},
   "outputs": [
    {
     "name": "stdout",
     "output_type": "stream",
     "text": [
      "Maior valor em cada coluna:  [0.99677864 0.88422306 0.83269255 0.99081587 0.96294937 0.95503667\n",
      " 0.86902476 0.84470516 0.99595674 0.98958887]\n"
     ]
    }
   ],
   "source": [
    "X = np.random.uniform(low=0.0, high=1.0, size=100, ).reshape(10,10)\n",
    "print('Maior valor em cada coluna: ',np.max(X,axis=0))  # maior valor em cada coluna"
   ]
  },
  {
   "cell_type": "markdown",
   "metadata": {},
   "source": [
    "### Exercício 4)\n",
    "Considere uma matriz `A` $n\\times n,\\, n\\geq 2$ . Por exemplo, para $n=4$:\n",
    "$$\n",
    "A=\\left(\\begin{array}[cccc]\\\\\n",
    "1 & 3 & 2 & 6 \\\\\n",
    "3 & 5 & 1 & {7} \\\\\n",
    "{0} & 4 & {2} & {6} \\\\\n",
    "6 & 1 & 3 & {1} \n",
    "\\end{array}\\right)\n",
    "$$\n",
    "Crie uma matriz `B`  2$\\times$2 onde a primeira linha corresponde aos valores mínimo e máximo da soma das linhas da matriz `A` e a segunda linha de `B` corresponde aos valores mínimo e máximo da soma das colunas. Considerando a matriz `A` acima, a matriz `B` resultante seria:\n",
    "\n",
    "$$\n",
    "B=\\left(\\begin{array}[cc]\\\\\n",
    "11 & 16\\\\\n",
    "8 & 20\n",
    "\\end{array}\\right)\n",
    "$$\n",
    "\n",
    "A sua solução deve funcionar para qualquer matriz $n\\times n,\\, n\\geq 2$.<br>"
   ]
  },
  {
   "cell_type": "code",
   "execution_count": 30,
   "metadata": {},
   "outputs": [
    {
     "name": "stdout",
     "output_type": "stream",
     "text": [
      "Matriz Inicial A=\n",
      " [[1 3 2 6]\n",
      " [3 5 1 7]\n",
      " [0 4 2 6]\n",
      " [6 1 3 1]]\n",
      "\n",
      "Soma de Cada Linha:  [12 16 12 11]\n",
      "\n",
      "Soma de Cada Coluna:  [10 13  8 20]\n",
      "\n",
      "Resultado Matriz B=\n",
      " [[11 16]\n",
      " [ 8 20]]\n"
     ]
    }
   ],
   "source": [
    "A = np.array([1, 3, 2, 6, 3, 5, 1, 7, 0, 4, 2, 6, 6, 1, 3, 1]).reshape(4,4)\n",
    "print('Matriz Inicial A=\\n', A)\n",
    "print('\\nSoma de Cada Linha: ',np.sum(A,axis=1))  # soma dos valores em cada linha\n",
    "print('\\nSoma de Cada Coluna: ',np.sum(A,axis=0))  # soma dos valores em cada coluna\n",
    "\n",
    "soma_linhas = np.sum(A,axis=1)\n",
    "soma_colunas = np.sum(A,axis=0)\n",
    "                      \n",
    "B = np.array([np.min(soma_linhas), np.max(soma_linhas), np.min(soma_colunas), np.max(soma_colunas)]).reshape(2,2)\n",
    "print('\\nResultado Matriz B=\\n', B)"
   ]
  },
  {
   "cell_type": "markdown",
   "metadata": {},
   "source": [
    "### Exercício 5)\n",
    "Construa uma função chamada `ordena_linhas` que recebe uma matriz como parâmetro e troque as linhas de posição para que fiquem ordenadas de acordo com a primeira coluna. Por exemplo:\n",
    "```python\n",
    "A = np.array([[20, 26, 12], \n",
    "              [8, 3, 26], \n",
    "              [3, 10, 4]])\n",
    "print(ordena_linhas(A))\n",
    "```\n",
    "deve resultar em\n",
    "```python\n",
    "[[ 3 10  4]\n",
    " [ 8  3 26]\n",
    " [20 26 12]]\n",
    "```"
   ]
  },
  {
   "cell_type": "code",
   "execution_count": 35,
   "metadata": {},
   "outputs": [
    {
     "name": "stdout",
     "output_type": "stream",
     "text": [
      "Índices dos elementos ordenados pela coluna 0=  [2 1 0] \n",
      "\n",
      "[[ 3 10  4]\n",
      " [ 8  3 26]\n",
      " [20 26 12]]\n"
     ]
    }
   ],
   "source": [
    "def ordena_linhas(M):\n",
    "    I_col0 = np.argsort(M, axis=0)[:,0]  # fornece os indices dos elementos ordenados pela coluna 0\n",
    "    print('Índices dos elementos ordenados pela coluna 0= ', I_col0,'\\n')\n",
    "    M = M[I_col0]                        # retorna a matriz ordenada pelas linhas [I_col0]  \n",
    "    return M\n",
    "    \n",
    "    \n",
    "A = np.array([[20, 26, 12], \n",
    "              [8, 3, 26], \n",
    "              [3, 10, 4]])    \n",
    "print(ordena_linhas(A))  "
   ]
  },
  {
   "cell_type": "markdown",
   "metadata": {},
   "source": [
    "### Exercício 6)\n",
    "O método <font color='blue'>bar</font> do <font color='blue'>matplotlib.pyplot</font> gera um gráfico de barras a partir de um array com as coordenadas horizontais das barras e um array com as alturas das barras, ambos enviados como parâmetros (veja documentação [aqui](https://matplotlib.org/3.1.1/gallery/statistics/barchart_demo.html#sphx-glr-gallery-statistics-barchart-demo-py)). Gere um array de números randômicos no intervalo entre 0 e 1 e utilize o método <font color='blue'>bar</font> para visualizar os valores do array."
   ]
  },
  {
   "cell_type": "code",
   "execution_count": 58,
   "metadata": {},
   "outputs": [
    {
     "name": "stdout",
     "output_type": "stream",
     "text": [
      "[0.69965333 0.43806498 0.21361008 0.68425151 0.24482397 0.14493799\n",
      " 0.45534515 0.34340383 0.70835113]\n",
      "(9,)\n"
     ]
    },
    {
     "data": {
      "image/png": "[encoded data removed]",
      "text/plain": [
       "<Figure size 432x288 with 1 Axes>"
      ]
     },
     "metadata": {
      "needs_background": "light"
     },
     "output_type": "display_data"
    }
   ],
   "source": [
    "import matplotlib.pyplot as plt\n",
    "# %matplotlib inline\n",
    "\n",
    "# gerando um gráfico de barra de x\n",
    "plt.xlabel('x')         # rótulo do eixo horizontal\n",
    "plt.ylabel('Value')    # rótulo do eixo vertical\n",
    "plt.title('Barplot of x')  # título da figura\n",
    "\n",
    "X = np.random.uniform(low=0,high=1,size=9)\n",
    "plt.bar(x=np.arange(X.shape[0]),height=X)\n",
    "print(X)\n",
    "print(X.shape)"
   ]
  },
  {
   "cell_type": "markdown",
   "metadata": {},
   "source": [
    "### Exercício 7)\n",
    "Melhore o gráfico de barras gerado no exercício anterior adicionando um asterisco vermelho no topo da barra mais alta.\n",
    "\n",
    "__Dica:__ Utilize o método <font color='blue'>scatter</font> do <font color='blue'>matplotlib.pyplot</font> para mostrar o asterisco."
   ]
  },
  {
   "cell_type": "code",
   "execution_count": 70,
   "metadata": {},
   "outputs": [
    {
     "name": "stdout",
     "output_type": "stream",
     "text": [
      "barra_mais_alta=  8\n"
     ]
    },
    {
     "data": {
      "text/plain": [
       "Text(0.5, 1.0, 'Barplot of x')"
      ]
     },
     "execution_count": 70,
     "metadata": {},
     "output_type": "execute_result"
    },
    {
     "data": {
      "image/png": "[encoded data removed]",
      "text/plain": [
       "<Figure size 432x288 with 1 Axes>"
      ]
     },
     "metadata": {
      "needs_background": "light"
     },
     "output_type": "display_data"
    }
   ],
   "source": [
    "barra_mais_alta = np.argmax(X)\n",
    "print('barra_mais_alta= ', barra_mais_alta)\n",
    "\n",
    "plt.bar(x=np.arange(X.shape[0]),height=X)\n",
    "plt.scatter(x=barra_mais_alta, y=X[barra_mais_alta]+0.1, marker='*', color='red')\n",
    "\n",
    "# melhorando a identificação\n",
    "plt.xlabel('x')            # rótulo do eixo horizontal\n",
    "plt.ylabel('Value')        # rótulo do eixo vertical\n",
    "plt.title('Barplot of x')  # título da figura"
   ]
  },
  {
   "cell_type": "markdown",
   "metadata": {},
   "source": [
    "### Exercício 8)\n",
    "Dado um conjunto de pontos $(x_0,y_0),(x_1,y_1),\\ldots,(x_n,y_n)$, podemos ajustar uma reta $y=\\alpha_0+\\alpha_1 x$ a esses pontos resolvendo o sistema linear:\n",
    "\n",
    "$$\n",
    "\\left(A^\\top A\\right)\\alpha = A^\\top b\n",
    "$$\n",
    "\n",
    "onde a matriz de $A$ e o vetor $b$ são definidos como:\n",
    "\n",
    "$$\n",
    "A=\\left(\\begin{array}{cc}\n",
    "1 & x_0 \\\\\n",
    "1 & x_1 \\\\\n",
    "\\vdots & \\vdots \\\\\n",
    "1 & x_n \n",
    "\\end{array}\\right),\n",
    "\\qquad\n",
    "\\alpha = \\left(\\begin{array}{c}\n",
    "\\alpha_0 \\\\\n",
    "\\alpha_1 \n",
    "\\end{array}\\right),\n",
    "\\qquad\n",
    "b = \\left(\\begin{array}{c}\n",
    "y_0 \\\\\n",
    "y_1 \\\\\n",
    "\\vdots \\\\\n",
    "y_n\n",
    "\\end{array}\\right)\n",
    "$$\n",
    "sendo $A^\\top$ a transposta da matriz de $A$.\n",
    "\n",
    "Suponha que os pontos $(x_i,y_i)$ são gerados pelo código:\n",
    "\n",
    "```python\n",
    "x = np.random.uniform(0,1,100)\n",
    "y = 1.0-x+np.random.uniform(-0.3,0.3,100)\n",
    "```\n",
    "\n",
    "a) Construa uma função que receba o array `x` como parâmetros e retorna a matriz `A` como definida acima.\n",
    "\n",
    "b)  Resolva o sistema linear $\\left(A^\\top A\\right)\\alpha = A^\\top b$ utilizando o métodos \"numpy.linalg.solve\" e imprima o resultado obtido (valores de $\\alpha_0$ e $\\alpha_1$ da reta)."
   ]
  },
  {
   "cell_type": "code",
   "execution_count": 97,
   "metadata": {},
   "outputs": [
    {
     "name": "stdout",
     "output_type": "stream",
     "text": [
      "[ 1.00273025 -0.95534107]\n"
     ]
    }
   ],
   "source": [
    "def gera_A(x):\n",
    "    n = x.shape[0]\n",
    "    A = np.ones((n,2))\n",
    "    A[:,1] = x\n",
    "    return(A)\n",
    "\n",
    "x = np.random.uniform(0,1,100)\n",
    "y = 1.0-x+np.random.uniform(-0.3,0.3,100)\n",
    "    \n",
    "A = gera_A(x)\n",
    "AtA = np.dot(A.T,A)                  # calcula a multiplicação de A transposta vezes A\n",
    "Atb = np.dot(A.T,y)                  # calcula a multiplicação de A transposta vezes b=y\n",
    "alphas = np.linalg.solve(AtA, Atb)   # calcula os coeficientes a,b da equação da reta\n",
    "print(alphas)"
   ]
  },
  {
   "cell_type": "markdown",
   "metadata": {},
   "source": [
    "### Exercício 9)\n",
    "Utilizando os valores $\\alpha_0$ e $\\alpha_1$ calculados na questão anterior, faça um gráfico os pontos $(x_i,y_i)$ e da reta encontrada. O seu código deve produzir um gráfico semelhante ao apresentado abaixo: \n",
    "\n",
    "![IMAGEM](linefit.png)\n",
    "\n",
    "__Obs.__ A imagem \"linefit.png\" deve estar no mesmo diretório desse notebook.\n",
    "\n",
    "__Dica:__ Utilize o método <font color='blue'>scatter</font> do <font color='blue'>pyplot</font>"
   ]
  },
  {
   "cell_type": "code",
   "execution_count": 102,
   "metadata": {},
   "outputs": [
    {
     "data": {
      "text/plain": [
       "[<matplotlib.lines.Line2D at 0x22afdba8850>]"
      ]
     },
     "execution_count": 102,
     "metadata": {},
     "output_type": "execute_result"
    },
    {
     "data": {
      "image/png": "[encoded data removed]",
      "text/plain": [
       "<Figure size 432x288 with 1 Axes>"
      ]
     },
     "metadata": {
      "needs_background": "light"
     },
     "output_type": "display_data"
    }
   ],
   "source": [
    "import matplotlib.pyplot as plt\n",
    "%matplotlib inline\n",
    "\n",
    "plt.scatter(x,y, marker='*')\n",
    "linex = np.array([0,1])\n",
    "liney = alphas[0] + linex * alphas[1]\n",
    "plt.plot(linex, liney, color='orange')\n"
   ]
  },
  {
   "cell_type": "markdown",
   "metadata": {},
   "source": [
    "### Exercício 10)\n",
    "Melhore o gráfico gerado no exercício anterior incorporando uma legenda e uma anotação na indicando a linha ajustada."
   ]
  },
  {
   "cell_type": "code",
   "execution_count": 107,
   "metadata": {},
   "outputs": [
    {
     "data": {
      "text/plain": [
       "Text(0.2, 0.2, 'RETA AJUSTADA')"
      ]
     },
     "execution_count": 107,
     "metadata": {},
     "output_type": "execute_result"
    },
    {
     "data": {
      "image/png": "[encoded data removed]",
      "text/plain": [
       "<Figure size 432x288 with 1 Axes>"
      ]
     },
     "metadata": {
      "needs_background": "light"
     },
     "output_type": "display_data"
    }
   ],
   "source": [
    "plt.scatter(x,y, marker='*', label='Pontos')\n",
    "linex = np.array([0,1])\n",
    "liney = alphas[0] + linex * alphas[1]\n",
    "plt.plot(linex, liney, color='orange', label='Reta ajustada')\n",
    "\n",
    "plt.legend()\n",
    "# plt.annotate('max local', xy=(2.05,1.05), xytext=(3,1.3), # gera uma anotação\n",
    "#              arrowprops=dict(facecolor='black')))\n",
    "plt.annotate('RETA AJUSTADA', xy=(0.45,0.55), xytext=(0.2,0.2), arrowprops=dict(facecolor='black'))"
   ]
  },
  {
   "cell_type": "code",
   "execution_count": null,
   "metadata": {},
   "outputs": [],
   "source": []
  }
 ],
 "metadata": {
  "kernelspec": {
   "display_name": "Python 3",
   "language": "python",
   "name": "python3"
  },
  "language_info": {
   "codemirror_mode": {
    "name": "ipython",
    "version": 3
   },
   "file_extension": ".py",
   "mimetype": "text/x-python",
   "name": "python",
   "nbconvert_exporter": "python",
   "pygments_lexer": "ipython3",
   "version": "3.8.3"
  },
  "toc": {
   "base_numbering": 1,
   "nav_menu": {},
   "number_sections": true,
   "sideBar": true,
   "skip_h1_title": false,
   "title_cell": "Table of Contents",
   "title_sidebar": "Contents",
   "toc_cell": false,
   "toc_position": {},
   "toc_section_display": true,
   "toc_window_display": false
  }
 },
 "nbformat": 4,
 "nbformat_minor": 2
}
