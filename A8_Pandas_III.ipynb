{
 "cells": [
  {
   "cell_type": "markdown",
   "metadata": {
    "colab_type": "text",
    "id": "fT8v5Hk3bShe"
   },
   "source": [
    "# <font color=\"blue\"> MBA em Ciência de Dados</font>\n",
    "# <font color=\"blue\">Programação para Ciência de Dados</font>\n",
    "\n",
    "## <font color=\"blue\">Pandas Parte III</font>\n",
    "**Material Produzido por Luis Gustavo Nonato e Bruno Coelho**<br>\n",
    "**Cemeai - ICMC/USP São Carlos**\n",
    "---\n"
   ]
  },
  {
   "cell_type": "markdown",
   "metadata": {
    "colab_type": "text",
    "id": "4oFbzLT2bShi"
   },
   "source": [
    "__Conteúdo:__\n",
    "- GroupBy\n",
    "    - Agregação\n",
    "    - Filtragem\n",
    "    - Transformação\n",
    "\n",
    "__Referências__ <br>\n",
    "- [Pandas: powerful Python data analysis toolkit: Wes McKinney & PyData Devel. Team](https://pandas.pydata.org/pandas-docs/stable/pandas.pdf)\n",
    "- [http://pandas.pydata.org/pandas-docs/stable/index.html](http://pandas.pydata.org/pandas-docs/stable/index.html)\n"
   ]
  },
  {
   "cell_type": "markdown",
   "metadata": {
    "colab_type": "text",
    "id": "IAxVpf0NbShl"
   },
   "source": [
    "## Introdução\n",
    "\n",
    "Frequentemente queremos aplicar transformações e filtragens  em um conjunto de dados a fim de extrair informações relevantes e padrões contidos nos dados. Por exemplo, analisar o salário médio de um grupo de profissionais considerando o sexo e a faixa etária dos profissionais.\n",
    "Muitas destas transformações podem ser realizadas por meio de uma operação denominada _MapReduce_.\n",
    "\n",
    "_MapReduce_ é implementada no pacote <font color='blue'>Pandas</font> por meio do método <font color='blue'>groupby</font>.\n",
    "\n",
    "Em geral, o método <font color='blue'>groupby</font> envolve 3 tarefas:\n",
    "- __Split__: Divide os dados em subgrupos. Por exemplo, divide os profissionais em subgrupos de acordo com a faixa etária dos profissionais.\n",
    "- __Apply__: Aplica alguma transformação, agregação ou filtragem para extrair informações de cada subgrupo. Por exemplo, pode-se calcular a média salarial em cada faixa etária dos profissionais.\n",
    "- __Combine__: Combina os resultados das transformações em um DataFrame ou Série.\n"
   ]
  },
  {
   "cell_type": "markdown",
   "metadata": {},
   "source": [
    "$$\n",
    "\\begin{array}{ccccc}\n",
    "DataFrame & & Split & Apply & Combine\\\\\n",
    "\\begin{array}{c|c}\n",
    "C1 & C2 \\\\ \\hline\n",
    "A & 0 \\\\ \\hline\n",
    "B & 5 \\\\ \\hline\n",
    "C & 10 \\\\ \\hline\n",
    "A & 5 \\\\ \\hline\n",
    "B & 5 \\\\ \\hline\n",
    "C & 10 \\\\ \\hline\n",
    "A & 10 \\\\ \\hline\n",
    "B & 5 \\\\ \\hline\n",
    "C & 10 \n",
    "\\end{array} &\n",
    "\\begin{array}{c}\n",
    "\\nearrow \\\\ \\\\\n",
    "\\rightarrow \\\\ \\\\\n",
    "\\searrow\n",
    "\\end{array} &\n",
    "\\begin{array}{c|c}\n",
    "A & 0 \\\\ \\hline\n",
    "A & 5 \\\\ \\hline\n",
    "A & 10 \\\\ \\\\\n",
    "B & 5 \\\\ \\hline\n",
    "B & 5 \\\\ \\hline\n",
    "B & 5 \\\\ \\\\\n",
    "C & 10 \\\\ \\hline\n",
    "C & 10 \\\\ \\hline\n",
    "C & 10 \n",
    "\\end{array} &\n",
    "\\begin{array}{c}\n",
    "\\searrow\\\\ \\\\\n",
    "\\rightarrow \\\\ \\\\\n",
    "\\nearrow\n",
    "\\end{array} & \n",
    "\\begin{array}{c|c}\n",
    "A & 15 \\\\ \\hline\n",
    "B & 15 \\\\ \\hline\n",
    "C & 30 \n",
    "\\end{array}\n",
    "\\end{array}\n",
    "$$"
   ]
  },
  {
   "cell_type": "markdown",
   "metadata": {
    "colab_type": "text",
    "id": "PwNwWN6IbSho"
   },
   "source": [
    "A etapa de \"split\" divide um conjunto de dados de acordo com algum critério, que pode ser valores das colunas do DataFrame, lista de valores externos ou até mesmo o resultado de uma função. \n",
    "\n",
    "Na verdade, o  <font color='blue'>pandas</font> não divide o DataFrame, mas cria uma estrutura que permite operar como se os dados estivessem divididos, evitando o uso excessivo de memória.\n",
    "\n",
    "Portanto, é importante estar atento, pois o resultado de aplicar o método <font color='blue'>groupby</font> não é um novo DataFrame (ou Serie), mas sim um objeto do tipo `groupby`.\n",
    "Para visualizar ou acessar os grupos criados pode-se realizar uma redução (que é o resultado do \"apply\" e \"combine\") ou utilizar algum método do objeto `groupby`, como por exemplo:\n",
    "- <font color='blue'>first()</font>: apresenta a primeira linha de cada grupo formado\n",
    "- <font color='blue'>get_group()</font>: retorna um DataFrame com o conteúdo de um grupo\n",
    "- <font color='blue'>groups()</font>: retorna um dicionário onde as chaves são os rótulos dos grupos e os valores os índices das linhas onde elementos do grupo ocorrem\n",
    "\n"
   ]
  },
  {
   "cell_type": "code",
   "execution_count": 1,
   "metadata": {
    "colab": {
     "base_uri": "https://localhost:8080/",
     "height": 206
    },
    "colab_type": "code",
    "executionInfo": {
     "elapsed": 727,
     "status": "ok",
     "timestamp": 1576346735851,
     "user": {
      "displayName": "Bruno Gomes Coelho",
      "photoUrl": "",
      "userId": "05092110984953098563"
     },
     "user_tz": 180
    },
    "id": "9zQqg2X-bShr",
    "outputId": "dad71025-d8a6-44f5-d78c-7e4a118d7e61"
   },
   "outputs": [
    {
     "data": {
      "text/html": [
       "<div>\n",
       "<style scoped>\n",
       "    .dataframe tbody tr th:only-of-type {\n",
       "        vertical-align: middle;\n",
       "    }\n",
       "\n",
       "    .dataframe tbody tr th {\n",
       "        vertical-align: top;\n",
       "    }\n",
       "\n",
       "    .dataframe thead th {\n",
       "        text-align: right;\n",
       "    }\n",
       "</style>\n",
       "<table border=\"1\" class=\"dataframe\">\n",
       "  <thead>\n",
       "    <tr style=\"text-align: right;\">\n",
       "      <th></th>\n",
       "      <th>total_bill</th>\n",
       "      <th>tip</th>\n",
       "      <th>sex</th>\n",
       "      <th>smoker</th>\n",
       "      <th>day</th>\n",
       "      <th>time</th>\n",
       "      <th>size</th>\n",
       "    </tr>\n",
       "  </thead>\n",
       "  <tbody>\n",
       "    <tr>\n",
       "      <th>0</th>\n",
       "      <td>16.99</td>\n",
       "      <td>1.01</td>\n",
       "      <td>Female</td>\n",
       "      <td>No</td>\n",
       "      <td>Sun</td>\n",
       "      <td>Dinner</td>\n",
       "      <td>2</td>\n",
       "    </tr>\n",
       "    <tr>\n",
       "      <th>1</th>\n",
       "      <td>10.34</td>\n",
       "      <td>1.66</td>\n",
       "      <td>Male</td>\n",
       "      <td>No</td>\n",
       "      <td>Sun</td>\n",
       "      <td>Dinner</td>\n",
       "      <td>3</td>\n",
       "    </tr>\n",
       "    <tr>\n",
       "      <th>2</th>\n",
       "      <td>21.01</td>\n",
       "      <td>3.50</td>\n",
       "      <td>Male</td>\n",
       "      <td>No</td>\n",
       "      <td>Sun</td>\n",
       "      <td>Dinner</td>\n",
       "      <td>3</td>\n",
       "    </tr>\n",
       "    <tr>\n",
       "      <th>3</th>\n",
       "      <td>23.68</td>\n",
       "      <td>3.31</td>\n",
       "      <td>Male</td>\n",
       "      <td>No</td>\n",
       "      <td>Sun</td>\n",
       "      <td>Dinner</td>\n",
       "      <td>2</td>\n",
       "    </tr>\n",
       "    <tr>\n",
       "      <th>4</th>\n",
       "      <td>24.59</td>\n",
       "      <td>3.61</td>\n",
       "      <td>Female</td>\n",
       "      <td>No</td>\n",
       "      <td>Sun</td>\n",
       "      <td>Dinner</td>\n",
       "      <td>4</td>\n",
       "    </tr>\n",
       "  </tbody>\n",
       "</table>\n",
       "</div>"
      ],
      "text/plain": [
       "   total_bill   tip     sex smoker  day    time  size\n",
       "0       16.99  1.01  Female     No  Sun  Dinner     2\n",
       "1       10.34  1.66    Male     No  Sun  Dinner     3\n",
       "2       21.01  3.50    Male     No  Sun  Dinner     3\n",
       "3       23.68  3.31    Male     No  Sun  Dinner     2\n",
       "4       24.59  3.61  Female     No  Sun  Dinner     4"
      ]
     },
     "execution_count": 1,
     "metadata": {},
     "output_type": "execute_result"
    }
   ],
   "source": [
    "# Importando o pacote 'pandas' e 'numpy'\n",
    "import pandas as pd\n",
    "import numpy as np\n",
    "\n",
    "# O comando abaixo carrega o arquivo 'tips.csv' disponível no moodle\n",
    "df = pd.read_csv(\"tips.csv\")\n",
    "df.head()"
   ]
  },
  {
   "cell_type": "code",
   "execution_count": 2,
   "metadata": {
    "colab": {
     "base_uri": "https://localhost:8080/",
     "height": 243
    },
    "colab_type": "code",
    "executionInfo": {
     "elapsed": 1477,
     "status": "ok",
     "timestamp": 1576346993797,
     "user": {
      "displayName": "Bruno Gomes Coelho",
      "photoUrl": "",
      "userId": "05092110984953098563"
     },
     "user_tz": 180
    },
    "id": "px0CqvrBlmmk",
    "outputId": "196acce9-1a13-4924-feca-a9cbc66a6ff1"
   },
   "outputs": [
    {
     "name": "stdout",
     "output_type": "stream",
     "text": [
      "<class 'pandas.core.groupby.generic.DataFrameGroupBy'>\n"
     ]
    }
   ],
   "source": [
    "# Agrupando os dados de acordo com os valores da coluna \"sex\"\n",
    "\n",
    "dfgb_sex = df.groupby(\"sex\")\n",
    "\n",
    "# Perceba que a variável 'df_sex' não é um DataFrame, mas sim \n",
    "# um 'DataFrameGroupBy'\n",
    "print(type(dfgb_sex))"
   ]
  },
  {
   "cell_type": "code",
   "execution_count": 3,
   "metadata": {},
   "outputs": [
    {
     "name": "stdout",
     "output_type": "stream",
     "text": [
      "<class 'pandas.core.frame.DataFrame'>\n",
      "\n",
      " primeira linha cada grupo:\n",
      "         total_bill   tip smoker  day    time  size\n",
      "sex                                               \n",
      "Female       16.99  1.01     No  Sun  Dinner     2\n",
      "Male         10.34  1.66     No  Sun  Dinner     3\n"
     ]
    }
   ],
   "source": [
    "# visualizando a primeira linha de cada grupo\n",
    "print(type(dfgb_sex.first()))  # note que ao invocar o método first() obtemos um DataFrame\n",
    "print('\\n primeira linha cada grupo:\\n',dfgb_sex.first())  # note que os rótulos das linhas são\n",
    "                                                           # os grupos obtidos"
   ]
  },
  {
   "cell_type": "code",
   "execution_count": 4,
   "metadata": {},
   "outputs": [
    {
     "name": "stdout",
     "output_type": "stream",
     "text": [
      "\n",
      " <class 'pandas.core.frame.DataFrame'>\n",
      "\n",
      " primeiras linhas do grupo \"Male\":\n",
      "    total_bill   tip smoker  day    time  size\n",
      "1       10.34  1.66     No  Sun  Dinner     3\n",
      "2       21.01  3.50     No  Sun  Dinner     3\n",
      "3       23.68  3.31     No  Sun  Dinner     2\n",
      "5       25.29  4.71     No  Sun  Dinner     4\n",
      "6        8.77  2.00     No  Sun  Dinner     2\n"
     ]
    }
   ],
   "source": [
    "# visualizando as primeiras linhas do grupo 'Male'\n",
    "print('\\n',type(dfgb_sex.get_group('Male')))  # o resultado do get_group é um DataFrame\n",
    "print('\\n primeiras linhas do grupo \"Male\":\\n',\n",
    "      dfgb_sex.get_group('Male').head())"
   ]
  },
  {
   "cell_type": "code",
   "execution_count": 5,
   "metadata": {},
   "outputs": [
    {
     "name": "stdout",
     "output_type": "stream",
     "text": [
      "\n",
      " <class 'dict'>\n",
      "\n",
      " rótulos dos grupos:\n",
      " dict_keys(['Female', 'Male'])\n",
      "\n",
      " indices de alguns elementos do grupo \"Female\":\n",
      " Int64Index([0, 4, 11, 14, 16], dtype='int64')\n"
     ]
    }
   ],
   "source": [
    "# o método 'groups' retorna um dicionário onde as chaves \n",
    "# são os rótulos dos grupos formados e os valores são os índices das linhas\n",
    "# onde os elementos do grupo estão\n",
    "print('\\n',type(dfgb_sex.groups))  # o resutlado de groups é um dicionário\n",
    "print('\\n rótulos dos grupos:\\n',dfgb_sex.groups.keys())  # as chaves são os rótulos dos grupos\n",
    "print('\\n indices de alguns elementos do grupo \"Female\":\\n',\n",
    "      dfgb_sex.groups['Female'][0:5])"
   ]
  },
  {
   "cell_type": "markdown",
   "metadata": {},
   "source": [
    "#### Agrupando de acordo com uma lista externa\n",
    "O método <font color='blue'>groupby</font> pode agrupar um DataFrame de acordo com uma lista externa (que não é parte do DataFrame). Para isso, a lista deve possuir um número de elementos igual ao número de linhas do DataFrame."
   ]
  },
  {
   "cell_type": "code",
   "execution_count": 8,
   "metadata": {},
   "outputs": [
    {
     "name": "stdout",
     "output_type": "stream",
     "text": [
      "  key1 key2     data1     data2\n",
      "0    a  one  0.627007  0.646393\n",
      "1    a  two  0.154049  0.584975\n",
      "2    b  one  0.781773  0.516191\n",
      "3    b  two  0.702103  0.595320\n",
      "4    a  one  0.535557  0.114555\n",
      "[0, 0, 1, 0, 1]\n"
     ]
    }
   ],
   "source": [
    "# Construindo DataFrame a partir de um dicionário\n",
    "df = pd.DataFrame({'key1': ['a','a','b','b','a'],\n",
    "                  'key2': ['one','two','one','two','one'], \n",
    "                  'data1': np.random.uniform(low=0,high=1,size=5),\n",
    "                  'data2': np.random.uniform(low=0,high=1,size=5)})\n",
    "print(df)\n",
    "\n",
    "# criando uma lista de 0 e 1 com o mesmo número de linhas do DataFrame\n",
    "ls = [i for i in np.random.randint(0,2,df.shape[0])]\n",
    "\n",
    "#lista criada\n",
    "print(ls) "
   ]
  },
  {
   "cell_type": "code",
   "execution_count": 9,
   "metadata": {},
   "outputs": [
    {
     "name": "stdout",
     "output_type": "stream",
     "text": [
      "  key1 key2     data1     data2\n",
      "0    a  one  0.627007  0.646393\n",
      "1    a  two  0.154049  0.584975\n",
      "3    b  two  0.702103  0.595320\n",
      "  key1 key2     data1     data2\n",
      "2    b  one  0.781773  0.516191\n",
      "4    a  one  0.535557  0.114555\n"
     ]
    }
   ],
   "source": [
    "# Agrupando o DataFrame de acordo com a lista 'ls'\n",
    "gbylist = df.groupby(ls)\n",
    "\n",
    "print(gbylist.get_group(0))  # linhas onde o valor 0 aparece na lista\n",
    "print(gbylist.get_group(1))  # linhas onde o valor 1 aparece na lista"
   ]
  },
  {
   "cell_type": "markdown",
   "metadata": {},
   "source": [
    "#### Agrupando com múltiplos critérios (indexação hierárquica)\n",
    "Quando mais que um conjunto de valores é enviado como parâmetro para o <font color='blue'>groupby</font>, o resultado é um agrupamento com índices organizados de forma hierárquica."
   ]
  },
  {
   "cell_type": "code",
   "execution_count": 10,
   "metadata": {},
   "outputs": [
    {
     "data": {
      "text/html": [
       "<div>\n",
       "<style scoped>\n",
       "    .dataframe tbody tr th:only-of-type {\n",
       "        vertical-align: middle;\n",
       "    }\n",
       "\n",
       "    .dataframe tbody tr th {\n",
       "        vertical-align: top;\n",
       "    }\n",
       "\n",
       "    .dataframe thead th {\n",
       "        text-align: right;\n",
       "    }\n",
       "</style>\n",
       "<table border=\"1\" class=\"dataframe\">\n",
       "  <thead>\n",
       "    <tr style=\"text-align: right;\">\n",
       "      <th></th>\n",
       "      <th>key1</th>\n",
       "      <th>key2</th>\n",
       "      <th>data1</th>\n",
       "      <th>data2</th>\n",
       "    </tr>\n",
       "  </thead>\n",
       "  <tbody>\n",
       "    <tr>\n",
       "      <th>0</th>\n",
       "      <td>a</td>\n",
       "      <td>one</td>\n",
       "      <td>0.911290</td>\n",
       "      <td>0.808003</td>\n",
       "    </tr>\n",
       "    <tr>\n",
       "      <th>1</th>\n",
       "      <td>a</td>\n",
       "      <td>two</td>\n",
       "      <td>0.349344</td>\n",
       "      <td>0.941401</td>\n",
       "    </tr>\n",
       "    <tr>\n",
       "      <th>2</th>\n",
       "      <td>b</td>\n",
       "      <td>one</td>\n",
       "      <td>0.764063</td>\n",
       "      <td>0.148236</td>\n",
       "    </tr>\n",
       "    <tr>\n",
       "      <th>3</th>\n",
       "      <td>b</td>\n",
       "      <td>two</td>\n",
       "      <td>0.755340</td>\n",
       "      <td>0.743198</td>\n",
       "    </tr>\n",
       "    <tr>\n",
       "      <th>4</th>\n",
       "      <td>a</td>\n",
       "      <td>one</td>\n",
       "      <td>0.899274</td>\n",
       "      <td>0.863887</td>\n",
       "    </tr>\n",
       "    <tr>\n",
       "      <th>5</th>\n",
       "      <td>a</td>\n",
       "      <td>two</td>\n",
       "      <td>0.533657</td>\n",
       "      <td>0.819069</td>\n",
       "    </tr>\n",
       "    <tr>\n",
       "      <th>6</th>\n",
       "      <td>b</td>\n",
       "      <td>two</td>\n",
       "      <td>0.987113</td>\n",
       "      <td>0.223732</td>\n",
       "    </tr>\n",
       "    <tr>\n",
       "      <th>7</th>\n",
       "      <td>a</td>\n",
       "      <td>one</td>\n",
       "      <td>0.712036</td>\n",
       "      <td>0.960838</td>\n",
       "    </tr>\n",
       "  </tbody>\n",
       "</table>\n",
       "</div>"
      ],
      "text/plain": [
       "  key1 key2     data1     data2\n",
       "0    a  one  0.911290  0.808003\n",
       "1    a  two  0.349344  0.941401\n",
       "2    b  one  0.764063  0.148236\n",
       "3    b  two  0.755340  0.743198\n",
       "4    a  one  0.899274  0.863887\n",
       "5    a  two  0.533657  0.819069\n",
       "6    b  two  0.987113  0.223732\n",
       "7    a  one  0.712036  0.960838"
      ]
     },
     "execution_count": 10,
     "metadata": {},
     "output_type": "execute_result"
    }
   ],
   "source": [
    "# Construindo DataFrame a partir de um dicionário\n",
    "df = pd.DataFrame({'key1': ['a','a','b','b','a','a','b','a'],\n",
    "                  'key2': ['one','two','one','two','one','two','two','one'], \n",
    "                  'data1': np.random.uniform(low=0,high=1,size=8),\n",
    "                  'data2': np.random.uniform(low=0,high=1,size=8)})\n",
    "\n",
    "df"
   ]
  },
  {
   "cell_type": "code",
   "execution_count": 11,
   "metadata": {},
   "outputs": [
    {
     "name": "stdout",
     "output_type": "stream",
     "text": [
      "Rotulo do Grupo:  ('a', 'one')\n",
      "  key1 key2     data1     data2\n",
      "0    a  one  0.911290  0.808003\n",
      "4    a  one  0.899274  0.863887\n",
      "7    a  one  0.712036  0.960838 \n",
      "\n",
      "Rotulo do Grupo:  ('a', 'two')\n",
      "  key1 key2     data1     data2\n",
      "1    a  two  0.349344  0.941401\n",
      "5    a  two  0.533657  0.819069 \n",
      "\n",
      "Rotulo do Grupo:  ('b', 'one')\n",
      "  key1 key2     data1     data2\n",
      "2    b  one  0.764063  0.148236 \n",
      "\n",
      "Rotulo do Grupo:  ('b', 'two')\n",
      "  key1 key2     data1     data2\n",
      "3    b  two  0.755340  0.743198\n",
      "6    b  two  0.987113  0.223732 \n",
      "\n"
     ]
    }
   ],
   "source": [
    "# agrupando com base nos valores das colunas 'key1' e 'key2'\n",
    "dfh = df.groupby(['key1','key2'])\n",
    "\n",
    "# imprimindo o conteúdo de cada grupo com um laço for\n",
    "# 'groupname' corresponde ao índice do grupo, uma tupla neste caso\n",
    "# 'group' corresponde ao grupo\\ própriamente dito\n",
    "for groupname,group in dfh:\n",
    "    print('Rotulo do Grupo: ',groupname)\n",
    "    print(group,'\\n')"
   ]
  },
  {
   "cell_type": "markdown",
   "metadata": {},
   "source": [
    "#### Agrupando com funções\n",
    "Uma função pode ser enviada como parâmetro de agrupamento para o <font color='blue'>groupby</font>. Neste caso, a função é aplicada aos rótulos das linhas do DataFrame e o resultado é utilizado como rótulo do grupo."
   ]
  },
  {
   "cell_type": "code",
   "execution_count": 12,
   "metadata": {},
   "outputs": [
    {
     "data": {
      "text/html": [
       "<div>\n",
       "<style scoped>\n",
       "    .dataframe tbody tr th:only-of-type {\n",
       "        vertical-align: middle;\n",
       "    }\n",
       "\n",
       "    .dataframe tbody tr th {\n",
       "        vertical-align: top;\n",
       "    }\n",
       "\n",
       "    .dataframe thead th {\n",
       "        text-align: right;\n",
       "    }\n",
       "</style>\n",
       "<table border=\"1\" class=\"dataframe\">\n",
       "  <thead>\n",
       "    <tr style=\"text-align: right;\">\n",
       "      <th></th>\n",
       "      <th>a</th>\n",
       "      <th>b</th>\n",
       "      <th>c</th>\n",
       "      <th>d</th>\n",
       "      <th>e</th>\n",
       "    </tr>\n",
       "  </thead>\n",
       "  <tbody>\n",
       "    <tr>\n",
       "      <th>Joe</th>\n",
       "      <td>4</td>\n",
       "      <td>6</td>\n",
       "      <td>7</td>\n",
       "      <td>7</td>\n",
       "      <td>7</td>\n",
       "    </tr>\n",
       "    <tr>\n",
       "      <th>Michel</th>\n",
       "      <td>4</td>\n",
       "      <td>9</td>\n",
       "      <td>3</td>\n",
       "      <td>4</td>\n",
       "      <td>8</td>\n",
       "    </tr>\n",
       "    <tr>\n",
       "      <th>Steve</th>\n",
       "      <td>5</td>\n",
       "      <td>2</td>\n",
       "      <td>2</td>\n",
       "      <td>7</td>\n",
       "      <td>3</td>\n",
       "    </tr>\n",
       "    <tr>\n",
       "      <th>Wes</th>\n",
       "      <td>6</td>\n",
       "      <td>4</td>\n",
       "      <td>2</td>\n",
       "      <td>8</td>\n",
       "      <td>6</td>\n",
       "    </tr>\n",
       "    <tr>\n",
       "      <th>Jim</th>\n",
       "      <td>5</td>\n",
       "      <td>1</td>\n",
       "      <td>1</td>\n",
       "      <td>8</td>\n",
       "      <td>3</td>\n",
       "    </tr>\n",
       "    <tr>\n",
       "      <th>Travis</th>\n",
       "      <td>8</td>\n",
       "      <td>1</td>\n",
       "      <td>4</td>\n",
       "      <td>8</td>\n",
       "      <td>4</td>\n",
       "    </tr>\n",
       "  </tbody>\n",
       "</table>\n",
       "</div>"
      ],
      "text/plain": [
       "        a  b  c  d  e\n",
       "Joe     4  6  7  7  7\n",
       "Michel  4  9  3  4  8\n",
       "Steve   5  2  2  7  3\n",
       "Wes     6  4  2  8  6\n",
       "Jim     5  1  1  8  3\n",
       "Travis  8  1  4  8  4"
      ]
     },
     "execution_count": 12,
     "metadata": {},
     "output_type": "execute_result"
    }
   ],
   "source": [
    "# constuindo DataFrame com rótulos de linhas e colunas\n",
    "dfp = pd.DataFrame(data=np.random.randint(low=0, high=10, size=(6,5)),\n",
    "               columns=['a','b','c','d','e'], \n",
    "               index=['Joe','Michel','Steve','Wes','Jim','Travis'])\n",
    "dfp"
   ]
  },
  {
   "cell_type": "code",
   "execution_count": 13,
   "metadata": {},
   "outputs": [
    {
     "name": "stdout",
     "output_type": "stream",
     "text": [
      "Grupo:  3\n",
      "     a  b  c  d  e\n",
      "Joe  4  6  7  7  7\n",
      "Wes  6  4  2  8  6\n",
      "Jim  5  1  1  8  3 \n",
      "\n",
      "Grupo:  5\n",
      "       a  b  c  d  e\n",
      "Steve  5  2  2  7  3 \n",
      "\n",
      "Grupo:  6\n",
      "        a  b  c  d  e\n",
      "Michel  4  9  3  4  8\n",
      "Travis  8  1  4  8  4 \n",
      "\n"
     ]
    }
   ],
   "source": [
    "# agrupando de acordo com o número de caracteres nos rótulos das linhas\n",
    "gbf = dfp.groupby(lambda x: len(x))\n",
    "\n",
    "for name, group in gbf:\n",
    "    print('Grupo: ',name)\n",
    "    print(group,'\\n')"
   ]
  },
  {
   "cell_type": "markdown",
   "metadata": {
    "colab_type": "text",
    "id": "V5IJugintCGi"
   },
   "source": [
    "# Transformações e Agregações\n",
    "\n",
    "Em geral, temos 5 tipos de operações que podem ser aplicadas aos grupos gerados pelo <font color='blue'>groupby</font>:\n",
    "\n",
    "\n",
    "- __Métodos de agregação__: Combinam várias linhas em um único valor. Exemplos incluem a média, soma e mediana de cada coluna em cada grupo.\n",
    "\n",
    "- __Métodos de filtragem__: Retornam apenas um subconjunto dos dados originais. \n",
    "\n",
    "- __Métodos de tranformação__: Retornam um DataFrame com o mesmo tamanho e índices dos dados originais, mas com valores transformados com base nos grupos."
   ]
  },
  {
   "cell_type": "markdown",
   "metadata": {
    "colab_type": "text",
    "id": "lHhf8Urnt-Sq"
   },
   "source": [
    "## Métodos de agregação\n",
    "\n",
    "Pandas fornece [diversas funções](https://pandas.pydata.org/pandas-docs/stable/user_guide/groupby.html#aggregation) estatísticas de agregação, como <font color='blue'>sum, mean, std, max, min </font>. Pode-se ainda calcular várias agregações simultaneamente com o método <font color='blue'>agg</font> (de \"aggregate\")"
   ]
  },
  {
   "cell_type": "code",
   "execution_count": 14,
   "metadata": {},
   "outputs": [
    {
     "data": {
      "text/html": [
       "<div>\n",
       "<style scoped>\n",
       "    .dataframe tbody tr th:only-of-type {\n",
       "        vertical-align: middle;\n",
       "    }\n",
       "\n",
       "    .dataframe tbody tr th {\n",
       "        vertical-align: top;\n",
       "    }\n",
       "\n",
       "    .dataframe thead th {\n",
       "        text-align: right;\n",
       "    }\n",
       "</style>\n",
       "<table border=\"1\" class=\"dataframe\">\n",
       "  <thead>\n",
       "    <tr style=\"text-align: right;\">\n",
       "      <th></th>\n",
       "      <th>total_bill</th>\n",
       "      <th>tip</th>\n",
       "      <th>sex</th>\n",
       "      <th>smoker</th>\n",
       "      <th>day</th>\n",
       "      <th>time</th>\n",
       "      <th>size</th>\n",
       "    </tr>\n",
       "  </thead>\n",
       "  <tbody>\n",
       "    <tr>\n",
       "      <th>0</th>\n",
       "      <td>16.99</td>\n",
       "      <td>1.01</td>\n",
       "      <td>Female</td>\n",
       "      <td>No</td>\n",
       "      <td>Sun</td>\n",
       "      <td>Dinner</td>\n",
       "      <td>2</td>\n",
       "    </tr>\n",
       "    <tr>\n",
       "      <th>1</th>\n",
       "      <td>10.34</td>\n",
       "      <td>1.66</td>\n",
       "      <td>Male</td>\n",
       "      <td>No</td>\n",
       "      <td>Sun</td>\n",
       "      <td>Dinner</td>\n",
       "      <td>3</td>\n",
       "    </tr>\n",
       "    <tr>\n",
       "      <th>2</th>\n",
       "      <td>21.01</td>\n",
       "      <td>3.50</td>\n",
       "      <td>Male</td>\n",
       "      <td>No</td>\n",
       "      <td>Sun</td>\n",
       "      <td>Dinner</td>\n",
       "      <td>3</td>\n",
       "    </tr>\n",
       "    <tr>\n",
       "      <th>3</th>\n",
       "      <td>23.68</td>\n",
       "      <td>3.31</td>\n",
       "      <td>Male</td>\n",
       "      <td>No</td>\n",
       "      <td>Sun</td>\n",
       "      <td>Dinner</td>\n",
       "      <td>2</td>\n",
       "    </tr>\n",
       "    <tr>\n",
       "      <th>4</th>\n",
       "      <td>24.59</td>\n",
       "      <td>3.61</td>\n",
       "      <td>Female</td>\n",
       "      <td>No</td>\n",
       "      <td>Sun</td>\n",
       "      <td>Dinner</td>\n",
       "      <td>4</td>\n",
       "    </tr>\n",
       "  </tbody>\n",
       "</table>\n",
       "</div>"
      ],
      "text/plain": [
       "   total_bill   tip     sex smoker  day    time  size\n",
       "0       16.99  1.01  Female     No  Sun  Dinner     2\n",
       "1       10.34  1.66    Male     No  Sun  Dinner     3\n",
       "2       21.01  3.50    Male     No  Sun  Dinner     3\n",
       "3       23.68  3.31    Male     No  Sun  Dinner     2\n",
       "4       24.59  3.61  Female     No  Sun  Dinner     4"
      ]
     },
     "execution_count": 14,
     "metadata": {},
     "output_type": "execute_result"
    }
   ],
   "source": [
    "# Importando o pacote 'pandas'\n",
    "import pandas as pd\n",
    "\n",
    "# Carregando o arquivo 'tips.csv'\n",
    "df = pd.read_csv(\"tips.csv\")\n",
    "df.head()"
   ]
  },
  {
   "cell_type": "code",
   "execution_count": 15,
   "metadata": {
    "colab": {
     "base_uri": "https://localhost:8080/",
     "height": 397
    },
    "colab_type": "code",
    "executionInfo": {
     "elapsed": 839,
     "status": "ok",
     "timestamp": 1576349500243,
     "user": {
      "displayName": "Bruno Gomes Coelho",
      "photoUrl": "",
      "userId": "05092110984953098563"
     },
     "user_tz": 180
    },
    "id": "KUAlkviKt9J8",
    "outputId": "ef489476-7ad0-4e6a-fa87-e6b913826cb5"
   },
   "outputs": [
    {
     "name": "stdout",
     "output_type": "stream",
     "text": [
      "Gorjeta máxima\n",
      "sex\n",
      "Female     6.5\n",
      "Male      10.0\n",
      "Name: tip, dtype: float64\n"
     ]
    }
   ],
   "source": [
    "# Obtendo a maior gorjeta dos grupos 'Male' e 'Female'\n",
    "print(\"Gorjeta máxima\")\n",
    "\n",
    "# Agrupamos por sexo, depois selecionamos a coluna \"tip\" (gorjeta)\n",
    "# e pegamos o máximo dela.\n",
    "print(df.groupby([\"sex\"])[\"tip\"].max())\n"
   ]
  },
  {
   "cell_type": "code",
   "execution_count": 16,
   "metadata": {},
   "outputs": [
    {
     "name": "stdout",
     "output_type": "stream",
     "text": [
      "Média e Desvio Padrão das gorjetas em cada grupo:\n"
     ]
    },
    {
     "data": {
      "text/html": [
       "<div>\n",
       "<style scoped>\n",
       "    .dataframe tbody tr th:only-of-type {\n",
       "        vertical-align: middle;\n",
       "    }\n",
       "\n",
       "    .dataframe tbody tr th {\n",
       "        vertical-align: top;\n",
       "    }\n",
       "\n",
       "    .dataframe thead th {\n",
       "        text-align: right;\n",
       "    }\n",
       "</style>\n",
       "<table border=\"1\" class=\"dataframe\">\n",
       "  <thead>\n",
       "    <tr style=\"text-align: right;\">\n",
       "      <th></th>\n",
       "      <th>mean</th>\n",
       "      <th>std</th>\n",
       "    </tr>\n",
       "    <tr>\n",
       "      <th>sex</th>\n",
       "      <th></th>\n",
       "      <th></th>\n",
       "    </tr>\n",
       "  </thead>\n",
       "  <tbody>\n",
       "    <tr>\n",
       "      <th>Female</th>\n",
       "      <td>2.833448</td>\n",
       "      <td>1.159495</td>\n",
       "    </tr>\n",
       "    <tr>\n",
       "      <th>Male</th>\n",
       "      <td>3.089618</td>\n",
       "      <td>1.489102</td>\n",
       "    </tr>\n",
       "  </tbody>\n",
       "</table>\n",
       "</div>"
      ],
      "text/plain": [
       "            mean       std\n",
       "sex                       \n",
       "Female  2.833448  1.159495\n",
       "Male    3.089618  1.489102"
      ]
     },
     "execution_count": 16,
     "metadata": {},
     "output_type": "execute_result"
    }
   ],
   "source": [
    "# Pode-se calcular várias agregações simultaneamente via método \"agg\"\n",
    "print(\"Média e Desvio Padrão das gorjetas em cada grupo:\")\n",
    "df.groupby([\"sex\"])[\"tip\"].agg([ \"mean\", \"std\"])"
   ]
  },
  {
   "cell_type": "markdown",
   "metadata": {
    "colab_type": "text",
    "id": "guWA-3qYvzZx"
   },
   "source": [
    "**Importante**: O resultado de uma agregação, transformação ou filtragem  é um novo DataFrame onde os rótulos das linhas são os valores utilizados para realizar o agrupamento. \n",
    "Caso queiramos um DataFrame com linhas indexadas com valores $0,1,...$, devemos empregar o método <font color='blue'>reset_index</font>."
   ]
  },
  {
   "cell_type": "code",
   "execution_count": 17,
   "metadata": {
    "colab": {
     "base_uri": "https://localhost:8080/",
     "height": 225
    },
    "colab_type": "code",
    "executionInfo": {
     "elapsed": 871,
     "status": "ok",
     "timestamp": 1576349756711,
     "user": {
      "displayName": "Bruno Gomes Coelho",
      "photoUrl": "",
      "userId": "05092110984953098563"
     },
     "user_tz": 180
    },
    "id": "Bb5nmNwVsiIL",
    "outputId": "9542ba30-ea8c-47bf-c923-145a7f20a910"
   },
   "outputs": [
    {
     "name": "stdout",
     "output_type": "stream",
     "text": [
      "            mean       std\n",
      "sex                       \n",
      "Female  2.833448  1.159495\n",
      "Male    3.089618  1.489102 \n",
      "\n",
      "Rotulos dos grupos:\n",
      " Index(['Female', 'Male'], dtype='object', name='sex')\n",
      "\n",
      "Rotulos das colunas:\n",
      " Index(['mean', 'std'], dtype='object')\n"
     ]
    }
   ],
   "source": [
    "# Usando as colunas de agregação como índices\n",
    "result = df.groupby([\"sex\"])[\"tip\"].agg([\"mean\", \"std\"])\n",
    "print(result,'\\n')\n",
    "print(\"Rotulos dos grupos:\\n\", result.index)\n",
    "print(\"\\nRotulos das colunas:\\n\", result.columns)"
   ]
  },
  {
   "cell_type": "code",
   "execution_count": 18,
   "metadata": {},
   "outputs": [
    {
     "name": "stdout",
     "output_type": "stream",
     "text": [
      "      sex      mean       std\n",
      "0  Female  2.833448  1.159495\n",
      "1    Male  3.089618  1.489102 \n",
      "\n",
      "Rotulos dos grupos:\n",
      " RangeIndex(start=0, stop=2, step=1)\n",
      "\n",
      "Rotulos das colunas:\n",
      " Index(['sex', 'mean', 'std'], dtype='object')\n"
     ]
    }
   ],
   "source": [
    "# Reindexando com reset_index(), os rótulos se tornam uma nova coluna\n",
    "result = df.groupby([\"sex\"])[\"tip\"].agg([\"mean\", \"std\"]).reset_index()\n",
    "print(result,'\\n')\n",
    "print(\"Rotulos dos grupos:\\n\", result.index)\n",
    "print(\"\\nRotulos das colunas:\\n\", result.columns)"
   ]
  },
  {
   "cell_type": "markdown",
   "metadata": {
    "colab_type": "text",
    "id": "s-EBi_8HBhT3"
   },
   "source": [
    "Pode-se aplicar agregações diferentes para cada coluna com o uso de dicionário."
   ]
  },
  {
   "cell_type": "code",
   "execution_count": 19,
   "metadata": {
    "colab": {
     "base_uri": "https://localhost:8080/",
     "height": 206
    },
    "colab_type": "code",
    "executionInfo": {
     "elapsed": 723,
     "status": "ok",
     "timestamp": 1576354393807,
     "user": {
      "displayName": "Bruno Gomes Coelho",
      "photoUrl": "",
      "userId": "05092110984953098563"
     },
     "user_tz": 180
    },
    "id": "fcDG9Nm_CCYh",
    "outputId": "576e0155-ff8e-45f4-d7a5-46a24c29ac9b"
   },
   "outputs": [
    {
     "name": "stdout",
     "output_type": "stream",
     "text": [
      "   total_bill   tip     sex smoker  day    time  size\n",
      "0       16.99  1.01  Female     No  Sun  Dinner     2\n",
      "1       10.34  1.66    Male     No  Sun  Dinner     3\n",
      "2       21.01  3.50    Male     No  Sun  Dinner     3\n",
      "3       23.68  3.31    Male     No  Sun  Dinner     2\n",
      "4       24.59  3.61  Female     No  Sun  Dinner     4\n",
      "\n",
      "              tip  total_bill   day\n",
      "sex                               \n",
      "Female  2.833448       44.30  Thur\n",
      "Male    3.089618       50.81   Sat\n"
     ]
    }
   ],
   "source": [
    "print(df.head())\n",
    "# calculando a média das gorjetas, \n",
    "# o valor máximo das refeições \n",
    "# e o dia da semana mais frequente (moda) de cada grupo 'Male' e 'Female'\n",
    "dfm = df.groupby([\"sex\"]).agg({\"tip\": \"mean\", \n",
    "                         \"total_bill\": \"max\",\n",
    "                         \"day\": lambda x: x.mode()})\n",
    "\n",
    "\n",
    "print('\\n',dfm.head())"
   ]
  },
  {
   "cell_type": "code",
   "execution_count": 20,
   "metadata": {},
   "outputs": [
    {
     "name": "stdout",
     "output_type": "stream",
     "text": [
      "        mean_tip  max_bill most_freq_day\n",
      "sex                                     \n",
      "Female  2.833448     44.30          Thur\n",
      "Male    3.089618     50.81           Sat\n"
     ]
    }
   ],
   "source": [
    "# Pode-se renomear as colunas do DataFrame gerado durante a agregação\n",
    "# renomeando colunas com agg\n",
    "print(df.groupby([\"sex\"]).agg(mean_tip=(\"tip\", \"mean\"),\n",
    "                              max_bill=(\"total_bill\", \"max\"),\n",
    "                              most_freq_day=(\"day\", lambda x: x.mode())))"
   ]
  },
  {
   "cell_type": "markdown",
   "metadata": {
    "colab_type": "text",
    "id": "oYHW27Z4xOQA"
   },
   "source": [
    "## Métodos de filtragem"
   ]
  },
  {
   "cell_type": "markdown",
   "metadata": {
    "colab_type": "text",
    "id": "fCz55GwN54Uz"
   },
   "source": [
    "O método mais comum de filtragem é o <font color='blue'>filter </font>que retorna os elementos do grupo que satisfaz uma condição dada. "
   ]
  },
  {
   "cell_type": "code",
   "execution_count": 21,
   "metadata": {},
   "outputs": [
    {
     "data": {
      "text/html": [
       "<div>\n",
       "<style scoped>\n",
       "    .dataframe tbody tr th:only-of-type {\n",
       "        vertical-align: middle;\n",
       "    }\n",
       "\n",
       "    .dataframe tbody tr th {\n",
       "        vertical-align: top;\n",
       "    }\n",
       "\n",
       "    .dataframe thead th {\n",
       "        text-align: right;\n",
       "    }\n",
       "</style>\n",
       "<table border=\"1\" class=\"dataframe\">\n",
       "  <thead>\n",
       "    <tr style=\"text-align: right;\">\n",
       "      <th></th>\n",
       "      <th>key1</th>\n",
       "      <th>data0</th>\n",
       "      <th>data1</th>\n",
       "      <th>data2</th>\n",
       "    </tr>\n",
       "  </thead>\n",
       "  <tbody>\n",
       "    <tr>\n",
       "      <th>0</th>\n",
       "      <td>a</td>\n",
       "      <td>0.517975</td>\n",
       "      <td>0.373045</td>\n",
       "      <td>0.349020</td>\n",
       "    </tr>\n",
       "    <tr>\n",
       "      <th>1</th>\n",
       "      <td>c</td>\n",
       "      <td>0.237638</td>\n",
       "      <td>0.713401</td>\n",
       "      <td>0.603547</td>\n",
       "    </tr>\n",
       "    <tr>\n",
       "      <th>2</th>\n",
       "      <td>b</td>\n",
       "      <td>0.088928</td>\n",
       "      <td>0.219194</td>\n",
       "      <td>0.326275</td>\n",
       "    </tr>\n",
       "    <tr>\n",
       "      <th>3</th>\n",
       "      <td>c</td>\n",
       "      <td>0.999469</td>\n",
       "      <td>0.391202</td>\n",
       "      <td>0.048776</td>\n",
       "    </tr>\n",
       "    <tr>\n",
       "      <th>4</th>\n",
       "      <td>a</td>\n",
       "      <td>0.450734</td>\n",
       "      <td>0.112753</td>\n",
       "      <td>0.907612</td>\n",
       "    </tr>\n",
       "    <tr>\n",
       "      <th>5</th>\n",
       "      <td>a</td>\n",
       "      <td>0.038905</td>\n",
       "      <td>0.662078</td>\n",
       "      <td>0.187187</td>\n",
       "    </tr>\n",
       "    <tr>\n",
       "      <th>6</th>\n",
       "      <td>b</td>\n",
       "      <td>0.133389</td>\n",
       "      <td>0.726761</td>\n",
       "      <td>0.302730</td>\n",
       "    </tr>\n",
       "    <tr>\n",
       "      <th>7</th>\n",
       "      <td>a</td>\n",
       "      <td>0.244712</td>\n",
       "      <td>0.938400</td>\n",
       "      <td>0.010653</td>\n",
       "    </tr>\n",
       "    <tr>\n",
       "      <th>8</th>\n",
       "      <td>c</td>\n",
       "      <td>0.557584</td>\n",
       "      <td>0.759729</td>\n",
       "      <td>0.511679</td>\n",
       "    </tr>\n",
       "    <tr>\n",
       "      <th>9</th>\n",
       "      <td>b</td>\n",
       "      <td>0.910497</td>\n",
       "      <td>0.184807</td>\n",
       "      <td>0.663712</td>\n",
       "    </tr>\n",
       "  </tbody>\n",
       "</table>\n",
       "</div>"
      ],
      "text/plain": [
       "  key1     data0     data1     data2\n",
       "0    a  0.517975  0.373045  0.349020\n",
       "1    c  0.237638  0.713401  0.603547\n",
       "2    b  0.088928  0.219194  0.326275\n",
       "3    c  0.999469  0.391202  0.048776\n",
       "4    a  0.450734  0.112753  0.907612\n",
       "5    a  0.038905  0.662078  0.187187\n",
       "6    b  0.133389  0.726761  0.302730\n",
       "7    a  0.244712  0.938400  0.010653\n",
       "8    c  0.557584  0.759729  0.511679\n",
       "9    b  0.910497  0.184807  0.663712"
      ]
     },
     "execution_count": 21,
     "metadata": {},
     "output_type": "execute_result"
    }
   ],
   "source": [
    "# Construindo DataFrame a partir de um dicionário\n",
    "df = pd.DataFrame({'key1': ['a','c','b','c','a','a','b','a','c','b'],\n",
    "                  'data0': np.random.uniform(low=0,high=1,size=10),\n",
    "                  'data1': np.random.uniform(low=0,high=1,size=10),\n",
    "                  'data2': np.random.uniform(low=0,high=1,size=10)})\n",
    "\n",
    "df"
   ]
  },
  {
   "cell_type": "code",
   "execution_count": 22,
   "metadata": {
    "colab": {
     "base_uri": "https://localhost:8080/",
     "height": 424
    },
    "colab_type": "code",
    "executionInfo": {
     "elapsed": 860,
     "status": "ok",
     "timestamp": 1576352338482,
     "user": {
      "displayName": "Bruno Gomes Coelho",
      "photoUrl": "",
      "userId": "05092110984953098563"
     },
     "user_tz": 180
    },
    "id": "AH9VKTBYxN3P",
    "outputId": "9f5633e5-46b2-4580-8f17-a20f7fa11669"
   },
   "outputs": [
    {
     "name": "stdout",
     "output_type": "stream",
     "text": [
      "media da coluna \"data1\"\n",
      " 0.5081371604468143\n",
      "\n",
      "media de cada grupo\n",
      "          data0     data1     data2\n",
      "key1                              \n",
      "a     0.313081  0.521569  0.363618\n",
      "b     0.377605  0.376921  0.430906\n",
      "c     0.598230  0.621444  0.388001\n",
      "\n",
      " grupos cuja média da coluna \"data1\" é maior que a média geral de \"data1\"\n",
      "\n",
      "  key1     data0     data1     data2\n",
      "0    a  0.517975  0.373045  0.349020\n",
      "1    c  0.237638  0.713401  0.603547\n",
      "3    c  0.999469  0.391202  0.048776\n",
      "4    a  0.450734  0.112753  0.907612\n",
      "5    a  0.038905  0.662078  0.187187\n",
      "7    a  0.244712  0.938400  0.010653\n",
      "8    c  0.557584  0.759729  0.511679\n"
     ]
    }
   ],
   "source": [
    "# média geral da coluna 'data1'\n",
    "data1_mean = df['data1'].mean()\n",
    "print('media da coluna \"data1\"\\n',data1_mean)\n",
    "\n",
    "# calculando a média de cada coluna em cada grupo dado pela coluna 'key1'\n",
    "print('\\nmedia de cada grupo\\n',df.groupby('key1').mean())\n",
    "\n",
    "# filtrando os grupos cuja média da coluna 'data1' é maior que a média \n",
    "# geral da coluna 'data1'\n",
    "print('\\n grupos cuja média da coluna \"data1\" é maior que a média geral de \"data1\"\\n')\n",
    "print(df.groupby('key1').filter(lambda x : x['data1'].mean() > data1_mean))"
   ]
  },
  {
   "cell_type": "markdown",
   "metadata": {
    "colab_type": "text",
    "id": "Q6tDl55YbSiG"
   },
   "source": [
    "## Métodos de transformação"
   ]
  },
  {
   "cell_type": "markdown",
   "metadata": {
    "colab_type": "text",
    "id": "dH1Xwa6C_VO3"
   },
   "source": [
    "O método <font color='blue'>transform</font> retorna um DataFrame com o **mesmo número de linhas** que o DataFrame original. A transformação é realizada em cada elemento de cada grupo."
   ]
  },
  {
   "cell_type": "code",
   "execution_count": 23,
   "metadata": {},
   "outputs": [
    {
     "data": {
      "text/html": [
       "<div>\n",
       "<style scoped>\n",
       "    .dataframe tbody tr th:only-of-type {\n",
       "        vertical-align: middle;\n",
       "    }\n",
       "\n",
       "    .dataframe tbody tr th {\n",
       "        vertical-align: top;\n",
       "    }\n",
       "\n",
       "    .dataframe thead th {\n",
       "        text-align: right;\n",
       "    }\n",
       "</style>\n",
       "<table border=\"1\" class=\"dataframe\">\n",
       "  <thead>\n",
       "    <tr style=\"text-align: right;\">\n",
       "      <th></th>\n",
       "      <th>key1</th>\n",
       "      <th>data0</th>\n",
       "      <th>data1</th>\n",
       "      <th>data2</th>\n",
       "    </tr>\n",
       "  </thead>\n",
       "  <tbody>\n",
       "    <tr>\n",
       "      <th>0</th>\n",
       "      <td>a</td>\n",
       "      <td>0.967494</td>\n",
       "      <td>0.081787</td>\n",
       "      <td>0.962882</td>\n",
       "    </tr>\n",
       "    <tr>\n",
       "      <th>1</th>\n",
       "      <td>c</td>\n",
       "      <td>0.052489</td>\n",
       "      <td>0.885090</td>\n",
       "      <td>0.416153</td>\n",
       "    </tr>\n",
       "    <tr>\n",
       "      <th>2</th>\n",
       "      <td>b</td>\n",
       "      <td>0.202805</td>\n",
       "      <td>0.181397</td>\n",
       "      <td>0.578419</td>\n",
       "    </tr>\n",
       "    <tr>\n",
       "      <th>3</th>\n",
       "      <td>c</td>\n",
       "      <td>0.692162</td>\n",
       "      <td>0.356558</td>\n",
       "      <td>0.285763</td>\n",
       "    </tr>\n",
       "    <tr>\n",
       "      <th>4</th>\n",
       "      <td>a</td>\n",
       "      <td>0.726301</td>\n",
       "      <td>0.884525</td>\n",
       "      <td>0.714415</td>\n",
       "    </tr>\n",
       "    <tr>\n",
       "      <th>5</th>\n",
       "      <td>a</td>\n",
       "      <td>0.802088</td>\n",
       "      <td>0.265947</td>\n",
       "      <td>0.817542</td>\n",
       "    </tr>\n",
       "    <tr>\n",
       "      <th>6</th>\n",
       "      <td>b</td>\n",
       "      <td>0.403259</td>\n",
       "      <td>0.609231</td>\n",
       "      <td>0.544172</td>\n",
       "    </tr>\n",
       "    <tr>\n",
       "      <th>7</th>\n",
       "      <td>a</td>\n",
       "      <td>0.862732</td>\n",
       "      <td>0.988540</td>\n",
       "      <td>0.678309</td>\n",
       "    </tr>\n",
       "    <tr>\n",
       "      <th>8</th>\n",
       "      <td>c</td>\n",
       "      <td>0.779120</td>\n",
       "      <td>0.838887</td>\n",
       "      <td>0.925892</td>\n",
       "    </tr>\n",
       "    <tr>\n",
       "      <th>9</th>\n",
       "      <td>b</td>\n",
       "      <td>0.664307</td>\n",
       "      <td>0.760139</td>\n",
       "      <td>0.474840</td>\n",
       "    </tr>\n",
       "  </tbody>\n",
       "</table>\n",
       "</div>"
      ],
      "text/plain": [
       "  key1     data0     data1     data2\n",
       "0    a  0.967494  0.081787  0.962882\n",
       "1    c  0.052489  0.885090  0.416153\n",
       "2    b  0.202805  0.181397  0.578419\n",
       "3    c  0.692162  0.356558  0.285763\n",
       "4    a  0.726301  0.884525  0.714415\n",
       "5    a  0.802088  0.265947  0.817542\n",
       "6    b  0.403259  0.609231  0.544172\n",
       "7    a  0.862732  0.988540  0.678309\n",
       "8    c  0.779120  0.838887  0.925892\n",
       "9    b  0.664307  0.760139  0.474840"
      ]
     },
     "execution_count": 23,
     "metadata": {},
     "output_type": "execute_result"
    }
   ],
   "source": [
    "# Construindo DataFrame a partir de um dicionário\n",
    "df = pd.DataFrame({'key1': ['a','c','b','c','a','a','b','a','c','b'],\n",
    "                  'data0': np.random.uniform(low=0,high=1,size=10),\n",
    "                  'data1': np.random.uniform(low=0,high=1,size=10),\n",
    "                  'data2': np.random.uniform(low=0,high=1,size=10)})\n",
    "\n",
    "df"
   ]
  },
  {
   "cell_type": "code",
   "execution_count": 24,
   "metadata": {
    "colab": {
     "base_uri": "https://localhost:8080/",
     "height": 241
    },
    "colab_type": "code",
    "executionInfo": {
     "elapsed": 1229,
     "status": "ok",
     "timestamp": 1576354004420,
     "user": {
      "displayName": "Bruno Gomes Coelho",
      "photoUrl": "",
      "userId": "05092110984953098563"
     },
     "user_tz": 180
    },
    "id": "d5irFvBj_Ch_",
    "outputId": "16bf2268-b771-493b-b289-3c8f5c8a6c3d"
   },
   "outputs": [
    {
     "name": "stdout",
     "output_type": "stream",
     "text": [
      "média de cada grupo\n",
      "          data0     data1     data2\n",
      "key1                              \n",
      "a     0.839654  0.555200  0.793287\n",
      "b     0.423457  0.516922  0.532477\n",
      "c     0.507924  0.693512  0.542603\n",
      "\n",
      "   key1     data0     data1     data2        d1        d2        d3\n",
      "0    a  0.967494  0.081787  0.962882  0.127840 -0.473413  0.169595\n",
      "1    c  0.052489  0.885090  0.416153 -0.455434  0.191578 -0.126450\n",
      "2    b  0.202805  0.181397  0.578419 -0.220652 -0.335525  0.045942\n",
      "3    c  0.692162  0.356558  0.285763  0.184238 -0.336954 -0.256839\n",
      "4    a  0.726301  0.884525  0.714415 -0.113353  0.329325 -0.078872\n",
      "5    a  0.802088  0.265947  0.817542 -0.037566 -0.289253  0.024255\n",
      "6    b  0.403259  0.609231  0.544172 -0.020198  0.092309  0.011695\n",
      "7    a  0.862732  0.988540  0.678309  0.023078  0.433341 -0.114978\n",
      "8    c  0.779120  0.838887  0.925892  0.271196  0.145376  0.383289\n",
      "9    b  0.664307  0.760139  0.474840  0.240850  0.243217 -0.057637\n"
     ]
    }
   ],
   "source": [
    "# Calcula a diferença entre a média do grupo e \n",
    "# o elemento do grupo (em cada coluna)\n",
    "print('média de cada grupo\\n',df.groupby(\"key1\").mean())\n",
    "\n",
    "df[['d1','d2','d3']] = df.groupby(\"key1\").transform(lambda x: x-x.mean())\n",
    "print('\\n',df)"
   ]
  },
  {
   "cell_type": "markdown",
   "metadata": {},
   "source": [
    "O método <font color='blue'>apply</font> aplica uma função em cada grupo e retorna um DataFrame com o resultado da função em cada grupo. Os rótulos das linhas do DataFrame gerado são os identificadores dos grupos. O método <font color='blue'>apply</font> é o mais versátil dos métodos de transformação."
   ]
  },
  {
   "cell_type": "code",
   "execution_count": 25,
   "metadata": {},
   "outputs": [
    {
     "data": {
      "text/html": [
       "<div>\n",
       "<style scoped>\n",
       "    .dataframe tbody tr th:only-of-type {\n",
       "        vertical-align: middle;\n",
       "    }\n",
       "\n",
       "    .dataframe tbody tr th {\n",
       "        vertical-align: top;\n",
       "    }\n",
       "\n",
       "    .dataframe thead th {\n",
       "        text-align: right;\n",
       "    }\n",
       "</style>\n",
       "<table border=\"1\" class=\"dataframe\">\n",
       "  <thead>\n",
       "    <tr style=\"text-align: right;\">\n",
       "      <th></th>\n",
       "      <th>key1</th>\n",
       "      <th>data0</th>\n",
       "      <th>data1</th>\n",
       "      <th>data2</th>\n",
       "    </tr>\n",
       "  </thead>\n",
       "  <tbody>\n",
       "    <tr>\n",
       "      <th>0</th>\n",
       "      <td>a</td>\n",
       "      <td>0.403303</td>\n",
       "      <td>0.043622</td>\n",
       "      <td>0.284941</td>\n",
       "    </tr>\n",
       "    <tr>\n",
       "      <th>1</th>\n",
       "      <td>c</td>\n",
       "      <td>0.653404</td>\n",
       "      <td>0.922799</td>\n",
       "      <td>0.575053</td>\n",
       "    </tr>\n",
       "    <tr>\n",
       "      <th>2</th>\n",
       "      <td>b</td>\n",
       "      <td>0.971298</td>\n",
       "      <td>0.479373</td>\n",
       "      <td>0.663790</td>\n",
       "    </tr>\n",
       "    <tr>\n",
       "      <th>3</th>\n",
       "      <td>c</td>\n",
       "      <td>0.620196</td>\n",
       "      <td>0.710511</td>\n",
       "      <td>0.092224</td>\n",
       "    </tr>\n",
       "    <tr>\n",
       "      <th>4</th>\n",
       "      <td>a</td>\n",
       "      <td>0.807427</td>\n",
       "      <td>0.205944</td>\n",
       "      <td>0.052277</td>\n",
       "    </tr>\n",
       "    <tr>\n",
       "      <th>5</th>\n",
       "      <td>a</td>\n",
       "      <td>0.403620</td>\n",
       "      <td>0.135689</td>\n",
       "      <td>0.503220</td>\n",
       "    </tr>\n",
       "    <tr>\n",
       "      <th>6</th>\n",
       "      <td>b</td>\n",
       "      <td>0.144151</td>\n",
       "      <td>0.690531</td>\n",
       "      <td>0.533616</td>\n",
       "    </tr>\n",
       "    <tr>\n",
       "      <th>7</th>\n",
       "      <td>a</td>\n",
       "      <td>0.027389</td>\n",
       "      <td>0.113383</td>\n",
       "      <td>0.149311</td>\n",
       "    </tr>\n",
       "    <tr>\n",
       "      <th>8</th>\n",
       "      <td>c</td>\n",
       "      <td>0.546205</td>\n",
       "      <td>0.225984</td>\n",
       "      <td>0.381562</td>\n",
       "    </tr>\n",
       "    <tr>\n",
       "      <th>9</th>\n",
       "      <td>b</td>\n",
       "      <td>0.207067</td>\n",
       "      <td>0.357203</td>\n",
       "      <td>0.738705</td>\n",
       "    </tr>\n",
       "  </tbody>\n",
       "</table>\n",
       "</div>"
      ],
      "text/plain": [
       "  key1     data0     data1     data2\n",
       "0    a  0.403303  0.043622  0.284941\n",
       "1    c  0.653404  0.922799  0.575053\n",
       "2    b  0.971298  0.479373  0.663790\n",
       "3    c  0.620196  0.710511  0.092224\n",
       "4    a  0.807427  0.205944  0.052277\n",
       "5    a  0.403620  0.135689  0.503220\n",
       "6    b  0.144151  0.690531  0.533616\n",
       "7    a  0.027389  0.113383  0.149311\n",
       "8    c  0.546205  0.225984  0.381562\n",
       "9    b  0.207067  0.357203  0.738705"
      ]
     },
     "execution_count": 25,
     "metadata": {},
     "output_type": "execute_result"
    }
   ],
   "source": [
    "# Construindo DataFrame a partir de um dicionário\n",
    "df = pd.DataFrame({'key1': ['a','c','b','c','a','a','b','a','c','b'],\n",
    "                  'data0': np.random.uniform(low=0,high=1,size=10),\n",
    "                  'data1': np.random.uniform(low=0,high=1,size=10),\n",
    "                  'data2': np.random.uniform(low=0,high=1,size=10)})\n",
    "\n",
    "df"
   ]
  },
  {
   "cell_type": "code",
   "execution_count": 26,
   "metadata": {},
   "outputs": [
    {
     "name": "stdout",
     "output_type": "stream",
     "text": [
      "         data0     data1     data2\n",
      "key1                              \n",
      "a     0.780038  0.162322  0.450943\n",
      "b     0.827147  0.333328  0.205089\n",
      "c     0.107199  0.696814  0.482829\n",
      "key1\n",
      "a    0.162322\n",
      "b    0.205089\n",
      "c    0.107199\n",
      "dtype: float64\n"
     ]
    }
   ],
   "source": [
    "# agrupando pela coluna 'key1' e calculando a \n",
    "# diferença entre o maior e o menor valor de cada coluna em cada grupo\n",
    "# e retornando a menor diferença\n",
    "\n",
    "# diferença entre o maior e menor valor em cada coluna em cada grupo\n",
    "print(df.groupby('key1').apply(lambda x: (x.max()-x.min())))\n",
    "\n",
    "# menor diferença em cada grupo\n",
    "max_min = df.groupby('key1').apply(lambda x: (x.max()-x.min()).sort_values()[0])\n",
    "print(max_min)"
   ]
  },
  {
   "cell_type": "markdown",
   "metadata": {
    "colab_type": "text",
    "id": "ChkhhAl0hNkc"
   },
   "source": [
    "**Comentário: MapReduce**\n",
    "\n",
    "Embora frequentemente chamamos qualquer operação split-apply-combine de _MapReduce_, originalmente esse nome foi dado ao modelo de programação desenvolvido pela Apache.\n",
    "\n",
    "Sua funcionalidade é a mesma do _GroupBy_ do Pandas, porém foi implementado para operar em grandes volumes de dados utilizando algoritmos distribuidos em uma arquitetura de computação paralela (cluster de computadores), garantindo que cada máquina opere sobre um subconjunto específico dos dados, sendo o padrão para tecnologias de Big Data como [Hadoop](https://hadoop.apache.org/)\n"
   ]
  }
 ],
 "metadata": {
  "colab": {
   "collapsed_sections": [],
   "name": "Pandas II.ipynb",
   "provenance": []
  },
  "kernelspec": {
   "display_name": "Python 3",
   "language": "python",
   "name": "python3"
  },
  "language_info": {
   "codemirror_mode": {
    "name": "ipython",
    "version": 3
   },
   "file_extension": ".py",
   "mimetype": "text/x-python",
   "name": "python",
   "nbconvert_exporter": "python",
   "pygments_lexer": "ipython3",
   "version": "3.8.10"
  },
  "toc": {
   "base_numbering": 1,
   "nav_menu": {},
   "number_sections": true,
   "sideBar": true,
   "skip_h1_title": false,
   "title_cell": "Table of Contents",
   "title_sidebar": "Contents",
   "toc_cell": false,
   "toc_position": {},
   "toc_section_display": true,
   "toc_window_display": false
  }
 },
 "nbformat": 4,
 "nbformat_minor": 1
}
